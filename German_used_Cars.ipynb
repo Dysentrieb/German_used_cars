{
 "cells": [
  {
   "cell_type": "markdown",
   "metadata": {},
   "source": [
    "# Evaluation of the german used car market applying data science\n",
    "\n",
    "In this notebook, a deeper look on the german used car market is applied, using the \"Used cars database\" from Kaggle, supplied by Orges Leka in 2016. The dataset contains over 370.000 used car adds from ebay-kleinanzeigen. For the analysis and modelling, the Cross Industry Standard Process for Data Mining (CRISP-DM) is applied. The dataset is available here:  https://www.kaggle.com/orgesleka/used-cars-database"
   ]
  },
  {
   "cell_type": "markdown",
   "metadata": {},
   "source": [
    "## Step 1: Business Understanding\n",
    "\n",
    "Germany is a car-nation. Not only it is home to several of the worlds largest car manufacturers, like BMW, Mercedes-Benz and VW, there is also a huge number of car owners. According to the Kraftfahrt-Bundesamt, the german authority responsible for cars, in the beginning of 2019 64,8 million cars and trailers with an average age of 9.5 years were registered (https://www.kba.de/DE/Statistik/Fahrzeuge/Bestand/bestand_node.html). A huge market like this also has a big market for used cars. In the following, this market is being analyzed and several questions shall be answered:\n",
    "\n",
    "1. What are the most common vehicle types?\n",
    "2. Which brands are predominant on the german used cars market?\n",
    "3. What is the average age of cars on the german used cars market?\n",
    "4. Are there local differences? How are the offers distributed over Germany?\n",
    "5. Concerning motorization: Which fuel-systems are preferred? What is the average motor-power?\n",
    "6. What is the distribution of sale prizes?\n",
    "7. What is a common mileage for used cars?\n",
    "8. Can a car value be predicted by using features from the add?"
   ]
  },
  {
   "cell_type": "markdown",
   "metadata": {},
   "source": [
    "## Step 2: Data Understanding\n",
    "\n",
    "In the following, the required libraries as well as the data is being imported, and some basic statistics about the data are examined."
   ]
  },
  {
   "cell_type": "code",
   "execution_count": 100,
   "metadata": {
    "_cell_guid": "b1076dfc-b9ad-4769-8c92-a6c4dae69d19",
    "_uuid": "8f2839f25d086af736a60e9eeb907d3b93b6e0e5"
   },
   "outputs": [],
   "source": [
    "# Import librariers\n",
    "\n",
    "# Basic libraries\n",
    "import numpy as np\n",
    "import pandas as pd\n",
    "\n",
    "# Plot data\n",
    "import matplotlib.pyplot as plt\n",
    "%matplotlib inline\n",
    "\n",
    "# Others\n",
    "from scipy.stats import kde\n",
    "import pickle\n",
    "\n",
    "# Sklearn\n",
    "#from sklearn.preprocessing import normalize\n",
    "#from sklearn.preprocessing import StandardScaler\n",
    "#from sklearn.preprocessing import scale\n",
    "\n",
    "from sklearn.model_selection import train_test_split\n",
    "from sklearn.linear_model import Ridge\n",
    "from sklearn.svm import SVR\n",
    "from sklearn.ensemble import BaggingRegressor\n",
    "from sklearn.ensemble import GradientBoostingRegressor\n",
    "from sklearn.metrics import explained_variance_score\n",
    "from sklearn.metrics import mean_squared_error\n",
    "from sklearn.metrics import r2_score\n",
    "from sklearn.model_selection import GridSearchCV\n",
    "from xgboost import XGBRegressor"
   ]
  },
  {
   "cell_type": "code",
   "execution_count": 2,
   "metadata": {
    "_cell_guid": "79c7e3d0-c299-4dcb-8224-4455121ee9b0",
    "_uuid": "d629ff2d2480ee46fbb7e2d37f6b5fab8052498a"
   },
   "outputs": [],
   "source": [
    "# Read in data from csv files downloaded from https://www.kaggle.com/orgesleka/used-cars-database and save to dataframe\n",
    "df_autos = pd.read_csv('autos.csv', encoding='latin8')"
   ]
  },
  {
   "cell_type": "code",
   "execution_count": 3,
   "metadata": {},
   "outputs": [
    {
     "name": "stdout",
     "output_type": "stream",
     "text": [
      "Exact number of entries/rows in df_autos: 371528\n",
      "Number of features/columns in df_autos: 20\n",
      "Feature/Column-names in df_autos: ['dateCrawled' 'name' 'seller' 'offerType' 'price' 'abtest' 'vehicleType'\n",
      " 'yearOfRegistration' 'gearbox' 'powerPS' 'model' 'kilometer'\n",
      " 'monthOfRegistration' 'fuelType' 'brand' 'notRepairedDamage'\n",
      " 'dateCreated' 'nrOfPictures' 'postalCode' 'lastSeen']\n"
     ]
    }
   ],
   "source": [
    "# Print data about data\n",
    "print('Exact number of entries/rows in df_autos: {}'.format(df_autos.shape[0]))\n",
    "print('Number of features/columns in df_autos: {}'.format(df_autos.shape[1]))\n",
    "print('Feature/Column-names in df_autos: {}'.format(df_autos.columns.values))"
   ]
  },
  {
   "cell_type": "code",
   "execution_count": 4,
   "metadata": {},
   "outputs": [
    {
     "data": {
      "text/plain": [
       "(371528, 20)"
      ]
     },
     "execution_count": 4,
     "metadata": {},
     "output_type": "execute_result"
    }
   ],
   "source": [
    "df_autos.shape"
   ]
  },
  {
   "cell_type": "code",
   "execution_count": 5,
   "metadata": {
    "scrolled": true
   },
   "outputs": [
    {
     "data": {
      "text/html": [
       "<div>\n",
       "<style scoped>\n",
       "    .dataframe tbody tr th:only-of-type {\n",
       "        vertical-align: middle;\n",
       "    }\n",
       "\n",
       "    .dataframe tbody tr th {\n",
       "        vertical-align: top;\n",
       "    }\n",
       "\n",
       "    .dataframe thead th {\n",
       "        text-align: right;\n",
       "    }\n",
       "</style>\n",
       "<table border=\"1\" class=\"dataframe\">\n",
       "  <thead>\n",
       "    <tr style=\"text-align: right;\">\n",
       "      <th></th>\n",
       "      <th>price</th>\n",
       "      <th>yearOfRegistration</th>\n",
       "      <th>powerPS</th>\n",
       "      <th>kilometer</th>\n",
       "      <th>monthOfRegistration</th>\n",
       "      <th>nrOfPictures</th>\n",
       "      <th>postalCode</th>\n",
       "    </tr>\n",
       "  </thead>\n",
       "  <tbody>\n",
       "    <tr>\n",
       "      <td>count</td>\n",
       "      <td>3.715280e+05</td>\n",
       "      <td>371528.000000</td>\n",
       "      <td>371528.000000</td>\n",
       "      <td>371528.000000</td>\n",
       "      <td>371528.000000</td>\n",
       "      <td>371528.0</td>\n",
       "      <td>371528.00000</td>\n",
       "    </tr>\n",
       "    <tr>\n",
       "      <td>mean</td>\n",
       "      <td>1.729514e+04</td>\n",
       "      <td>2004.577997</td>\n",
       "      <td>115.549477</td>\n",
       "      <td>125618.688228</td>\n",
       "      <td>5.734445</td>\n",
       "      <td>0.0</td>\n",
       "      <td>50820.66764</td>\n",
       "    </tr>\n",
       "    <tr>\n",
       "      <td>std</td>\n",
       "      <td>3.587954e+06</td>\n",
       "      <td>92.866598</td>\n",
       "      <td>192.139578</td>\n",
       "      <td>40112.337051</td>\n",
       "      <td>3.712412</td>\n",
       "      <td>0.0</td>\n",
       "      <td>25799.08247</td>\n",
       "    </tr>\n",
       "    <tr>\n",
       "      <td>min</td>\n",
       "      <td>0.000000e+00</td>\n",
       "      <td>1000.000000</td>\n",
       "      <td>0.000000</td>\n",
       "      <td>5000.000000</td>\n",
       "      <td>0.000000</td>\n",
       "      <td>0.0</td>\n",
       "      <td>1067.00000</td>\n",
       "    </tr>\n",
       "    <tr>\n",
       "      <td>25%</td>\n",
       "      <td>1.150000e+03</td>\n",
       "      <td>1999.000000</td>\n",
       "      <td>70.000000</td>\n",
       "      <td>125000.000000</td>\n",
       "      <td>3.000000</td>\n",
       "      <td>0.0</td>\n",
       "      <td>30459.00000</td>\n",
       "    </tr>\n",
       "    <tr>\n",
       "      <td>50%</td>\n",
       "      <td>2.950000e+03</td>\n",
       "      <td>2003.000000</td>\n",
       "      <td>105.000000</td>\n",
       "      <td>150000.000000</td>\n",
       "      <td>6.000000</td>\n",
       "      <td>0.0</td>\n",
       "      <td>49610.00000</td>\n",
       "    </tr>\n",
       "    <tr>\n",
       "      <td>75%</td>\n",
       "      <td>7.200000e+03</td>\n",
       "      <td>2008.000000</td>\n",
       "      <td>150.000000</td>\n",
       "      <td>150000.000000</td>\n",
       "      <td>9.000000</td>\n",
       "      <td>0.0</td>\n",
       "      <td>71546.00000</td>\n",
       "    </tr>\n",
       "    <tr>\n",
       "      <td>max</td>\n",
       "      <td>2.147484e+09</td>\n",
       "      <td>9999.000000</td>\n",
       "      <td>20000.000000</td>\n",
       "      <td>150000.000000</td>\n",
       "      <td>12.000000</td>\n",
       "      <td>0.0</td>\n",
       "      <td>99998.00000</td>\n",
       "    </tr>\n",
       "  </tbody>\n",
       "</table>\n",
       "</div>"
      ],
      "text/plain": [
       "              price  yearOfRegistration        powerPS      kilometer  \\\n",
       "count  3.715280e+05       371528.000000  371528.000000  371528.000000   \n",
       "mean   1.729514e+04         2004.577997     115.549477  125618.688228   \n",
       "std    3.587954e+06           92.866598     192.139578   40112.337051   \n",
       "min    0.000000e+00         1000.000000       0.000000    5000.000000   \n",
       "25%    1.150000e+03         1999.000000      70.000000  125000.000000   \n",
       "50%    2.950000e+03         2003.000000     105.000000  150000.000000   \n",
       "75%    7.200000e+03         2008.000000     150.000000  150000.000000   \n",
       "max    2.147484e+09         9999.000000   20000.000000  150000.000000   \n",
       "\n",
       "       monthOfRegistration  nrOfPictures    postalCode  \n",
       "count        371528.000000      371528.0  371528.00000  \n",
       "mean              5.734445           0.0   50820.66764  \n",
       "std               3.712412           0.0   25799.08247  \n",
       "min               0.000000           0.0    1067.00000  \n",
       "25%               3.000000           0.0   30459.00000  \n",
       "50%               6.000000           0.0   49610.00000  \n",
       "75%               9.000000           0.0   71546.00000  \n",
       "max              12.000000           0.0   99998.00000  "
      ]
     },
     "execution_count": 5,
     "metadata": {},
     "output_type": "execute_result"
    }
   ],
   "source": [
    "# Basic statistics about the numeral values:\n",
    "df_autos.describe()"
   ]
  },
  {
   "cell_type": "code",
   "execution_count": 6,
   "metadata": {},
   "outputs": [
    {
     "data": {
      "text/html": [
       "<div>\n",
       "<style scoped>\n",
       "    .dataframe tbody tr th:only-of-type {\n",
       "        vertical-align: middle;\n",
       "    }\n",
       "\n",
       "    .dataframe tbody tr th {\n",
       "        vertical-align: top;\n",
       "    }\n",
       "\n",
       "    .dataframe thead th {\n",
       "        text-align: right;\n",
       "    }\n",
       "</style>\n",
       "<table border=\"1\" class=\"dataframe\">\n",
       "  <thead>\n",
       "    <tr style=\"text-align: right;\">\n",
       "      <th></th>\n",
       "      <th>dateCrawled</th>\n",
       "      <th>name</th>\n",
       "      <th>seller</th>\n",
       "      <th>offerType</th>\n",
       "      <th>price</th>\n",
       "      <th>abtest</th>\n",
       "      <th>vehicleType</th>\n",
       "      <th>yearOfRegistration</th>\n",
       "      <th>gearbox</th>\n",
       "      <th>powerPS</th>\n",
       "      <th>model</th>\n",
       "      <th>kilometer</th>\n",
       "      <th>monthOfRegistration</th>\n",
       "      <th>fuelType</th>\n",
       "      <th>brand</th>\n",
       "      <th>notRepairedDamage</th>\n",
       "      <th>dateCreated</th>\n",
       "      <th>nrOfPictures</th>\n",
       "      <th>postalCode</th>\n",
       "      <th>lastSeen</th>\n",
       "    </tr>\n",
       "  </thead>\n",
       "  <tbody>\n",
       "    <tr>\n",
       "      <td>0</td>\n",
       "      <td>2016-03-24 11:52:17</td>\n",
       "      <td>Golf_3_1.6</td>\n",
       "      <td>privat</td>\n",
       "      <td>Angebot</td>\n",
       "      <td>480</td>\n",
       "      <td>test</td>\n",
       "      <td>NaN</td>\n",
       "      <td>1993</td>\n",
       "      <td>manuell</td>\n",
       "      <td>0</td>\n",
       "      <td>golf</td>\n",
       "      <td>150000</td>\n",
       "      <td>0</td>\n",
       "      <td>benzin</td>\n",
       "      <td>volkswagen</td>\n",
       "      <td>NaN</td>\n",
       "      <td>2016-03-24 00:00:00</td>\n",
       "      <td>0</td>\n",
       "      <td>70435</td>\n",
       "      <td>2016-04-07 03:16:57</td>\n",
       "    </tr>\n",
       "    <tr>\n",
       "      <td>1</td>\n",
       "      <td>2016-03-24 10:58:45</td>\n",
       "      <td>A5_Sportback_2.7_Tdi</td>\n",
       "      <td>privat</td>\n",
       "      <td>Angebot</td>\n",
       "      <td>18300</td>\n",
       "      <td>test</td>\n",
       "      <td>coupe</td>\n",
       "      <td>2011</td>\n",
       "      <td>manuell</td>\n",
       "      <td>190</td>\n",
       "      <td>NaN</td>\n",
       "      <td>125000</td>\n",
       "      <td>5</td>\n",
       "      <td>diesel</td>\n",
       "      <td>audi</td>\n",
       "      <td>ja</td>\n",
       "      <td>2016-03-24 00:00:00</td>\n",
       "      <td>0</td>\n",
       "      <td>66954</td>\n",
       "      <td>2016-04-07 01:46:50</td>\n",
       "    </tr>\n",
       "    <tr>\n",
       "      <td>2</td>\n",
       "      <td>2016-03-14 12:52:21</td>\n",
       "      <td>Jeep_Grand_Cherokee_\"Overland\"</td>\n",
       "      <td>privat</td>\n",
       "      <td>Angebot</td>\n",
       "      <td>9800</td>\n",
       "      <td>test</td>\n",
       "      <td>suv</td>\n",
       "      <td>2004</td>\n",
       "      <td>automatik</td>\n",
       "      <td>163</td>\n",
       "      <td>grand</td>\n",
       "      <td>125000</td>\n",
       "      <td>8</td>\n",
       "      <td>diesel</td>\n",
       "      <td>jeep</td>\n",
       "      <td>NaN</td>\n",
       "      <td>2016-03-14 00:00:00</td>\n",
       "      <td>0</td>\n",
       "      <td>90480</td>\n",
       "      <td>2016-04-05 12:47:46</td>\n",
       "    </tr>\n",
       "    <tr>\n",
       "      <td>3</td>\n",
       "      <td>2016-03-17 16:54:04</td>\n",
       "      <td>GOLF_4_1_4__3TÜRER</td>\n",
       "      <td>privat</td>\n",
       "      <td>Angebot</td>\n",
       "      <td>1500</td>\n",
       "      <td>test</td>\n",
       "      <td>kleinwagen</td>\n",
       "      <td>2001</td>\n",
       "      <td>manuell</td>\n",
       "      <td>75</td>\n",
       "      <td>golf</td>\n",
       "      <td>150000</td>\n",
       "      <td>6</td>\n",
       "      <td>benzin</td>\n",
       "      <td>volkswagen</td>\n",
       "      <td>nein</td>\n",
       "      <td>2016-03-17 00:00:00</td>\n",
       "      <td>0</td>\n",
       "      <td>91074</td>\n",
       "      <td>2016-03-17 17:40:17</td>\n",
       "    </tr>\n",
       "    <tr>\n",
       "      <td>4</td>\n",
       "      <td>2016-03-31 17:25:20</td>\n",
       "      <td>Skoda_Fabia_1.4_TDI_PD_Classic</td>\n",
       "      <td>privat</td>\n",
       "      <td>Angebot</td>\n",
       "      <td>3600</td>\n",
       "      <td>test</td>\n",
       "      <td>kleinwagen</td>\n",
       "      <td>2008</td>\n",
       "      <td>manuell</td>\n",
       "      <td>69</td>\n",
       "      <td>fabia</td>\n",
       "      <td>90000</td>\n",
       "      <td>7</td>\n",
       "      <td>diesel</td>\n",
       "      <td>skoda</td>\n",
       "      <td>nein</td>\n",
       "      <td>2016-03-31 00:00:00</td>\n",
       "      <td>0</td>\n",
       "      <td>60437</td>\n",
       "      <td>2016-04-06 10:17:21</td>\n",
       "    </tr>\n",
       "  </tbody>\n",
       "</table>\n",
       "</div>"
      ],
      "text/plain": [
       "           dateCrawled                            name  seller offerType  \\\n",
       "0  2016-03-24 11:52:17                      Golf_3_1.6  privat   Angebot   \n",
       "1  2016-03-24 10:58:45            A5_Sportback_2.7_Tdi  privat   Angebot   \n",
       "2  2016-03-14 12:52:21  Jeep_Grand_Cherokee_\"Overland\"  privat   Angebot   \n",
       "3  2016-03-17 16:54:04              GOLF_4_1_4__3TÜRER  privat   Angebot   \n",
       "4  2016-03-31 17:25:20  Skoda_Fabia_1.4_TDI_PD_Classic  privat   Angebot   \n",
       "\n",
       "   price abtest vehicleType  yearOfRegistration    gearbox  powerPS  model  \\\n",
       "0    480   test         NaN                1993    manuell        0   golf   \n",
       "1  18300   test       coupe                2011    manuell      190    NaN   \n",
       "2   9800   test         suv                2004  automatik      163  grand   \n",
       "3   1500   test  kleinwagen                2001    manuell       75   golf   \n",
       "4   3600   test  kleinwagen                2008    manuell       69  fabia   \n",
       "\n",
       "   kilometer  monthOfRegistration fuelType       brand notRepairedDamage  \\\n",
       "0     150000                    0   benzin  volkswagen               NaN   \n",
       "1     125000                    5   diesel        audi                ja   \n",
       "2     125000                    8   diesel        jeep               NaN   \n",
       "3     150000                    6   benzin  volkswagen              nein   \n",
       "4      90000                    7   diesel       skoda              nein   \n",
       "\n",
       "           dateCreated  nrOfPictures  postalCode             lastSeen  \n",
       "0  2016-03-24 00:00:00             0       70435  2016-04-07 03:16:57  \n",
       "1  2016-03-24 00:00:00             0       66954  2016-04-07 01:46:50  \n",
       "2  2016-03-14 00:00:00             0       90480  2016-04-05 12:47:46  \n",
       "3  2016-03-17 00:00:00             0       91074  2016-03-17 17:40:17  \n",
       "4  2016-03-31 00:00:00             0       60437  2016-04-06 10:17:21  "
      ]
     },
     "execution_count": 6,
     "metadata": {},
     "output_type": "execute_result"
    }
   ],
   "source": [
    "# Have a first look at the data:\n",
    "df_autos.head()"
   ]
  },
  {
   "cell_type": "markdown",
   "metadata": {},
   "source": [
    "What already can be noticed is that there are several NaN values in the data, as well as columns, which might contain data, that is not very useful in the following. Lateron, I will deal with the NaN-values. Also it seems that certain columns might be less useful than others or might not have any use at all. Let's check that by evaluating the distinct values and their counts of certain columns:"
   ]
  },
  {
   "cell_type": "code",
   "execution_count": 7,
   "metadata": {},
   "outputs": [
    {
     "name": "stdout",
     "output_type": "stream",
     "text": [
      "(array(['Angebot', 'Gesuch'], dtype=object), array([371516,     12], dtype=int64))\n",
      "(array(['control', 'test'], dtype=object), array([178943, 192585], dtype=int64))\n",
      "(array([0], dtype=int64), array([371528], dtype=int64))\n",
      "(array(['gewerblich', 'privat'], dtype=object), array([     3, 371525], dtype=int64))\n"
     ]
    }
   ],
   "source": [
    "# Check column values for relevance and drop irrelevant columns\n",
    "print(np.unique(df_autos['offerType'],return_counts=True))\n",
    "print(np.unique(df_autos['abtest'],return_counts=True))\n",
    "print(np.unique(df_autos['nrOfPictures'],return_counts=True))\n",
    "print(np.unique(df_autos['seller'],return_counts=True))"
   ]
  },
  {
   "cell_type": "markdown",
   "metadata": {},
   "source": [
    "- 'offerType' contains the values 'Angebot' and 'Gesuch', which translates to 'Offer' and 'Requested'. As there are only 12 Requests, those colum as well as the requests themselves are dropped.\n",
    "- 'abtest': No importance on the analysis. Drop.\n",
    "- 'nrOfPictures' will be dropped, as there are 0-entries only\n",
    "- 'seller' contains only 3 'gewerblich' (commercial sellers) only, the rest are private sellers. Column will be dropped.\n",
    "- 'dateCrawled': No importance on the analysis. Drop.\n",
    "- 'monthOfRegistration': To keep things easy, we will focus on the year only. Drop.\n",
    "- 'dateCreated': No importance on the analysis. Drop.\n",
    "- 'lastSeen': No importance on the analysis. Drop.\n",
    "- 'name': This column might contain useful information, yet the effort to use it is a lot higher than for the other features, as it is free text. To keep things simple, it is dropped."
   ]
  },
  {
   "cell_type": "code",
   "execution_count": 8,
   "metadata": {},
   "outputs": [
    {
     "data": {
      "text/plain": [
       "dateCrawled                0\n",
       "name                       0\n",
       "seller                     0\n",
       "offerType                  0\n",
       "price                      0\n",
       "abtest                     0\n",
       "vehicleType            37869\n",
       "yearOfRegistration         0\n",
       "gearbox                20209\n",
       "powerPS                    0\n",
       "model                  20484\n",
       "kilometer                  0\n",
       "monthOfRegistration        0\n",
       "fuelType               33386\n",
       "brand                      0\n",
       "notRepairedDamage      72060\n",
       "dateCreated                0\n",
       "nrOfPictures               0\n",
       "postalCode                 0\n",
       "lastSeen                   0\n",
       "dtype: int64"
      ]
     },
     "execution_count": 8,
     "metadata": {},
     "output_type": "execute_result"
    }
   ],
   "source": [
    "# Having a more detailed look on the NaNs by columns:\n",
    "df_autos.isnull().sum(axis = 0)"
   ]
  },
  {
   "cell_type": "markdown",
   "metadata": {},
   "source": [
    "So there is a big number of NaN-values, especially with notRepairedDamage or vehicleType. I will have to deal with that when it comes to preparing for the modelling to predict prizes. For the other questions, it is less of a problem, the NaN-values will be dropped separately for every analysis."
   ]
  },
  {
   "cell_type": "markdown",
   "metadata": {},
   "source": [
    "'yearOfRegistration' does not have any missing values, but it seems like there are some values contained, that obviously don't make sense:"
   ]
  },
  {
   "cell_type": "code",
   "execution_count": 9,
   "metadata": {
    "scrolled": true
   },
   "outputs": [
    {
     "name": "stdout",
     "output_type": "stream",
     "text": [
      "(array([1000, 1001, 1039, 1111, 1200, 1234, 1253, 1255, 1300, 1400, 1500,\n",
      "       1600, 1602, 1688, 1800, 1910, 1911, 1915, 1919, 1920, 1923, 1925,\n",
      "       1927, 1928, 1929, 1930, 1931, 1932, 1933, 1934, 1935, 1936, 1937,\n",
      "       1938, 1939, 1940, 1941, 1942, 1943, 1944, 1945, 1946, 1947, 1948,\n",
      "       1949, 1950, 1951, 1952, 1953, 1954, 1955, 1956, 1957, 1958, 1959,\n",
      "       1960, 1961, 1962, 1963, 1964, 1965, 1966, 1967, 1968, 1969, 1970,\n",
      "       1971, 1972, 1973, 1974, 1975, 1976, 1977, 1978, 1979, 1980, 1981,\n",
      "       1982, 1983, 1984, 1985, 1986, 1987, 1988, 1989, 1990, 1991, 1992,\n",
      "       1993, 1994, 1995, 1996, 1997, 1998, 1999, 2000, 2001, 2002, 2003,\n",
      "       2004, 2005, 2006, 2007, 2008, 2009, 2010, 2011, 2012, 2013, 2014,\n",
      "       2015, 2016, 2017, 2018, 2019, 2066, 2200, 2222, 2290, 2500, 2800,\n",
      "       2900, 3000, 3200, 3500, 3700, 3800, 4000, 4100, 4500, 4800, 5000,\n",
      "       5300, 5555, 5600, 5900, 5911, 6000, 6200, 6500, 7000, 7100, 7500,\n",
      "       7777, 7800, 8000, 8200, 8455, 8500, 8888, 9000, 9229, 9450, 9996,\n",
      "       9999], dtype=int64), array([   38,     1,     1,     4,     1,     4,     1,     1,     2,\n",
      "           1,     5,     2,     1,     1,     5,   104,     1,     1,\n",
      "           1,     1,     3,     1,     2,     2,     8,     5,     4,\n",
      "           4,     6,     5,     6,     7,    13,     8,     4,     2,\n",
      "           4,     3,     5,     2,     5,     2,     5,     4,     3,\n",
      "          22,    19,    12,    18,    16,    25,    33,    27,    34,\n",
      "          45,   214,    51,    53,    77,    80,   121,   160,   142,\n",
      "         147,   154,   370,   199,   248,   205,   201,   152,   193,\n",
      "         193,   307,   312,   629,   284,   335,   455,   422,   787,\n",
      "         576,   697,   965,  1342,  2852,  2810,  3048,  3469,  4872,\n",
      "        9658, 10886, 14706, 17951, 22767, 24551, 20218, 19189, 19873,\n",
      "       19746, 22316, 20230, 17673, 16175, 15607, 12354, 12068,  9418,\n",
      "        6157,  4802,  2982,  9859, 10546,  3993,    27,     1,     1,\n",
      "           2,     1,     4,     2,     1,     7,     1,     1,     1,\n",
      "           1,     3,     1,     2,     1,    18,     1,     2,     1,\n",
      "           1,     2,     6,     1,     1,     4,     1,     2,     1,\n",
      "           1,     2,     1,     1,     1,     2,     5,     1,     1,\n",
      "           1,    27], dtype=int64))\n"
     ]
    },
    {
     "data": {
      "text/plain": [
       "<matplotlib.axes._subplots.AxesSubplot at 0x1ffa5775b00>"
      ]
     },
     "execution_count": 9,
     "metadata": {},
     "output_type": "execute_result"
    },
    {
     "data": {
      "image/png": "[encoded data removed]",
      "text/plain": [
       "<Figure size 432x288 with 1 Axes>"
      ]
     },
     "metadata": {
      "needs_background": "light"
     },
     "output_type": "display_data"
    }
   ],
   "source": [
    "# Show registration years with counts and plot histogram\n",
    "print(np.unique(df_autos['yearOfRegistration'],return_counts=True))\n",
    "df_autos['yearOfRegistration'].hist()"
   ]
  },
  {
   "cell_type": "code",
   "execution_count": 10,
   "metadata": {},
   "outputs": [
    {
     "name": "stdout",
     "output_type": "stream",
     "text": [
      "Year: 1885\n",
      "[]\n",
      "Year: 1886\n",
      "[]\n",
      "Year: 1887\n",
      "[]\n",
      "Year: 1888\n",
      "[]\n",
      "Year: 1889\n",
      "[]\n",
      "Year: 1890\n",
      "[]\n",
      "Year: 1891\n",
      "[]\n",
      "Year: 1892\n",
      "[]\n",
      "Year: 1893\n",
      "[]\n",
      "Year: 1894\n",
      "[]\n",
      "Year: 1895\n",
      "[]\n",
      "Year: 1896\n",
      "[]\n",
      "Year: 1897\n",
      "[]\n",
      "Year: 1898\n",
      "[]\n",
      "Year: 1899\n",
      "[]\n",
      "Year: 1900\n",
      "[]\n",
      "Year: 1901\n",
      "[]\n",
      "Year: 1902\n",
      "[]\n",
      "Year: 1903\n",
      "[]\n",
      "Year: 1904\n",
      "[]\n",
      "Year: 1905\n",
      "[]\n",
      "Year: 1906\n",
      "[]\n",
      "Year: 1907\n",
      "[]\n",
      "Year: 1908\n",
      "[]\n",
      "Year: 1909\n",
      "[]\n",
      "Year: 1910\n",
      "['KA_Lufthansa_Edition_450\\x80_VB' 'Bellier_Vario'\n",
      " 'Opel_100_Jahre__Kunstdrucke'\n",
      " 'Tausche/Verkaufe_S51_gegen_Audi_ab_150ps_oder_1.9tdi'\n",
      " 'Suche_VW_mit_Diesel__54_PS' 'SUCHE_Golf_1_1_8t_G60_2_0_16V_ab_150_Ps'\n",
      " 'VW_Passat_Kombi_H_Kennzeichen' 'vw_polo_86c'\n",
      " 'Suche_guenstiges_Auto_mit_TÜV'\n",
      " 'Zeugen_gesucht_in_22869_Schenefeld_!!!!!!!!!!!!!!!!'\n",
      " 'Fiat_Punto_ohne_Motor_und_Getriebe'\n",
      " 'Caddy_14d__Schlachten_oder_Herichten.' 'VW_T1_Karosse_ohne_motor'\n",
      " 'Algila_mit_motorschaden'\n",
      " 'Suche_Fahrzeug_mit_Anhaengerkupplung_und_LPG_Gas_bis_1000\\x80'\n",
      " 'E30_3.20_suche_bitte_melden' 'Vw_Beetle_1_9_Tdi'\n",
      " 'Sommerreifen_175/70_R14_auf_Felgen' 'Tueren_Trabant' 'VW_Golf_3'\n",
      " 'ALTFAHRZEUG_ABHOLUNG_KOSTENLOS_ALLER_ART'\n",
      " 'Ich_verkaufe/suche_fuer_sie_ihr_Auto!!' 'Borbet_Komplettraeder'\n",
      " 'Opel_Corsa_B' 'Suche_7_9_Sitzer_fuer_Urlaub' 'BMW_Touring_gesucht'\n",
      " 'Alfa_Romeo_164' 'Suche_Kombi_Van_Bus' 'Mercedes_Diesel_W_201'\n",
      " 'Alter_VW_Kaefer_Scheunenfund' 'Renault_Twingo'\n",
      " 'Suche_guenstiges_uebergangsauto' 'Opel_Corsa'\n",
      " 'Audi_A2_Tuer_vorne_Links_Farbcode_LY7W_Silber_mit_Tuergriff_Alu'\n",
      " 'Suche_Auto' 'Tausch_alles_aus_meinen_Anzeigen_gegen_Auto'\n",
      " 'SUCHE_MERCEDES_BENZ_GL_LPG' 'Opel_Kadett_combo_karosse'\n",
      " 'Opel_Calibra_V6_DTM_Bausatz_1:24' 'Kennzeichenleuchten'\n",
      " 'VW_Polo_6n_sdi_mit_tuev' 'Tueren_Trabant' 'VW_Golf_II_zu_verkaufen'\n",
      " 'Mitsubishi_Colt_als_Ersatzteitraeger_gegen_Gebot_zu_verkaufen'\n",
      " 'Tausche_slk_230_compessor_gegen_wrangler' 'Motorhaube'\n",
      " 'SUCHE_VW_Corrado_Golf2_G60_16V_VR6_Zustand_egal_Motorschaden'\n",
      " 'Subaru_Libero' 'Suche_AUDI_100_TYP_44'\n",
      " 'Whatsapp__gruppe_fuer_tunner__und_auto_Freunde'\n",
      " 'ALTFAHRZEUGE_KOSTENLOSE_ABHOLUNG'\n",
      " 'SUCHE_Karosse_Karosserie_Stockcar_Auto_Unfall_Teilespender'\n",
      " 'Suche_verkehrstaugliches_Fahrzeug_mit_TÜV' 'VW_Bus_zum_ausschlachten'\n",
      " 'BMW_SCHILD' 'Motorhaube' 'zum_aus_schlachten' 'Suche_kleines_Auto'\n",
      " 'Suche_rote_Audi_A4_Limosine__Unfall_egal_Hauptsache_mit_TÜV'\n",
      " '323_coupe_e36' 'Ford_Mondeo_Kombi_Schlachtfahrzeug_1_8_Motor_laeuft'\n",
      " 'Golf_Stockcar_/_Auto_Cross_/_Rennen_/_Hobby'\n",
      " 'suche_ein_kleines__guenstiges_auto_mit_tuev_MUss_AUTOMATIK_SEIN'\n",
      " 'Verschenke_Fiat_Uno_Polterauto'\n",
      " 'Suche_Trabant_zum_restaurieren...alles_anbieten!!!'\n",
      " 'Suche_Allrad_Fahrzeug' 'Dachgepaecktraeger_vom_Barkas!'\n",
      " 'Fiat_Barchetta_\"Schlachtfest\"' 'SUCHE_Mopedauto'\n",
      " 'Nehme_alte_autos_zu_verschenken_gerne'\n",
      " 'Autos_zum_Ausschlachten_oder_als_Bastlerfahrzeuge'\n",
      " 'Suche_guenstig_ein_auto' 'Trabbant_gelb' 'ALTFAHRTZEUGE__ALLER_ART'\n",
      " 'Suche_kleines_Familienauto' 'Renault_Laguna_zum_schlachten__Export_'\n",
      " 'Suche_Auto_mit_Tuev' 'ICH_SUCHE_AUTOS' 'Hyundai__Pony_GSI'\n",
      " 'SAMSUNG_55\\x93_3D_Tv_und_Soundbar_gegen_Auto' 'Ford_escord_xr3i_Sport'\n",
      " 'Suche_Opel_Rekord_E_2_0E' 'Charleston_Pick_Up_Ente_2CV'\n",
      " 'Suche_Menschen_mit_Herz_und_Auto_;_'\n",
      " 'Polo_86c_Coupe_mit_original_Glasschiebedach' 'SUCHE_AUTO_MIT_TÜV'\n",
      " 'Suche_Peugeot_206+_Plus__mit_60Ps' 'Ankauf_von_Fahrzeugen_aller_Art'\n",
      " 'KOSTENLOSE_ABHOLUNG_ALTFAHRZEUGE__ALLER_ART' 'Suche_OMEGA!!!'\n",
      " 'kaufen_alle_Auto' 'Biete_Fahrzeugsuche_fuer_jeden.' 'Ford_Ka_kein_TÜV'\n",
      " 'Suche_Auto' 'Suchen_auto_/_sprinter_zur_Mietung_mit_Ahk'\n",
      " 'Suche_Golf_auch_Unfall_usw_..'\n",
      " 'SUCHE_Caddy_karosse_14d_1er_in_Top_zustand' 'Schrottgolf_zu_Verschenken'\n",
      " 'Ford_Mondeo_Kombi_Schlachtfahrzeug_1_8_Motor_laeuft'\n",
      " 'ALTFAHRZEUG_ABHOLUNG_KOSTENLOS' 'Gelaendewagen_Toyota_hilux'\n",
      " 'Suche_audi_avant' 'Suche_golf_2_oder_caddy_2' 'Familie_sucht_ein_Auto']\n",
      "Year: 1911\n",
      "['Cameron_2_sitziger_Roaster_1911']\n",
      "Year: 1912\n",
      "[]\n",
      "Year: 1913\n",
      "[]\n",
      "Year: 1914\n",
      "[]\n",
      "Year: 1915\n",
      "['NAG_Protos']\n",
      "Year: 1916\n",
      "[]\n",
      "Year: 1917\n",
      "[]\n",
      "Year: 1918\n",
      "[]\n",
      "Year: 1919\n",
      "['Ford_Model_T_1919']\n",
      "Year: 1920\n",
      "['Ihr_auto_hat_Probleme_Dan_sind_sie_bei_uns_genau_richtig']\n",
      "Year: 1921\n",
      "[]\n",
      "Year: 1922\n",
      "[]\n",
      "Year: 1923\n",
      "['Andere_Delahaye_Tourer' 'Oldtimer_Citroen_C3_Bj.1923_Restauriert'\n",
      " 'Citroën_C3']\n",
      "Year: 1924\n",
      "[]\n",
      "Year: 1925\n",
      "['Andere_Andere']\n",
      "Year: 1926\n",
      "[]\n",
      "Year: 1927\n",
      "['Hot_Rod_Model_T_Coupe' 'Essex_super_six__Ford_A']\n",
      "Year: 1928\n",
      "['Oldtimer_Citroen_B14G__1928__umrestauriert' '1928_Ford_Model_A']\n",
      "Year: 1929\n",
      "['Oldtimer_Citroën_F_AC_4_Bj_29' 'Andere_Essex_Super_Six' 'BMW_Andere'\n",
      " 'Mercedes_SS_Oldtimer'\n",
      " 'Ford_Model_A_Roadster__Bj1929__Motor_fuer_ueber8000__\\x80_ueberholt_!!!'\n",
      " 'BMW_DIXI_CABRIO' 'Chevrolet_Coach_Gangsterlimousine_Hot_Rod_V8_V6'\n",
      " 'BMW_DIXI_OLDTIMER']\n",
      "Year: 1930\n",
      "['Peugeot_201_Pickup__Angefangene_Restauration_' 'Hochbett' 'Ford_Andere'\n",
      " 'Oldtimer__Ford_Model_A_speedster' 'Ford_Model_A']\n",
      "Year: 1931\n",
      "['Oltimer_mit_Dampf_Chevy_Hod_Rod_Street_Rod_Bj.1931_V8___H_Zulass.'\n",
      " 'Ford_Ford_Model_A_1931_Sedan_Hot_Rod_V8_Flathead'\n",
      " '1931_Ford_Model_A_Cabrio_Pick_up_Projekt'\n",
      " 'Ford_Model_A_Roadster_Deluxe_1931']\n",
      "Year: 1932\n",
      "['BMW_Dixi' '1932_Ford_Roadster_Hotrod' 'Ford_Cabrio'\n",
      " 'Peugeot_301__Baujahr_ca._1932']\n",
      "Year: 1933\n",
      "['Andere_Adler_Trumpf_1_7_AV___sehr_selten__top_Zustand'\n",
      " 'Andere_Horch_830' 'Fiat_508_selten' 'Ford_Andere'\n",
      " 'Opel_Adam_LG12_4_Tuerer_Oldtimer' 'Opel_Type_1290']\n",
      "Year: 1934\n",
      "['Hot_rod__citroen_rosalie__oldtimer__Rad_rod_'\n",
      " 'Sehr_seltener_Oldtimer_Opel_1210_zum_Restaurieren'\n",
      " 'Hanomag_rekord_15k_Suche_ersatz_teile' 'Mercedes_Benz_290_B'\n",
      " 'Hotrod_Hot_Rod_1934_Ford_5_Window_all_steel']\n",
      "Year: 1935\n",
      "['Andere_Oldtimer__DKW__F5_Cabrio_Sammlerstueck' '1935_ford_truck_hot_rod'\n",
      " 'Oldtimer_Adler_Trumpf_Junior_Teilcabrio_zu_verkaufen_von_1935'\n",
      " 'Opel_Type_1290' 'Opel_P4_Oldtimer_Baujahr_1935__guter_Zustand!'\n",
      " 'Chevrolet_Holden_Vorkriegsfahrzeug']\n",
      "Year: 1936\n",
      "['Opel_Olympia_Cabrio_1936_Top_Zustand'\n",
      " 'Andere_1936_PACKARD_Eight_Sedan_14th_Serie_NOTE_2+_TOP' 'Fiat_500'\n",
      " 'Andere_Hanomag_Rekord_Cabriolet_Oldtimer' 'Fiat_Ardita_518L'\n",
      " 'Opel_vorkriegs_Fahrzeug__Oldtimer___P4' 'Ente_zu_verkaufen__']\n",
      "Year: 1937\n",
      "['Ford_V8_Cabrio_im_restaurierten_Topzustand' 'Opel_Andere'\n",
      " 'Ford_Andere_Eifel_Typ_C'\n",
      " 'Ranchero_ford_V8_rostfrei_bj_1968_ganz_original' 'MG_Andere'\n",
      " 'Mercedes_Benz_170V'\n",
      " 'Dodge_1937_Hotrod_Flathead_Scheunenfund_Oldtimer_kein_Ford'\n",
      " 'Andere_1937_DKW_F5_700_Meisterklasse'\n",
      " 'DKW_F7_als_Ersatzteiltraeger_gegen_Gebot' 'Opel_P4_im_Originalzustand'\n",
      " 'Buick__special_business_coupe_Flat_eight'\n",
      " 'Ford_Business_Coupe_Hotrod_Projekt.1937'\n",
      " 'Mercedes_Benz_170V___Vorkriegsmodell']\n",
      "Year: 1938\n",
      "['Peugeot_202_von_Januar_1938' 'Andere_Oldtimer' 'DKW_Reichsklasse_F7'\n",
      " 'Andere_DKW_F8__IFA__Oldtimer' 'Oldtimer_Sport___Cabrio_Georges_Irat'\n",
      " 'Oldtimer_Opel_Kadett_K38__seltener_4_tuerer__Spezial_Limousine'\n",
      " 'Austin_Big_Seven_Sixlite' 'Opel_kadett_po_renovaci']\n",
      "Year: 1939\n",
      "['***Mercedes_W_143__230_Sonnenschein_Limousine***'\n",
      " 'Andere_DKW_F8_Cabrio_Limosine' 'Buick_Century_Sport_Coupè_66_S'\n",
      " 'Audi_DKW']\n",
      "Year: 1940\n",
      "['Oldsmobile_Adler_Trumpf_Junior'\n",
      " '1940_Ford_Deluxe_Sedan_V8_Flat_Eight_*no_Hot_Rod*']\n",
      "Year: 1941\n",
      "['Andere_GAZ_Oldtimergelaendewagen_1941' 'Dodge_hotrod_Pick_Up'\n",
      " 'Mercedes_Benz_L1500S_Wehrmacht_/_Luftwaffe___Flughafenfeuerwehr'\n",
      " 'WIllys_Jeep']\n",
      "Year: 1942\n",
      "['willys_jeep_bj.1942_army_armee_oldtimer'\n",
      " 'Jeep_willys_jeep_bj.1942_army_armee_oldtimer' 'Willys_Jeep']\n",
      "Year: 1943\n",
      "['Jeep_Willys_H_Kennzeichen__EZ.1943_TÜV_neu__kein_Rost'\n",
      " 'Volkswagen_Volkswagen__Schwimmwagen_166' 'Volkswagen__VW_Typ_82'\n",
      " 'Dodge_WC_52_Lohner_Fernmeldewagen__US_Army'\n",
      " 'Oldtimer_Unikat_Volkswagen_Anfibio_Schwimmwagen_166_kein_kuebel']\n",
      "Year: 1944\n",
      "['GAZ_67_sehr_selten' 'Oldtimer_Aero_30_Roadster_1938']\n",
      "Year: 1945\n",
      "['Volkswagen_Andere_typ82' 'Schlachtfest_Opel_astra_f'\n",
      " 'volkswagen_kuebelwagen_type82_kdf_kuebel_oldtimer_wehrmacht'\n",
      " 'Jeep_Willys' 'Tempo_Dreirad_A400_Bj_1945']\n",
      "Year: 1946\n",
      "['Oldtimer_1946_Buick_Roadmaster_Sedanette_2_Door_Raritaet_Hot_Rod'\n",
      " 'Oldtimer_LKW_Opel_Blitz_Kipper']\n",
      "Year: 1947\n",
      "['OPEL_BLITZ_1_5t__Wehrmacht___Kuebelwagen__' 'MG_TC_Roadster' 'MG_TC'\n",
      " 'Ford_Super_Deluxe_Coupe_Flathead_V8_TÜV_H_Zulassung_Hot_Rod'\n",
      " 'Oldtimer_DeSoto']\n",
      "Year: 1948\n",
      "['Andere_Simca_5_Fourgonette_Kombilimousine' 'Chevrolet_Andere'\n",
      " 'Opel_corsa' 'BUICK_ROADMASTER_PROJEKT']\n",
      "Year: 1949\n",
      "['Chrysler_Windsor_Oldtimer'\n",
      " 'Chevrolet_Pick_up__Serie_3100___V8_Motor__Bj.1949'\n",
      " 'Andere_packard_22_super_eicht']\n"
     ]
    }
   ],
   "source": [
    "# As the first car was built in 1885, check every year separately to manually inspect whether the entries make sense or not.\n",
    "for year in range(1885, 1950):\n",
    "    print('Year: {}'.format(year))\n",
    "    print(df_autos[df_autos['yearOfRegistration'] == year].name.values)"
   ]
  },
  {
   "cell_type": "markdown",
   "metadata": {},
   "source": [
    "It looks like everything offer that has year <=1910 is clearly not a real car offer with correct data. Those columns are dropped lateron. The same applies to entries with year > 2016, those are also obviously incorrect, as the dataset originates form 2016. So only rows with 1910 < year <2017 are kept, the rest is dropped."
   ]
  },
  {
   "cell_type": "code",
   "execution_count": 11,
   "metadata": {
    "scrolled": true
   },
   "outputs": [
    {
     "name": "stdout",
     "output_type": "stream",
     "text": [
      "0.1-quantile at: 0.0\n",
      "0.999-quantile at: 703.4730000000563\n"
     ]
    },
    {
     "data": {
      "image/png": "[encoded data removed]",
      "text/plain": [
       "<Figure size 360x360 with 1 Axes>"
      ]
     },
     "metadata": {
      "needs_background": "light"
     },
     "output_type": "display_data"
    }
   ],
   "source": [
    "# Plot boxplot of motor power\n",
    "plt.figure(figsize=(5,5))\n",
    "\n",
    "#test = df_autos_locs[df_autos_locs['powerPS'] < df_autos_locs['powerPS'].quantile(0.999)]\n",
    "_ = plt.boxplot(df_autos['powerPS'])\n",
    "\n",
    "print('0.1-quantile at: {}'.format(df_autos['powerPS'].quantile(0.1)))\n",
    "print('0.999-quantile at: {}'.format(df_autos['powerPS'].quantile(0.999)))"
   ]
  },
  {
   "cell_type": "markdown",
   "metadata": {},
   "source": [
    "Well, a motor power of 20000 PS does not look quite realistic, as well as 0. So, only rows that have a power of more than 0 PS and less than 1000 PS will be kept."
   ]
  },
  {
   "cell_type": "code",
   "execution_count": 12,
   "metadata": {},
   "outputs": [
    {
     "name": "stdout",
     "output_type": "stream",
     "text": [
      "0.001-quantile at: 0.0\n",
      "0.01-quantile at: 0.0\n",
      "0.99-quantile at: 36000.0\n",
      "0.999-quantile at: 108689.20000002254\n",
      "0.999-quantile at: 11111111.0\n"
     ]
    },
    {
     "data": {
      "image/png": "[encoded data removed]",
      "text/plain": [
       "<Figure size 360x360 with 1 Axes>"
      ]
     },
     "metadata": {
      "needs_background": "light"
     },
     "output_type": "display_data"
    }
   ],
   "source": [
    "# Plot boxplot of prices\n",
    "plt.figure(figsize=(5,5))\n",
    "\n",
    "#test = df_autos_locs[df_autos_locs['powerPS'] < df_autos_locs['powerPS'].quantile(0.999)]\n",
    "_ = plt.boxplot(df_autos['price'])\n",
    "\n",
    "print('0.001-quantile at: {}'.format(df_autos['price'].quantile(0.001)))\n",
    "print('0.01-quantile at: {}'.format(df_autos['price'].quantile(0.01)))\n",
    "print('0.99-quantile at: {}'.format(df_autos['price'].quantile(0.99)))\n",
    "print('0.999-quantile at: {}'.format(df_autos['price'].quantile(0.999)))\n",
    "print('0.999-quantile at: {}'.format(df_autos['price'].quantile(0.9999)))"
   ]
  },
  {
   "cell_type": "markdown",
   "metadata": {},
   "source": [
    "A price of 0 is possible, yet a price of more than, say, 1 Million € for a used car is not. So everything above 1 Million is dropped."
   ]
  },
  {
   "cell_type": "code",
   "execution_count": 13,
   "metadata": {
    "scrolled": true
   },
   "outputs": [
    {
     "name": "stdout",
     "output_type": "stream",
     "text": [
      "dateCrawled: <class 'str'>\n",
      "name: <class 'str'>\n",
      "seller: <class 'str'>\n",
      "offerType: <class 'str'>\n",
      "price: <class 'numpy.int64'>\n",
      "abtest: <class 'str'>\n",
      "vehicleType: <class 'float'>\n",
      "yearOfRegistration: <class 'numpy.int64'>\n",
      "gearbox: <class 'str'>\n",
      "powerPS: <class 'numpy.int64'>\n",
      "model: <class 'str'>\n",
      "kilometer: <class 'numpy.int64'>\n",
      "monthOfRegistration: <class 'numpy.int64'>\n",
      "fuelType: <class 'str'>\n",
      "brand: <class 'str'>\n",
      "notRepairedDamage: <class 'float'>\n",
      "dateCreated: <class 'str'>\n",
      "nrOfPictures: <class 'numpy.int64'>\n",
      "postalCode: <class 'numpy.int64'>\n",
      "lastSeen: <class 'str'>\n"
     ]
    }
   ],
   "source": [
    "# Check data types of all columns:\n",
    "for col in df_autos.columns:\n",
    "    print(col + ': ' + str(type(df_autos[col].values[0])))"
   ]
  },
  {
   "cell_type": "markdown",
   "metadata": {},
   "source": [
    "The data types look fine, for the general analysis no further work is needed. It will be needed though for the prediction task."
   ]
  },
  {
   "cell_type": "markdown",
   "metadata": {},
   "source": [
    "## Step 3: Data Preparation\n",
    "\n",
    "By using the insights gathered above, the data is being prepared for further analysis."
   ]
  },
  {
   "cell_type": "markdown",
   "metadata": {},
   "source": [
    "### General Data Preparation for all Questions"
   ]
  },
  {
   "cell_type": "code",
   "execution_count": 14,
   "metadata": {},
   "outputs": [
    {
     "name": "stdout",
     "output_type": "stream",
     "text": [
      "371528\n",
      "371516\n"
     ]
    }
   ],
   "source": [
    "# Drop rows that are requests and keep offers. Check whether 12 rows are removed.\n",
    "print(df_autos.shape[0])\n",
    "df_autos = df_autos[df_autos.offerType != 'Gesuch']\n",
    "print(df_autos.shape[0])"
   ]
  },
  {
   "cell_type": "code",
   "execution_count": 15,
   "metadata": {},
   "outputs": [
    {
     "name": "stdout",
     "output_type": "stream",
     "text": [
      "20\n",
      "11\n"
     ]
    }
   ],
   "source": [
    "# Drop all pf the above named columns. Check number of columns.\n",
    "print(df_autos.shape[1])\n",
    "remove_cols = ['offerType', 'abtest', 'nrOfPictures', 'seller', 'dateCrawled',\n",
    "               'monthOfRegistration', 'dateCreated', 'lastSeen', 'name']\n",
    "df_autos = df_autos.drop(columns=remove_cols)\n",
    "print(df_autos.shape[1])"
   ]
  },
  {
   "cell_type": "code",
   "execution_count": 16,
   "metadata": {},
   "outputs": [
    {
     "name": "stdout",
     "output_type": "stream",
     "text": [
      "371516\n",
      "356664\n"
     ]
    }
   ],
   "source": [
    "# Drop rows with years that do not make sense.\n",
    "print(len(df_autos))\n",
    "df_autos = df_autos[df_autos['yearOfRegistration'] > 1910]\n",
    "df_autos = df_autos[df_autos['yearOfRegistration'] < 2017]\n",
    "print(len(df_autos))"
   ]
  },
  {
   "cell_type": "code",
   "execution_count": 17,
   "metadata": {},
   "outputs": [
    {
     "name": "stdout",
     "output_type": "stream",
     "text": [
      "356664\n",
      "319465\n"
     ]
    }
   ],
   "source": [
    "print(len(df_autos))\n",
    "df_autos = df_autos[df_autos['powerPS'] > 0]\n",
    "df_autos = df_autos[df_autos['powerPS'] < 1000]\n",
    "print(len(df_autos))"
   ]
  },
  {
   "cell_type": "code",
   "execution_count": 18,
   "metadata": {},
   "outputs": [
    {
     "name": "stdout",
     "output_type": "stream",
     "text": [
      "319465\n",
      "319422\n"
     ]
    }
   ],
   "source": [
    "print(len(df_autos))\n",
    "df_autos = df_autos[df_autos['price'] < 1000000]\n",
    "print(len(df_autos))"
   ]
  },
  {
   "cell_type": "code",
   "execution_count": 19,
   "metadata": {},
   "outputs": [
    {
     "data": {
      "text/html": [
       "<div>\n",
       "<style scoped>\n",
       "    .dataframe tbody tr th:only-of-type {\n",
       "        vertical-align: middle;\n",
       "    }\n",
       "\n",
       "    .dataframe tbody tr th {\n",
       "        vertical-align: top;\n",
       "    }\n",
       "\n",
       "    .dataframe thead th {\n",
       "        text-align: right;\n",
       "    }\n",
       "</style>\n",
       "<table border=\"1\" class=\"dataframe\">\n",
       "  <thead>\n",
       "    <tr style=\"text-align: right;\">\n",
       "      <th></th>\n",
       "      <th>price</th>\n",
       "      <th>vehicleType</th>\n",
       "      <th>yearOfRegistration</th>\n",
       "      <th>gearbox</th>\n",
       "      <th>powerPS</th>\n",
       "      <th>model</th>\n",
       "      <th>kilometer</th>\n",
       "      <th>fuelType</th>\n",
       "      <th>brand</th>\n",
       "      <th>notRepairedDamage</th>\n",
       "      <th>postalCode</th>\n",
       "    </tr>\n",
       "  </thead>\n",
       "  <tbody>\n",
       "    <tr>\n",
       "      <td>1</td>\n",
       "      <td>18300</td>\n",
       "      <td>coupe</td>\n",
       "      <td>2011</td>\n",
       "      <td>manuell</td>\n",
       "      <td>190</td>\n",
       "      <td>NaN</td>\n",
       "      <td>125000</td>\n",
       "      <td>diesel</td>\n",
       "      <td>audi</td>\n",
       "      <td>ja</td>\n",
       "      <td>66954</td>\n",
       "    </tr>\n",
       "    <tr>\n",
       "      <td>2</td>\n",
       "      <td>9800</td>\n",
       "      <td>suv</td>\n",
       "      <td>2004</td>\n",
       "      <td>automatik</td>\n",
       "      <td>163</td>\n",
       "      <td>grand</td>\n",
       "      <td>125000</td>\n",
       "      <td>diesel</td>\n",
       "      <td>jeep</td>\n",
       "      <td>NaN</td>\n",
       "      <td>90480</td>\n",
       "    </tr>\n",
       "    <tr>\n",
       "      <td>3</td>\n",
       "      <td>1500</td>\n",
       "      <td>kleinwagen</td>\n",
       "      <td>2001</td>\n",
       "      <td>manuell</td>\n",
       "      <td>75</td>\n",
       "      <td>golf</td>\n",
       "      <td>150000</td>\n",
       "      <td>benzin</td>\n",
       "      <td>volkswagen</td>\n",
       "      <td>nein</td>\n",
       "      <td>91074</td>\n",
       "    </tr>\n",
       "    <tr>\n",
       "      <td>4</td>\n",
       "      <td>3600</td>\n",
       "      <td>kleinwagen</td>\n",
       "      <td>2008</td>\n",
       "      <td>manuell</td>\n",
       "      <td>69</td>\n",
       "      <td>fabia</td>\n",
       "      <td>90000</td>\n",
       "      <td>diesel</td>\n",
       "      <td>skoda</td>\n",
       "      <td>nein</td>\n",
       "      <td>60437</td>\n",
       "    </tr>\n",
       "    <tr>\n",
       "      <td>5</td>\n",
       "      <td>650</td>\n",
       "      <td>limousine</td>\n",
       "      <td>1995</td>\n",
       "      <td>manuell</td>\n",
       "      <td>102</td>\n",
       "      <td>3er</td>\n",
       "      <td>150000</td>\n",
       "      <td>benzin</td>\n",
       "      <td>bmw</td>\n",
       "      <td>ja</td>\n",
       "      <td>33775</td>\n",
       "    </tr>\n",
       "  </tbody>\n",
       "</table>\n",
       "</div>"
      ],
      "text/plain": [
       "   price vehicleType  yearOfRegistration    gearbox  powerPS  model  \\\n",
       "1  18300       coupe                2011    manuell      190    NaN   \n",
       "2   9800         suv                2004  automatik      163  grand   \n",
       "3   1500  kleinwagen                2001    manuell       75   golf   \n",
       "4   3600  kleinwagen                2008    manuell       69  fabia   \n",
       "5    650   limousine                1995    manuell      102    3er   \n",
       "\n",
       "   kilometer fuelType       brand notRepairedDamage  postalCode  \n",
       "1     125000   diesel        audi                ja       66954  \n",
       "2     125000   diesel        jeep               NaN       90480  \n",
       "3     150000   benzin  volkswagen              nein       91074  \n",
       "4      90000   diesel       skoda              nein       60437  \n",
       "5     150000   benzin         bmw                ja       33775  "
      ]
     },
     "execution_count": 19,
     "metadata": {},
     "output_type": "execute_result"
    }
   ],
   "source": [
    "# Display data again:\n",
    "df_autos.head()"
   ]
  },
  {
   "cell_type": "markdown",
   "metadata": {},
   "source": [
    "As I want to make an analysis on local features, only the ZIP-Code as in 'postalCode' is not sufficient. By using a dataset on german Zip-Codes with, I will add more detailed information on the locations. The dataset PLZ.tab used here is available on: http://opengeodb.org/wiki/PLZ.tab"
   ]
  },
  {
   "cell_type": "code",
   "execution_count": 20,
   "metadata": {
    "scrolled": true
   },
   "outputs": [
    {
     "data": {
      "text/html": [
       "<div>\n",
       "<style scoped>\n",
       "    .dataframe tbody tr th:only-of-type {\n",
       "        vertical-align: middle;\n",
       "    }\n",
       "\n",
       "    .dataframe tbody tr th {\n",
       "        vertical-align: top;\n",
       "    }\n",
       "\n",
       "    .dataframe thead th {\n",
       "        text-align: right;\n",
       "    }\n",
       "</style>\n",
       "<table border=\"1\" class=\"dataframe\">\n",
       "  <thead>\n",
       "    <tr style=\"text-align: right;\">\n",
       "      <th></th>\n",
       "      <th>#loc_id</th>\n",
       "      <th>plz</th>\n",
       "      <th>lon</th>\n",
       "      <th>lat</th>\n",
       "      <th>Ort</th>\n",
       "    </tr>\n",
       "  </thead>\n",
       "  <tbody>\n",
       "    <tr>\n",
       "      <td>0</td>\n",
       "      <td>5078</td>\n",
       "      <td>1067</td>\n",
       "      <td>13.721068</td>\n",
       "      <td>51.060034</td>\n",
       "      <td>Dresden</td>\n",
       "    </tr>\n",
       "    <tr>\n",
       "      <td>1</td>\n",
       "      <td>5079</td>\n",
       "      <td>1069</td>\n",
       "      <td>13.738907</td>\n",
       "      <td>51.039559</td>\n",
       "      <td>Dresden</td>\n",
       "    </tr>\n",
       "    <tr>\n",
       "      <td>2</td>\n",
       "      <td>5080</td>\n",
       "      <td>1097</td>\n",
       "      <td>13.743967</td>\n",
       "      <td>51.066745</td>\n",
       "      <td>Dresden</td>\n",
       "    </tr>\n",
       "    <tr>\n",
       "      <td>3</td>\n",
       "      <td>5081</td>\n",
       "      <td>1099</td>\n",
       "      <td>13.828980</td>\n",
       "      <td>51.092619</td>\n",
       "      <td>Dresden</td>\n",
       "    </tr>\n",
       "    <tr>\n",
       "      <td>4</td>\n",
       "      <td>153646</td>\n",
       "      <td>1108</td>\n",
       "      <td>13.828980</td>\n",
       "      <td>51.092619</td>\n",
       "      <td>Dresden</td>\n",
       "    </tr>\n",
       "    <tr>\n",
       "      <td>5</td>\n",
       "      <td>5082</td>\n",
       "      <td>1109</td>\n",
       "      <td>13.761965</td>\n",
       "      <td>51.120101</td>\n",
       "      <td>Dresden</td>\n",
       "    </tr>\n",
       "    <tr>\n",
       "      <td>6</td>\n",
       "      <td>5083</td>\n",
       "      <td>1127</td>\n",
       "      <td>13.733347</td>\n",
       "      <td>51.079630</td>\n",
       "      <td>Dresden</td>\n",
       "    </tr>\n",
       "    <tr>\n",
       "      <td>7</td>\n",
       "      <td>5084</td>\n",
       "      <td>1129</td>\n",
       "      <td>13.727410</td>\n",
       "      <td>51.096794</td>\n",
       "      <td>Dresden</td>\n",
       "    </tr>\n",
       "    <tr>\n",
       "      <td>8</td>\n",
       "      <td>5085</td>\n",
       "      <td>1139</td>\n",
       "      <td>13.691144</td>\n",
       "      <td>51.080557</td>\n",
       "      <td>Dresden</td>\n",
       "    </tr>\n",
       "    <tr>\n",
       "      <td>9</td>\n",
       "      <td>5106</td>\n",
       "      <td>1156</td>\n",
       "      <td>13.623307</td>\n",
       "      <td>51.066631</td>\n",
       "      <td>Cossebaude</td>\n",
       "    </tr>\n",
       "    <tr>\n",
       "      <td>10</td>\n",
       "      <td>5086</td>\n",
       "      <td>1157</td>\n",
       "      <td>13.670805</td>\n",
       "      <td>51.064308</td>\n",
       "      <td>Dresden</td>\n",
       "    </tr>\n",
       "    <tr>\n",
       "      <td>11</td>\n",
       "      <td>5087</td>\n",
       "      <td>1159</td>\n",
       "      <td>13.700692</td>\n",
       "      <td>51.042606</td>\n",
       "      <td>Dresden</td>\n",
       "    </tr>\n",
       "    <tr>\n",
       "      <td>12</td>\n",
       "      <td>5088</td>\n",
       "      <td>1169</td>\n",
       "      <td>13.669188</td>\n",
       "      <td>51.040255</td>\n",
       "      <td>Dresden</td>\n",
       "    </tr>\n",
       "    <tr>\n",
       "      <td>13</td>\n",
       "      <td>5089</td>\n",
       "      <td>1187</td>\n",
       "      <td>13.702666</td>\n",
       "      <td>51.026380</td>\n",
       "      <td>Dresden</td>\n",
       "    </tr>\n",
       "    <tr>\n",
       "      <td>14</td>\n",
       "      <td>5090</td>\n",
       "      <td>1189</td>\n",
       "      <td>13.704511</td>\n",
       "      <td>51.013916</td>\n",
       "      <td>Dresden</td>\n",
       "    </tr>\n",
       "    <tr>\n",
       "      <td>15</td>\n",
       "      <td>5091</td>\n",
       "      <td>1217</td>\n",
       "      <td>13.744516</td>\n",
       "      <td>51.017144</td>\n",
       "      <td>Dresden</td>\n",
       "    </tr>\n",
       "    <tr>\n",
       "      <td>16</td>\n",
       "      <td>5092</td>\n",
       "      <td>1219</td>\n",
       "      <td>13.767051</td>\n",
       "      <td>51.022324</td>\n",
       "      <td>Dresden</td>\n",
       "    </tr>\n",
       "    <tr>\n",
       "      <td>17</td>\n",
       "      <td>5093</td>\n",
       "      <td>1237</td>\n",
       "      <td>13.799586</td>\n",
       "      <td>51.017567</td>\n",
       "      <td>Dresden</td>\n",
       "    </tr>\n",
       "    <tr>\n",
       "      <td>18</td>\n",
       "      <td>5094</td>\n",
       "      <td>1239</td>\n",
       "      <td>13.791068</td>\n",
       "      <td>51.002683</td>\n",
       "      <td>Dresden</td>\n",
       "    </tr>\n",
       "    <tr>\n",
       "      <td>19</td>\n",
       "      <td>5095</td>\n",
       "      <td>1257</td>\n",
       "      <td>13.815985</td>\n",
       "      <td>50.996733</td>\n",
       "      <td>Dresden</td>\n",
       "    </tr>\n",
       "    <tr>\n",
       "      <td>20</td>\n",
       "      <td>5096</td>\n",
       "      <td>1259</td>\n",
       "      <td>13.850401</td>\n",
       "      <td>50.995406</td>\n",
       "      <td>Dresden</td>\n",
       "    </tr>\n",
       "    <tr>\n",
       "      <td>21</td>\n",
       "      <td>5097</td>\n",
       "      <td>1277</td>\n",
       "      <td>13.799625</td>\n",
       "      <td>51.035869</td>\n",
       "      <td>Dresden</td>\n",
       "    </tr>\n",
       "    <tr>\n",
       "      <td>22</td>\n",
       "      <td>5098</td>\n",
       "      <td>1279</td>\n",
       "      <td>13.829359</td>\n",
       "      <td>51.026256</td>\n",
       "      <td>Dresden</td>\n",
       "    </tr>\n",
       "    <tr>\n",
       "      <td>23</td>\n",
       "      <td>5099</td>\n",
       "      <td>1307</td>\n",
       "      <td>13.772627</td>\n",
       "      <td>51.054135</td>\n",
       "      <td>Dresden</td>\n",
       "    </tr>\n",
       "    <tr>\n",
       "      <td>24</td>\n",
       "      <td>5100</td>\n",
       "      <td>1309</td>\n",
       "      <td>13.791426</td>\n",
       "      <td>51.048649</td>\n",
       "      <td>Dresden</td>\n",
       "    </tr>\n",
       "    <tr>\n",
       "      <td>25</td>\n",
       "      <td>5101</td>\n",
       "      <td>1324</td>\n",
       "      <td>13.856535</td>\n",
       "      <td>51.065783</td>\n",
       "      <td>Dresden</td>\n",
       "    </tr>\n",
       "    <tr>\n",
       "      <td>26</td>\n",
       "      <td>5102</td>\n",
       "      <td>1326</td>\n",
       "      <td>13.860493</td>\n",
       "      <td>51.025538</td>\n",
       "      <td>Dresden</td>\n",
       "    </tr>\n",
       "    <tr>\n",
       "      <td>27</td>\n",
       "      <td>153648</td>\n",
       "      <td>1328</td>\n",
       "      <td>13.860493</td>\n",
       "      <td>51.025538</td>\n",
       "      <td>Dresden</td>\n",
       "    </tr>\n",
       "    <tr>\n",
       "      <td>28</td>\n",
       "      <td>5103</td>\n",
       "      <td>1445</td>\n",
       "      <td>13.643284</td>\n",
       "      <td>51.113632</td>\n",
       "      <td>Radebeul</td>\n",
       "    </tr>\n",
       "    <tr>\n",
       "      <td>29</td>\n",
       "      <td>5104</td>\n",
       "      <td>1454</td>\n",
       "      <td>13.917478</td>\n",
       "      <td>51.132220</td>\n",
       "      <td>Radeberg</td>\n",
       "    </tr>\n",
       "    <tr>\n",
       "      <td>30</td>\n",
       "      <td>5105</td>\n",
       "      <td>1458</td>\n",
       "      <td>13.845846</td>\n",
       "      <td>51.180700</td>\n",
       "      <td>Ottendorf-Okrilla</td>\n",
       "    </tr>\n",
       "    <tr>\n",
       "      <td>31</td>\n",
       "      <td>5107</td>\n",
       "      <td>1465</td>\n",
       "      <td>13.852949</td>\n",
       "      <td>51.139198</td>\n",
       "      <td>Langebrück</td>\n",
       "    </tr>\n",
       "    <tr>\n",
       "      <td>32</td>\n",
       "      <td>5108</td>\n",
       "      <td>1468</td>\n",
       "      <td>13.688086</td>\n",
       "      <td>51.164360</td>\n",
       "      <td>Reichenberg</td>\n",
       "    </tr>\n",
       "    <tr>\n",
       "      <td>33</td>\n",
       "      <td>5109</td>\n",
       "      <td>1471</td>\n",
       "      <td>13.733793</td>\n",
       "      <td>51.207793</td>\n",
       "      <td>Radeburg</td>\n",
       "    </tr>\n",
       "    <tr>\n",
       "      <td>34</td>\n",
       "      <td>5110</td>\n",
       "      <td>1474</td>\n",
       "      <td>13.910353</td>\n",
       "      <td>51.041983</td>\n",
       "      <td>Schönfeld-Weißig</td>\n",
       "    </tr>\n",
       "    <tr>\n",
       "      <td>35</td>\n",
       "      <td>13101</td>\n",
       "      <td>1477</td>\n",
       "      <td>13.985678</td>\n",
       "      <td>51.092043</td>\n",
       "      <td>Arnsdorf bei Dresden</td>\n",
       "    </tr>\n",
       "    <tr>\n",
       "      <td>36</td>\n",
       "      <td>5111</td>\n",
       "      <td>1478</td>\n",
       "      <td>13.787092</td>\n",
       "      <td>51.154788</td>\n",
       "      <td>Weixdorf</td>\n",
       "    </tr>\n",
       "    <tr>\n",
       "      <td>37</td>\n",
       "      <td>5112</td>\n",
       "      <td>1558</td>\n",
       "      <td>13.531573</td>\n",
       "      <td>51.289115</td>\n",
       "      <td>Großenhain</td>\n",
       "    </tr>\n",
       "    <tr>\n",
       "      <td>38</td>\n",
       "      <td>5113</td>\n",
       "      <td>1561</td>\n",
       "      <td>13.635587</td>\n",
       "      <td>51.297691</td>\n",
       "      <td>Großenhain</td>\n",
       "    </tr>\n",
       "    <tr>\n",
       "      <td>39</td>\n",
       "      <td>5114</td>\n",
       "      <td>1587</td>\n",
       "      <td>13.273384</td>\n",
       "      <td>51.302642</td>\n",
       "      <td>Riesa</td>\n",
       "    </tr>\n",
       "    <tr>\n",
       "      <td>40</td>\n",
       "      <td>5115</td>\n",
       "      <td>1589</td>\n",
       "      <td>13.328050</td>\n",
       "      <td>51.293220</td>\n",
       "      <td>Riesa</td>\n",
       "    </tr>\n",
       "    <tr>\n",
       "      <td>41</td>\n",
       "      <td>5116</td>\n",
       "      <td>1591</td>\n",
       "      <td>13.247632</td>\n",
       "      <td>51.318578</td>\n",
       "      <td>Riesa</td>\n",
       "    </tr>\n",
       "    <tr>\n",
       "      <td>42</td>\n",
       "      <td>5117</td>\n",
       "      <td>1594</td>\n",
       "      <td>13.292602</td>\n",
       "      <td>51.260284</td>\n",
       "      <td>Riesa</td>\n",
       "    </tr>\n",
       "    <tr>\n",
       "      <td>43</td>\n",
       "      <td>5118</td>\n",
       "      <td>1609</td>\n",
       "      <td>13.427627</td>\n",
       "      <td>51.393306</td>\n",
       "      <td>Gröditz</td>\n",
       "    </tr>\n",
       "    <tr>\n",
       "      <td>44</td>\n",
       "      <td>5119</td>\n",
       "      <td>1612</td>\n",
       "      <td>13.410764</td>\n",
       "      <td>51.297149</td>\n",
       "      <td>Nünchritz</td>\n",
       "    </tr>\n",
       "    <tr>\n",
       "      <td>45</td>\n",
       "      <td>5120</td>\n",
       "      <td>1616</td>\n",
       "      <td>13.233513</td>\n",
       "      <td>51.362777</td>\n",
       "      <td>Strehla</td>\n",
       "    </tr>\n",
       "    <tr>\n",
       "      <td>46</td>\n",
       "      <td>5121</td>\n",
       "      <td>1619</td>\n",
       "      <td>13.317557</td>\n",
       "      <td>51.369324</td>\n",
       "      <td>Zeithain</td>\n",
       "    </tr>\n",
       "    <tr>\n",
       "      <td>47</td>\n",
       "      <td>5122</td>\n",
       "      <td>1623</td>\n",
       "      <td>13.297363</td>\n",
       "      <td>51.165162</td>\n",
       "      <td>Lommatzsch</td>\n",
       "    </tr>\n",
       "    <tr>\n",
       "      <td>48</td>\n",
       "      <td>5123</td>\n",
       "      <td>1640</td>\n",
       "      <td>13.580926</td>\n",
       "      <td>51.138759</td>\n",
       "      <td>Coswig</td>\n",
       "    </tr>\n",
       "    <tr>\n",
       "      <td>49</td>\n",
       "      <td>5124</td>\n",
       "      <td>1662</td>\n",
       "      <td>13.480631</td>\n",
       "      <td>51.162520</td>\n",
       "      <td>Meißen</td>\n",
       "    </tr>\n",
       "  </tbody>\n",
       "</table>\n",
       "</div>"
      ],
      "text/plain": [
       "    #loc_id   plz        lon        lat                   Ort\n",
       "0      5078  1067  13.721068  51.060034               Dresden\n",
       "1      5079  1069  13.738907  51.039559               Dresden\n",
       "2      5080  1097  13.743967  51.066745               Dresden\n",
       "3      5081  1099  13.828980  51.092619               Dresden\n",
       "4    153646  1108  13.828980  51.092619               Dresden\n",
       "5      5082  1109  13.761965  51.120101               Dresden\n",
       "6      5083  1127  13.733347  51.079630               Dresden\n",
       "7      5084  1129  13.727410  51.096794               Dresden\n",
       "8      5085  1139  13.691144  51.080557               Dresden\n",
       "9      5106  1156  13.623307  51.066631            Cossebaude\n",
       "10     5086  1157  13.670805  51.064308               Dresden\n",
       "11     5087  1159  13.700692  51.042606               Dresden\n",
       "12     5088  1169  13.669188  51.040255               Dresden\n",
       "13     5089  1187  13.702666  51.026380               Dresden\n",
       "14     5090  1189  13.704511  51.013916               Dresden\n",
       "15     5091  1217  13.744516  51.017144               Dresden\n",
       "16     5092  1219  13.767051  51.022324               Dresden\n",
       "17     5093  1237  13.799586  51.017567               Dresden\n",
       "18     5094  1239  13.791068  51.002683               Dresden\n",
       "19     5095  1257  13.815985  50.996733               Dresden\n",
       "20     5096  1259  13.850401  50.995406               Dresden\n",
       "21     5097  1277  13.799625  51.035869               Dresden\n",
       "22     5098  1279  13.829359  51.026256               Dresden\n",
       "23     5099  1307  13.772627  51.054135               Dresden\n",
       "24     5100  1309  13.791426  51.048649               Dresden\n",
       "25     5101  1324  13.856535  51.065783               Dresden\n",
       "26     5102  1326  13.860493  51.025538               Dresden\n",
       "27   153648  1328  13.860493  51.025538               Dresden\n",
       "28     5103  1445  13.643284  51.113632              Radebeul\n",
       "29     5104  1454  13.917478  51.132220              Radeberg\n",
       "30     5105  1458  13.845846  51.180700     Ottendorf-Okrilla\n",
       "31     5107  1465  13.852949  51.139198            Langebrück\n",
       "32     5108  1468  13.688086  51.164360           Reichenberg\n",
       "33     5109  1471  13.733793  51.207793              Radeburg\n",
       "34     5110  1474  13.910353  51.041983      Schönfeld-Weißig\n",
       "35    13101  1477  13.985678  51.092043  Arnsdorf bei Dresden\n",
       "36     5111  1478  13.787092  51.154788              Weixdorf\n",
       "37     5112  1558  13.531573  51.289115            Großenhain\n",
       "38     5113  1561  13.635587  51.297691            Großenhain\n",
       "39     5114  1587  13.273384  51.302642                 Riesa\n",
       "40     5115  1589  13.328050  51.293220                 Riesa\n",
       "41     5116  1591  13.247632  51.318578                 Riesa\n",
       "42     5117  1594  13.292602  51.260284                 Riesa\n",
       "43     5118  1609  13.427627  51.393306               Gröditz\n",
       "44     5119  1612  13.410764  51.297149             Nünchritz\n",
       "45     5120  1616  13.233513  51.362777               Strehla\n",
       "46     5121  1619  13.317557  51.369324              Zeithain\n",
       "47     5122  1623  13.297363  51.165162            Lommatzsch\n",
       "48     5123  1640  13.580926  51.138759                Coswig\n",
       "49     5124  1662  13.480631  51.162520                Meißen"
      ]
     },
     "execution_count": 20,
     "metadata": {},
     "output_type": "execute_result"
    }
   ],
   "source": [
    "# Load in dataset\n",
    "df_zips = pd.read_csv('PLZ.tab', encoding='UTF-8', sep='\\t')\n",
    "df_zips.head(50)"
   ]
  },
  {
   "cell_type": "code",
   "execution_count": 21,
   "metadata": {},
   "outputs": [
    {
     "data": {
      "text/html": [
       "<div>\n",
       "<style scoped>\n",
       "    .dataframe tbody tr th:only-of-type {\n",
       "        vertical-align: middle;\n",
       "    }\n",
       "\n",
       "    .dataframe tbody tr th {\n",
       "        vertical-align: top;\n",
       "    }\n",
       "\n",
       "    .dataframe thead th {\n",
       "        text-align: right;\n",
       "    }\n",
       "</style>\n",
       "<table border=\"1\" class=\"dataframe\">\n",
       "  <thead>\n",
       "    <tr style=\"text-align: right;\">\n",
       "      <th></th>\n",
       "      <th>price</th>\n",
       "      <th>vehicleType</th>\n",
       "      <th>yearOfRegistration</th>\n",
       "      <th>gearbox</th>\n",
       "      <th>powerPS</th>\n",
       "      <th>model</th>\n",
       "      <th>kilometer</th>\n",
       "      <th>fuelType</th>\n",
       "      <th>brand</th>\n",
       "      <th>notRepairedDamage</th>\n",
       "      <th>postalCode</th>\n",
       "      <th>lon</th>\n",
       "      <th>lat</th>\n",
       "      <th>Ort</th>\n",
       "    </tr>\n",
       "  </thead>\n",
       "  <tbody>\n",
       "    <tr>\n",
       "      <td>0</td>\n",
       "      <td>18300</td>\n",
       "      <td>coupe</td>\n",
       "      <td>2011</td>\n",
       "      <td>manuell</td>\n",
       "      <td>190</td>\n",
       "      <td>NaN</td>\n",
       "      <td>125000</td>\n",
       "      <td>diesel</td>\n",
       "      <td>audi</td>\n",
       "      <td>ja</td>\n",
       "      <td>66954</td>\n",
       "      <td>7.564295</td>\n",
       "      <td>49.202121</td>\n",
       "      <td>Pirmasens</td>\n",
       "    </tr>\n",
       "    <tr>\n",
       "      <td>1</td>\n",
       "      <td>3450</td>\n",
       "      <td>kleinwagen</td>\n",
       "      <td>2007</td>\n",
       "      <td>manuell</td>\n",
       "      <td>88</td>\n",
       "      <td>fiesta</td>\n",
       "      <td>100000</td>\n",
       "      <td>benzin</td>\n",
       "      <td>ford</td>\n",
       "      <td>nein</td>\n",
       "      <td>66954</td>\n",
       "      <td>7.564295</td>\n",
       "      <td>49.202121</td>\n",
       "      <td>Pirmasens</td>\n",
       "    </tr>\n",
       "    <tr>\n",
       "      <td>2</td>\n",
       "      <td>950</td>\n",
       "      <td>bus</td>\n",
       "      <td>1998</td>\n",
       "      <td>manuell</td>\n",
       "      <td>114</td>\n",
       "      <td>espace</td>\n",
       "      <td>150000</td>\n",
       "      <td>benzin</td>\n",
       "      <td>renault</td>\n",
       "      <td>nein</td>\n",
       "      <td>66954</td>\n",
       "      <td>7.564295</td>\n",
       "      <td>49.202121</td>\n",
       "      <td>Pirmasens</td>\n",
       "    </tr>\n",
       "    <tr>\n",
       "      <td>3</td>\n",
       "      <td>10300</td>\n",
       "      <td>kombi</td>\n",
       "      <td>2006</td>\n",
       "      <td>automatik</td>\n",
       "      <td>170</td>\n",
       "      <td>passat</td>\n",
       "      <td>125000</td>\n",
       "      <td>diesel</td>\n",
       "      <td>volkswagen</td>\n",
       "      <td>nein</td>\n",
       "      <td>66954</td>\n",
       "      <td>7.564295</td>\n",
       "      <td>49.202121</td>\n",
       "      <td>Pirmasens</td>\n",
       "    </tr>\n",
       "    <tr>\n",
       "      <td>4</td>\n",
       "      <td>6500</td>\n",
       "      <td>bus</td>\n",
       "      <td>2005</td>\n",
       "      <td>manuell</td>\n",
       "      <td>193</td>\n",
       "      <td>b_klasse</td>\n",
       "      <td>100000</td>\n",
       "      <td>benzin</td>\n",
       "      <td>mercedes_benz</td>\n",
       "      <td>nein</td>\n",
       "      <td>66954</td>\n",
       "      <td>7.564295</td>\n",
       "      <td>49.202121</td>\n",
       "      <td>Pirmasens</td>\n",
       "    </tr>\n",
       "  </tbody>\n",
       "</table>\n",
       "</div>"
      ],
      "text/plain": [
       "   price vehicleType  yearOfRegistration    gearbox  powerPS     model  \\\n",
       "0  18300       coupe                2011    manuell      190       NaN   \n",
       "1   3450  kleinwagen                2007    manuell       88    fiesta   \n",
       "2    950         bus                1998    manuell      114    espace   \n",
       "3  10300       kombi                2006  automatik      170    passat   \n",
       "4   6500         bus                2005    manuell      193  b_klasse   \n",
       "\n",
       "   kilometer fuelType          brand notRepairedDamage  postalCode       lon  \\\n",
       "0     125000   diesel           audi                ja       66954  7.564295   \n",
       "1     100000   benzin           ford              nein       66954  7.564295   \n",
       "2     150000   benzin        renault              nein       66954  7.564295   \n",
       "3     125000   diesel     volkswagen              nein       66954  7.564295   \n",
       "4     100000   benzin  mercedes_benz              nein       66954  7.564295   \n",
       "\n",
       "         lat        Ort  \n",
       "0  49.202121  Pirmasens  \n",
       "1  49.202121  Pirmasens  \n",
       "2  49.202121  Pirmasens  \n",
       "3  49.202121  Pirmasens  \n",
       "4  49.202121  Pirmasens  "
      ]
     },
     "execution_count": 21,
     "metadata": {},
     "output_type": "execute_result"
    }
   ],
   "source": [
    "# Drop the unneeded column #loc_id\n",
    "df_zips = df_zips.drop(columns='#loc_id')\n",
    "# Merge with the auto-dataset on 'postalCode' and 'plz' and create a new DataFrame from it\n",
    "df_autos_locs = pd.merge(df_autos, df_zips, left_on='postalCode', right_on='plz')\n",
    "df_autos_locs = df_autos_locs.drop(columns='plz')\n",
    "df_autos_locs.rename(columns={'Ort': 'city'})\n",
    "df_autos_locs.head()"
   ]
  },
  {
   "cell_type": "code",
   "execution_count": 22,
   "metadata": {
    "scrolled": true
   },
   "outputs": [
    {
     "name": "stdout",
     "output_type": "stream",
     "text": [
      "(319422, 11)\n",
      "(319257, 14)\n"
     ]
    }
   ],
   "source": [
    "print(df_autos.shape)\n",
    "print(df_autos_locs.shape)"
   ]
  },
  {
   "cell_type": "markdown",
   "metadata": {},
   "source": [
    "The number of rows decreased some, from 319422 rows before merging to 319257 afterwards. As there are no explicit NaN-values in the Zip-Codes, it is most likely that this is due to ZIP-Codes, that could not be matched. I assume that those are erratic or non-existing ZIP-codes. As that number is quite low anyways, that is fine.\n",
    "\n",
    "Totally, so far the number of rows decreased from 371528 before cleaning to 319257 afterwards. That is a little more than 50000 rows, but there is still plenty of data."
   ]
  },
  {
   "cell_type": "markdown",
   "metadata": {},
   "source": [
    "### Specific Data Preparation to predict prices\n",
    "To predict the prices, a specific data preparation is needed. For convenience, after this general preparation, it is done in the modelling section."
   ]
  },
  {
   "cell_type": "markdown",
   "metadata": {},
   "source": [
    "## Step 4: Modeling\n",
    "\n",
    "In this section, the analysis itself will be executed. First I will deal with the analytical questions and afterwards the prize-prediction will be implemented."
   ]
  },
  {
   "cell_type": "markdown",
   "metadata": {},
   "source": [
    "### Function definitions for later usage"
   ]
  },
  {
   "cell_type": "code",
   "execution_count": 23,
   "metadata": {},
   "outputs": [],
   "source": [
    "# Define function to count the unique values of a dataframe and return in a sorted fashion. Also drop NaNs before.\n",
    "def count_col_vals(df, col):\n",
    "    # Drop NaNs and return number of dropped rows and remaining rows\n",
    "    len_before = len(df)\n",
    "    df = df.dropna(subset=[col])\n",
    "    print('Dropped {} NaN-Rows for column {}.'.format(len_before - len(df), col))\n",
    "    print('Number of remaining rows is {}.'.format(len(df)))\n",
    "    # Sort and count\n",
    "    data_labels, data_counts = np.unique(df[col],return_counts=True)\n",
    "    d = {'labels': data_labels, 'counts': data_counts}\n",
    "    df_result = pd.DataFrame(data=d).sort_values(by='counts').reset_index(drop=True)\n",
    "    df_result['percentage'] = df_result['counts'] / sum(df_result['counts'])\n",
    "    # Print in descending order and return df\n",
    "    print()\n",
    "    print(df_result.tail(50).iloc[::-1])\n",
    "    return df_result"
   ]
  },
  {
   "cell_type": "code",
   "execution_count": 24,
   "metadata": {},
   "outputs": [],
   "source": [
    "# Define function to plot barchart from dataframe\n",
    "def plot_barchart(data_labels, data_counts, y_label, chart_title, height=10, numbers_label='Count'):\n",
    "    y_pos = np.arange(len(data_labels))\n",
    "    plt.figure(figsize=(20,height))\n",
    "    plt.barh(y_pos, data_counts, align='center', alpha=1)    \n",
    "    plt.yticks(y_pos, data_labels)\n",
    "    plt.xlabel(numbers_label)\n",
    "    plt.ylabel(y_label)\n",
    "    plt.title(chart_title)    \n",
    "    plt.show()"
   ]
  },
  {
   "cell_type": "markdown",
   "metadata": {},
   "source": [
    "### Q1: What are the most common vehicle types?"
   ]
  },
  {
   "cell_type": "code",
   "execution_count": 25,
   "metadata": {},
   "outputs": [
    {
     "name": "stdout",
     "output_type": "stream",
     "text": [
      "Dropped 12124 NaN-Rows for column vehicleType.\n",
      "Number of remaining rows is 307133.\n",
      "\n",
      "       labels  counts  percentage\n",
      "7   limousine   89076    0.290024\n",
      "6  kleinwagen   71594    0.233104\n",
      "5       kombi   62759    0.204338\n",
      "4         bus   27865    0.090726\n",
      "3      cabrio   21631    0.070429\n",
      "2       coupe   17782    0.057897\n",
      "1         suv   13740    0.044736\n",
      "0      andere    2686    0.008745\n"
     ]
    }
   ],
   "source": [
    "df_types_results = count_col_vals(df_autos_locs, 'vehicleType')"
   ]
  },
  {
   "cell_type": "code",
   "execution_count": 26,
   "metadata": {
    "scrolled": false
   },
   "outputs": [
    {
     "data": {
      "image/png": "[encoded data removed]",
      "text/plain": [
       "<Figure size 1440x720 with 1 Axes>"
      ]
     },
     "metadata": {
      "needs_background": "light"
     },
     "output_type": "display_data"
    }
   ],
   "source": [
    "#Plot barchart\n",
    "plot_title = 'Vehicle types with numbers on german used car market'\n",
    "plot_barchart(df_types_results.labels, df_types_results.counts, 'Vehicle type', plot_title)"
   ]
  },
  {
   "cell_type": "markdown",
   "metadata": {},
   "source": [
    "### Q2: Which brands are predominant on the german used cars market?"
   ]
  },
  {
   "cell_type": "code",
   "execution_count": 27,
   "metadata": {
    "scrolled": false
   },
   "outputs": [
    {
     "name": "stdout",
     "output_type": "stream",
     "text": [
      "Dropped 0 NaN-Rows for column brand.\n",
      "Number of remaining rows is 319257.\n",
      "\n",
      "            labels  counts  percentage\n",
      "39      volkswagen   68194    0.213602\n",
      "38             bmw   36229    0.113479\n",
      "37            opel   33600    0.105244\n",
      "36   mercedes_benz   30873    0.096703\n",
      "35            audi   29587    0.092675\n",
      "34            ford   21504    0.067356\n",
      "33         renault   14298    0.044785\n",
      "32         peugeot    9582    0.030013\n",
      "31            fiat    7889    0.024710\n",
      "30            seat    6099    0.019104\n",
      "29           skoda    5125    0.016053\n",
      "28           mazda    4888    0.015311\n",
      "27           smart    4519    0.014155\n",
      "26         citroen    4360    0.013657\n",
      "25          nissan    4217    0.013209\n",
      "24          toyota    4124    0.012917\n",
      "23         hyundai    3200    0.010023\n",
      "22            mini    3167    0.009920\n",
      "21           volvo    2991    0.009369\n",
      "20      mitsubishi    2598    0.008138\n",
      "19           honda    2459    0.007702\n",
      "18  sonstige_autos    2446    0.007662\n",
      "17             kia    2217    0.006944\n",
      "16      alfa_romeo    2054    0.006434\n",
      "15         porsche    2017    0.006318\n",
      "14          suzuki    2002    0.006271\n",
      "13       chevrolet    1551    0.004858\n",
      "12        chrysler    1213    0.003799\n",
      "11           dacia     804    0.002518\n",
      "10            jeep     710    0.002224\n",
      "9       land_rover     688    0.002155\n",
      "8           subaru     683    0.002139\n",
      "7         daihatsu     638    0.001998\n",
      "6           jaguar     553    0.001732\n",
      "5             saab     486    0.001522\n",
      "4           daewoo     415    0.001300\n",
      "3           lancia     406    0.001272\n",
      "2            rover     388    0.001215\n",
      "1          trabant     322    0.001009\n",
      "0             lada     161    0.000504\n"
     ]
    },
    {
     "data": {
      "image/png": "[encoded data removed]",
      "text/plain": [
       "<Figure size 1440x1440 with 1 Axes>"
      ]
     },
     "metadata": {
      "needs_background": "light"
     },
     "output_type": "display_data"
    }
   ],
   "source": [
    "df_brands_results = count_col_vals(df_autos_locs, 'brand')\n",
    "plot_title = 'Brands with numbers on german used car market'\n",
    "plot_barchart(df_brands_results.labels, df_brands_results.counts, 'Brand', plot_title, 20)"
   ]
  },
  {
   "cell_type": "markdown",
   "metadata": {},
   "source": [
    "### Q3: What is the average age of cars on the german used cars market?"
   ]
  },
  {
   "cell_type": "code",
   "execution_count": 28,
   "metadata": {},
   "outputs": [
    {
     "data": {
      "image/png": "[encoded data removed]",
      "text/plain": [
       "<Figure size 1440x720 with 1 Axes>"
      ]
     },
     "metadata": {
      "needs_background": "light"
     },
     "output_type": "display_data"
    }
   ],
   "source": [
    "# Create age column and plot age-histrogram\n",
    "df_autos_locs['age'] = 2016 - df_autos_locs['yearOfRegistration']\n",
    "plt.figure(figsize=(20,10))\n",
    "bins = plt.hist(df_autos_locs['age'], bins=50, histtype='bar')"
   ]
  },
  {
   "cell_type": "markdown",
   "metadata": {},
   "source": [
    "The definitition for an \"Oldtimer\"-car varies, but commonly it is defined as cars with an age of more than 30 years. So display a histogram of non-Oldtimer cats only."
   ]
  },
  {
   "cell_type": "code",
   "execution_count": 29,
   "metadata": {},
   "outputs": [
    {
     "data": {
      "image/png": "[encoded data removed]",
      "text/plain": [
       "<Figure size 1440x720 with 1 Axes>"
      ]
     },
     "metadata": {
      "needs_background": "light"
     },
     "output_type": "display_data"
    }
   ],
   "source": [
    "# Display non-Oldtimer cars only\n",
    "n_years = 30\n",
    "plt.figure(figsize=(20,10))\n",
    "bins = plt.hist(df_autos_locs[df_autos_locs['age'] < n_years].age, bins=n_years, histtype='bar')"
   ]
  },
  {
   "cell_type": "code",
   "execution_count": 30,
   "metadata": {
    "scrolled": true
   },
   "outputs": [
    {
     "name": "stdout",
     "output_type": "stream",
     "text": [
      "count    319257.000000\n",
      "mean       2003.081608\n",
      "std           6.901614\n",
      "min        1911.000000\n",
      "25%        1999.000000\n",
      "50%        2003.000000\n",
      "75%        2008.000000\n",
      "max        2016.000000\n",
      "Name: yearOfRegistration, dtype: float64\n",
      "\n",
      "count    319257.000000\n",
      "mean         12.918392\n",
      "std           6.901614\n",
      "min           0.000000\n",
      "25%           8.000000\n",
      "50%          13.000000\n",
      "75%          17.000000\n",
      "max         105.000000\n",
      "Name: age, dtype: float64\n"
     ]
    }
   ],
   "source": [
    "# Display descriptive statistics on the yearOfRegistration and age\n",
    "print(df_autos_locs['yearOfRegistration'].describe())\n",
    "print()\n",
    "print(df_autos_locs['age'].describe())"
   ]
  },
  {
   "cell_type": "code",
   "execution_count": 31,
   "metadata": {},
   "outputs": [
    {
     "data": {
      "image/png": "[encoded data removed]",
      "text/plain": [
       "<Figure size 720x720 with 1 Axes>"
      ]
     },
     "metadata": {
      "needs_background": "light"
     },
     "output_type": "display_data"
    }
   ],
   "source": [
    "# Plot boxplot of years\n",
    "plt.figure(figsize=(10,10))\n",
    "_ = plt.boxplot(df_autos_locs['yearOfRegistration'])"
   ]
  },
  {
   "cell_type": "code",
   "execution_count": 32,
   "metadata": {},
   "outputs": [
    {
     "data": {
      "image/png": "[encoded data removed]",
      "text/plain": [
       "<Figure size 720x720 with 1 Axes>"
      ]
     },
     "metadata": {
      "needs_background": "light"
     },
     "output_type": "display_data"
    }
   ],
   "source": [
    "# Plot boxplot of car ages\n",
    "plt.figure(figsize=(10,10))\n",
    "_ = plt.boxplot(df_autos_locs['age'])"
   ]
  },
  {
   "cell_type": "markdown",
   "metadata": {},
   "source": [
    "###  Q4: Are there local differences? How are the offers distributed over Germany?"
   ]
  },
  {
   "cell_type": "code",
   "execution_count": 33,
   "metadata": {
    "scrolled": false
   },
   "outputs": [
    {
     "data": {
      "image/png": "[encoded data removed]",
      "text/plain": [
       "<Figure size 864x1080 with 2 Axes>"
      ]
     },
     "metadata": {
      "needs_background": "light"
     },
     "output_type": "display_data"
    }
   ],
   "source": [
    "# Shorten Dataframe and pick random samples\n",
    "n = 10000\n",
    "df_autos_locs_short = df_autos_locs.sample(n, random_state=47)\n",
    "\n",
    "# Plot location-density according to https://python-graph-gallery.com/85-density-plot-with-matplotlib/\n",
    "x = df_autos_locs_short.lon\n",
    "y = df_autos_locs_short.lat\n",
    "\n",
    "# Evaluate a gaussian kde on a regular grid of nbins x nbins over data extents\n",
    "nbins=100\n",
    "k = kde.gaussian_kde([x,y])\n",
    "xi, yi = np.mgrid[x.min():x.max():nbins*1j, y.min():y.max():nbins*2j]\n",
    "zi = k(np.vstack([xi.flatten(), yi.flatten()]))\n",
    " \n",
    "# Make the plot\n",
    "plt.figure(figsize=(12,15))\n",
    "plt.pcolormesh(xi, yi, zi.reshape(xi.shape))\n",
    "plt.colorbar()\n",
    "plt.show()"
   ]
  },
  {
   "cell_type": "code",
   "execution_count": 34,
   "metadata": {},
   "outputs": [
    {
     "name": "stdout",
     "output_type": "stream",
     "text": [
      "Dropped 0 NaN-Rows for column Ort.\n",
      "Number of remaining rows is 319257.\n",
      "\n",
      "                     labels  counts  percentage\n",
      "6214                 Berlin   12768    0.039993\n",
      "6213                Hamburg    6000    0.018794\n",
      "6212                München    4211    0.013190\n",
      "6211      Frankfurt am Main    3797    0.011893\n",
      "6210                   Köln    3599    0.011273\n",
      "6209                  Essen    2540    0.007956\n",
      "6208               Dortmund    2536    0.007943\n",
      "6207               Hannover    2241    0.007019\n",
      "6206               Duisburg    2080    0.006515\n",
      "6205                 Bremen    1983    0.006211\n",
      "6204               Nürnberg    1976    0.006189\n",
      "6203             Düsseldorf    1848    0.005788\n",
      "6202              Stuttgart    1632    0.005112\n",
      "6201              Wuppertal    1606    0.005030\n",
      "6200          Gelsenkirchen    1550    0.004855\n",
      "6199              Bielefeld    1508    0.004723\n",
      "6198                 Bochum    1489    0.004664\n",
      "6197              Wiesbaden    1486    0.004655\n",
      "6196                Leipzig    1340    0.004197\n",
      "6195        Mönchengladbach    1115    0.003492\n",
      "6194                Dresden    1099    0.003442\n",
      "6193               Augsburg    1032    0.003233\n",
      "6192           Braunschweig    1028    0.003220\n",
      "6191                   Kiel    1022    0.003201\n",
      "6190                 Aachen     968    0.003032\n",
      "6189             Oberhausen     940    0.002944\n",
      "6188                   Hamm     934    0.002926\n",
      "6187               Mannheim     925    0.002897\n",
      "6186                 Lübeck     908    0.002844\n",
      "6185                 Kassel     896    0.002807\n",
      "6184                  Mainz     896    0.002807\n",
      "6183                Münster     879    0.002753\n",
      "6182            Saarbrücken     841    0.002634\n",
      "6181                Krefeld     817    0.002559\n",
      "6180                  Herne     809    0.002534\n",
      "6179                  Hagen     787    0.002465\n",
      "6178                   Bonn     764    0.002393\n",
      "6177               Solingen     736    0.002305\n",
      "6176              Karlsruhe     733    0.002296\n",
      "6175              Paderborn     726    0.002274\n",
      "6174              Osnabrück     715    0.002240\n",
      "6173              Magdeburg     712    0.002230\n",
      "6172                Koblenz     711    0.002227\n",
      "6171             Ingolstadt     701    0.002196\n",
      "6170                 Siegen     696    0.002180\n",
      "6169    Mülheim an der Ruhr     676    0.002117\n",
      "6168             Salzgitter     656    0.002055\n",
      "6167  Oldenburg (Oldenburg)     647    0.002027\n",
      "6166   Freiburg im Breisgau     638    0.001998\n",
      "6165             Leverkusen     635    0.001989\n"
     ]
    }
   ],
   "source": [
    "df_cities_results = count_col_vals(df_autos_locs, 'Ort')"
   ]
  },
  {
   "cell_type": "code",
   "execution_count": 35,
   "metadata": {
    "scrolled": false
   },
   "outputs": [
    {
     "data": {
      "image/png": "[encoded data removed]",
      "text/plain": [
       "<Figure size 1440x1080 with 1 Axes>"
      ]
     },
     "metadata": {
      "needs_background": "light"
     },
     "output_type": "display_data"
    }
   ],
   "source": [
    "n = 20\n",
    "df_cities_results_short = df_cities_results.tail(n)\n",
    "plot_title = 'Cities with numbers on german used car market'\n",
    "plot_barchart(df_cities_results_short.labels, df_cities_results_short.counts, 'City', plot_title, 15)"
   ]
  },
  {
   "cell_type": "markdown",
   "metadata": {},
   "source": [
    "In the following, the median is used instead of the mean, as it is more robust to extreme values and thus more meaningful in this case, as there are quite some extreme values."
   ]
  },
  {
   "cell_type": "code",
   "execution_count": 36,
   "metadata": {
    "scrolled": false
   },
   "outputs": [
    {
     "name": "stdout",
     "output_type": "stream",
     "text": [
      "Dropped 0 NaN-Rows for column lastSeen.\n",
      "Number of remaining rows is 319257.\n"
     ]
    },
    {
     "data": {
      "text/html": [
       "<div>\n",
       "<style scoped>\n",
       "    .dataframe tbody tr th:only-of-type {\n",
       "        vertical-align: middle;\n",
       "    }\n",
       "\n",
       "    .dataframe tbody tr th {\n",
       "        vertical-align: top;\n",
       "    }\n",
       "\n",
       "    .dataframe thead th {\n",
       "        text-align: right;\n",
       "    }\n",
       "</style>\n",
       "<table border=\"1\" class=\"dataframe\">\n",
       "  <thead>\n",
       "    <tr style=\"text-align: right;\">\n",
       "      <th></th>\n",
       "      <th>price</th>\n",
       "      <th>yearOfRegistration</th>\n",
       "      <th>powerPS</th>\n",
       "      <th>kilometer</th>\n",
       "      <th>age</th>\n",
       "    </tr>\n",
       "    <tr>\n",
       "      <th>Ort</th>\n",
       "      <th></th>\n",
       "      <th></th>\n",
       "      <th></th>\n",
       "      <th></th>\n",
       "      <th></th>\n",
       "    </tr>\n",
       "  </thead>\n",
       "  <tbody>\n",
       "    <tr>\n",
       "      <td>Berlin</td>\n",
       "      <td>3500.0</td>\n",
       "      <td>2004.0</td>\n",
       "      <td>116.0</td>\n",
       "      <td>150000.0</td>\n",
       "      <td>12.0</td>\n",
       "    </tr>\n",
       "    <tr>\n",
       "      <td>Bielefeld</td>\n",
       "      <td>3550.0</td>\n",
       "      <td>2004.0</td>\n",
       "      <td>116.0</td>\n",
       "      <td>150000.0</td>\n",
       "      <td>12.0</td>\n",
       "    </tr>\n",
       "    <tr>\n",
       "      <td>Bochum</td>\n",
       "      <td>3300.0</td>\n",
       "      <td>2004.0</td>\n",
       "      <td>110.0</td>\n",
       "      <td>150000.0</td>\n",
       "      <td>12.0</td>\n",
       "    </tr>\n",
       "    <tr>\n",
       "      <td>Bremen</td>\n",
       "      <td>2990.0</td>\n",
       "      <td>2003.0</td>\n",
       "      <td>110.0</td>\n",
       "      <td>150000.0</td>\n",
       "      <td>13.0</td>\n",
       "    </tr>\n",
       "    <tr>\n",
       "      <td>Dortmund</td>\n",
       "      <td>3200.0</td>\n",
       "      <td>2004.0</td>\n",
       "      <td>115.0</td>\n",
       "      <td>150000.0</td>\n",
       "      <td>12.0</td>\n",
       "    </tr>\n",
       "    <tr>\n",
       "      <td>Duisburg</td>\n",
       "      <td>2525.0</td>\n",
       "      <td>2003.0</td>\n",
       "      <td>107.0</td>\n",
       "      <td>150000.0</td>\n",
       "      <td>13.0</td>\n",
       "    </tr>\n",
       "    <tr>\n",
       "      <td>Düsseldorf</td>\n",
       "      <td>3450.0</td>\n",
       "      <td>2003.0</td>\n",
       "      <td>117.5</td>\n",
       "      <td>150000.0</td>\n",
       "      <td>13.0</td>\n",
       "    </tr>\n",
       "    <tr>\n",
       "      <td>Essen</td>\n",
       "      <td>2990.0</td>\n",
       "      <td>2003.0</td>\n",
       "      <td>110.0</td>\n",
       "      <td>150000.0</td>\n",
       "      <td>13.0</td>\n",
       "    </tr>\n",
       "    <tr>\n",
       "      <td>Frankfurt am Main</td>\n",
       "      <td>4440.0</td>\n",
       "      <td>2005.0</td>\n",
       "      <td>129.0</td>\n",
       "      <td>150000.0</td>\n",
       "      <td>11.0</td>\n",
       "    </tr>\n",
       "    <tr>\n",
       "      <td>Gelsenkirchen</td>\n",
       "      <td>2900.0</td>\n",
       "      <td>2003.0</td>\n",
       "      <td>113.0</td>\n",
       "      <td>150000.0</td>\n",
       "      <td>13.0</td>\n",
       "    </tr>\n",
       "    <tr>\n",
       "      <td>Hamburg</td>\n",
       "      <td>3999.0</td>\n",
       "      <td>2004.0</td>\n",
       "      <td>116.0</td>\n",
       "      <td>150000.0</td>\n",
       "      <td>12.0</td>\n",
       "    </tr>\n",
       "    <tr>\n",
       "      <td>Hannover</td>\n",
       "      <td>3699.0</td>\n",
       "      <td>2004.0</td>\n",
       "      <td>116.0</td>\n",
       "      <td>150000.0</td>\n",
       "      <td>12.0</td>\n",
       "    </tr>\n",
       "    <tr>\n",
       "      <td>Köln</td>\n",
       "      <td>3550.0</td>\n",
       "      <td>2004.0</td>\n",
       "      <td>115.0</td>\n",
       "      <td>150000.0</td>\n",
       "      <td>12.0</td>\n",
       "    </tr>\n",
       "    <tr>\n",
       "      <td>Leipzig</td>\n",
       "      <td>2999.0</td>\n",
       "      <td>2002.0</td>\n",
       "      <td>116.0</td>\n",
       "      <td>150000.0</td>\n",
       "      <td>14.0</td>\n",
       "    </tr>\n",
       "    <tr>\n",
       "      <td>Mönchengladbach</td>\n",
       "      <td>2700.0</td>\n",
       "      <td>2003.0</td>\n",
       "      <td>105.0</td>\n",
       "      <td>150000.0</td>\n",
       "      <td>13.0</td>\n",
       "    </tr>\n",
       "    <tr>\n",
       "      <td>München</td>\n",
       "      <td>5490.0</td>\n",
       "      <td>2005.0</td>\n",
       "      <td>136.0</td>\n",
       "      <td>150000.0</td>\n",
       "      <td>11.0</td>\n",
       "    </tr>\n",
       "    <tr>\n",
       "      <td>Nürnberg</td>\n",
       "      <td>4299.5</td>\n",
       "      <td>2004.0</td>\n",
       "      <td>125.0</td>\n",
       "      <td>150000.0</td>\n",
       "      <td>12.0</td>\n",
       "    </tr>\n",
       "    <tr>\n",
       "      <td>Stuttgart</td>\n",
       "      <td>4750.0</td>\n",
       "      <td>2004.0</td>\n",
       "      <td>128.0</td>\n",
       "      <td>150000.0</td>\n",
       "      <td>12.0</td>\n",
       "    </tr>\n",
       "    <tr>\n",
       "      <td>Wiesbaden</td>\n",
       "      <td>3900.0</td>\n",
       "      <td>2004.0</td>\n",
       "      <td>120.0</td>\n",
       "      <td>150000.0</td>\n",
       "      <td>12.0</td>\n",
       "    </tr>\n",
       "    <tr>\n",
       "      <td>Wuppertal</td>\n",
       "      <td>2990.0</td>\n",
       "      <td>2003.0</td>\n",
       "      <td>105.0</td>\n",
       "      <td>150000.0</td>\n",
       "      <td>13.0</td>\n",
       "    </tr>\n",
       "  </tbody>\n",
       "</table>\n",
       "</div>"
      ],
      "text/plain": [
       "                    price  yearOfRegistration  powerPS  kilometer   age\n",
       "Ort                                                                    \n",
       "Berlin             3500.0              2004.0    116.0   150000.0  12.0\n",
       "Bielefeld          3550.0              2004.0    116.0   150000.0  12.0\n",
       "Bochum             3300.0              2004.0    110.0   150000.0  12.0\n",
       "Bremen             2990.0              2003.0    110.0   150000.0  13.0\n",
       "Dortmund           3200.0              2004.0    115.0   150000.0  12.0\n",
       "Duisburg           2525.0              2003.0    107.0   150000.0  13.0\n",
       "Düsseldorf         3450.0              2003.0    117.5   150000.0  13.0\n",
       "Essen              2990.0              2003.0    110.0   150000.0  13.0\n",
       "Frankfurt am Main  4440.0              2005.0    129.0   150000.0  11.0\n",
       "Gelsenkirchen      2900.0              2003.0    113.0   150000.0  13.0\n",
       "Hamburg            3999.0              2004.0    116.0   150000.0  12.0\n",
       "Hannover           3699.0              2004.0    116.0   150000.0  12.0\n",
       "Köln               3550.0              2004.0    115.0   150000.0  12.0\n",
       "Leipzig            2999.0              2002.0    116.0   150000.0  14.0\n",
       "Mönchengladbach    2700.0              2003.0    105.0   150000.0  13.0\n",
       "München            5490.0              2005.0    136.0   150000.0  11.0\n",
       "Nürnberg           4299.5              2004.0    125.0   150000.0  12.0\n",
       "Stuttgart          4750.0              2004.0    128.0   150000.0  12.0\n",
       "Wiesbaden          3900.0              2004.0    120.0   150000.0  12.0\n",
       "Wuppertal          2990.0              2003.0    105.0   150000.0  13.0"
      ]
     },
     "execution_count": 36,
     "metadata": {},
     "output_type": "execute_result"
    }
   ],
   "source": [
    "# Of those n cities with the most offers, group by city and display mean values\n",
    "\n",
    "len_before = len(df_autos_locs)\n",
    "df = df_autos_locs.dropna(subset=['Ort']).dropna(subset=['price'])\n",
    "print('Dropped {} NaN-Rows for column {}.'.format(len_before - len(df), col))\n",
    "print('Number of remaining rows is {}.'.format(len(df)))\n",
    "\n",
    "# Sort and count\n",
    "df = df[df.Ort.isin(df_cities_results_short.labels.values)]\n",
    "\n",
    "df_result = df.groupby(['Ort']).median().drop(columns=['postalCode', 'lon', 'lat'])\n",
    "df_result"
   ]
  },
  {
   "cell_type": "code",
   "execution_count": 37,
   "metadata": {},
   "outputs": [
    {
     "data": {
      "image/png": "[encoded data removed]",
      "text/plain": [
       "<Figure size 1440x1080 with 1 Axes>"
      ]
     },
     "metadata": {
      "needs_background": "light"
     },
     "output_type": "display_data"
    }
   ],
   "source": [
    "# Print barchart of prizes\n",
    "df_result = df_result.sort_values(by='price')\n",
    "plot_title = 'Median car prices by city on german used cars market'\n",
    "plot_barchart(df_result.index, df_result.price, 'City', plot_title, 15, 'Price')"
   ]
  },
  {
   "cell_type": "code",
   "execution_count": 38,
   "metadata": {},
   "outputs": [
    {
     "data": {
      "image/png": "[encoded data removed]",
      "text/plain": [
       "<Figure size 1440x1080 with 1 Axes>"
      ]
     },
     "metadata": {
      "needs_background": "light"
     },
     "output_type": "display_data"
    }
   ],
   "source": [
    "# Print barchart of prizes\n",
    "df_result = df_result.sort_values(by='powerPS')\n",
    "plot_title = 'Median car power by city on german used cars market'\n",
    "plot_barchart(df_result.index, df_result.powerPS, 'City', plot_title, 15, 'Power [PS]')"
   ]
  },
  {
   "cell_type": "code",
   "execution_count": 39,
   "metadata": {
    "scrolled": false
   },
   "outputs": [
    {
     "data": {
      "image/png": "[encoded data removed]",
      "text/plain": [
       "<Figure size 1440x1080 with 1 Axes>"
      ]
     },
     "metadata": {
      "needs_background": "light"
     },
     "output_type": "display_data"
    }
   ],
   "source": [
    "# Print barchart of prizes\n",
    "df_result = df_result.sort_values(by='age')\n",
    "plot_title = 'Median car age by city on german used cars market'\n",
    "plot_barchart(df_result.index, df_result.age, 'City', plot_title, 15, 'age [years]')"
   ]
  },
  {
   "cell_type": "markdown",
   "metadata": {},
   "source": [
    "### Q5: Concerning motorization: Which fuel-systems are preferred? What is the average motor-power?"
   ]
  },
  {
   "cell_type": "code",
   "execution_count": 40,
   "metadata": {
    "scrolled": false
   },
   "outputs": [
    {
     "name": "stdout",
     "output_type": "stream",
     "text": [
      "Dropped 16967 NaN-Rows for column fuelType.\n",
      "Number of remaining rows is 302290.\n",
      "\n",
      "    labels  counts  percentage\n",
      "6   benzin  198792    0.657620\n",
      "5   diesel   97710    0.323233\n",
      "4      lpg    4861    0.016081\n",
      "3      cng     494    0.001634\n",
      "2   hybrid     245    0.000810\n",
      "1   andere     100    0.000331\n",
      "0  elektro      88    0.000291\n"
     ]
    },
    {
     "data": {
      "image/png": "[encoded data removed]",
      "text/plain": [
       "<Figure size 1440x360 with 1 Axes>"
      ]
     },
     "metadata": {
      "needs_background": "light"
     },
     "output_type": "display_data"
    }
   ],
   "source": [
    "df_brands_results = count_col_vals(df_autos_locs, 'fuelType')\n",
    "plot_title = 'fuelTypes with numbers on german used car market'\n",
    "plot_barchart(df_brands_results.labels, df_brands_results.counts, 'Fuel Type', plot_title, 5)"
   ]
  },
  {
   "cell_type": "code",
   "execution_count": 41,
   "metadata": {
    "scrolled": false
   },
   "outputs": [
    {
     "name": "stdout",
     "output_type": "stream",
     "text": [
      "Dropped 5881 NaN-Rows for column gearbox.\n",
      "Number of remaining rows is 313376.\n",
      "\n",
      "      labels  counts  percentage\n",
      "1    manuell  242956    0.775286\n",
      "0  automatik   70420    0.224714\n"
     ]
    },
    {
     "data": {
      "image/png": "[encoded data removed]",
      "text/plain": [
       "<Figure size 1440x360 with 1 Axes>"
      ]
     },
     "metadata": {
      "needs_background": "light"
     },
     "output_type": "display_data"
    }
   ],
   "source": [
    "df_brands_results = count_col_vals(df_autos_locs, 'gearbox')\n",
    "plot_title = 'fuelTypes with numbers on german used car market'\n",
    "plot_barchart(df_brands_results.labels, df_brands_results.counts, 'Gear Type', plot_title, 5)"
   ]
  },
  {
   "cell_type": "code",
   "execution_count": 42,
   "metadata": {},
   "outputs": [
    {
     "data": {
      "text/plain": [
       "count    319257.000000\n",
       "mean        126.452667\n",
       "std          62.933838\n",
       "min           1.000000\n",
       "25%          80.000000\n",
       "50%         116.000000\n",
       "75%         150.000000\n",
       "max         999.000000\n",
       "Name: powerPS, dtype: float64"
      ]
     },
     "execution_count": 42,
     "metadata": {},
     "output_type": "execute_result"
    }
   ],
   "source": [
    "# Descriptive Statistics on Power\n",
    "df_autos_locs['powerPS'].describe()"
   ]
  },
  {
   "cell_type": "code",
   "execution_count": 43,
   "metadata": {
    "scrolled": false
   },
   "outputs": [
    {
     "data": {
      "image/png": "[encoded data removed]",
      "text/plain": [
       "<Figure size 720x720 with 1 Axes>"
      ]
     },
     "metadata": {
      "needs_background": "light"
     },
     "output_type": "display_data"
    }
   ],
   "source": [
    "# Plot boxplot of motor power\n",
    "plt.figure(figsize=(10,10))\n",
    "_ = plt.boxplot(df_autos_locs['powerPS'])"
   ]
  },
  {
   "cell_type": "markdown",
   "metadata": {},
   "source": [
    "### Q6: What is the distribution of sale prices?"
   ]
  },
  {
   "cell_type": "code",
   "execution_count": 44,
   "metadata": {
    "scrolled": true
   },
   "outputs": [
    {
     "data": {
      "text/plain": [
       "count    319257.000000\n",
       "mean       6257.578756\n",
       "std       11540.950434\n",
       "min           0.000000\n",
       "25%        1300.000000\n",
       "50%        3393.000000\n",
       "75%        7900.000000\n",
       "max      999999.000000\n",
       "Name: price, dtype: float64"
      ]
     },
     "execution_count": 44,
     "metadata": {},
     "output_type": "execute_result"
    }
   ],
   "source": [
    "# Descriptive Statistics on sale prices\n",
    "df_autos_locs['price'].describe()"
   ]
  },
  {
   "cell_type": "code",
   "execution_count": 45,
   "metadata": {
    "scrolled": false
   },
   "outputs": [
    {
     "data": {
      "image/png": "[encoded data removed]",
      "text/plain": [
       "<Figure size 720x720 with 1 Axes>"
      ]
     },
     "metadata": {
      "needs_background": "light"
     },
     "output_type": "display_data"
    }
   ],
   "source": [
    "# Plot boxplot of sale prices\n",
    "plt.figure(figsize=(10,10))\n",
    "_ = plt.boxplot(df_autos_locs['price'])"
   ]
  },
  {
   "cell_type": "code",
   "execution_count": 46,
   "metadata": {
    "scrolled": false
   },
   "outputs": [
    {
     "data": {
      "image/png": "[encoded data removed]",
      "text/plain": [
       "<Figure size 1440x720 with 1 Axes>"
      ]
     },
     "metadata": {
      "needs_background": "light"
     },
     "output_type": "display_data"
    }
   ],
   "source": [
    "# Plot histogram of sale prices\n",
    "n_bins = 25\n",
    "plt.figure(figsize=(20,10))\n",
    "bins = plt.hist(df_autos_locs.price, bins=n_bins, histtype='bar')"
   ]
  },
  {
   "cell_type": "code",
   "execution_count": 47,
   "metadata": {
    "scrolled": false
   },
   "outputs": [
    {
     "data": {
      "image/png": "[encoded data removed]",
      "text/plain": [
       "<Figure size 1440x720 with 1 Axes>"
      ]
     },
     "metadata": {
      "needs_background": "light"
     },
     "output_type": "display_data"
    }
   ],
   "source": [
    "# Plot histogram of sale prices\n",
    "max_price = 50000\n",
    "n_bins = 50\n",
    "plt.figure(figsize=(20,10))\n",
    "bins = plt.hist(df_autos_locs[df_autos_locs.price <= max_price].price, bins=n_bins, histtype='bar')"
   ]
  },
  {
   "cell_type": "markdown",
   "metadata": {},
   "source": [
    "### Q7: What is a common mileage for used cars?"
   ]
  },
  {
   "cell_type": "code",
   "execution_count": 48,
   "metadata": {
    "scrolled": true
   },
   "outputs": [
    {
     "data": {
      "text/plain": [
       "count    319257.000000\n",
       "mean     125437.280937\n",
       "std       39434.657862\n",
       "min        5000.000000\n",
       "25%      100000.000000\n",
       "50%      150000.000000\n",
       "75%      150000.000000\n",
       "max      150000.000000\n",
       "Name: kilometer, dtype: float64"
      ]
     },
     "execution_count": 48,
     "metadata": {},
     "output_type": "execute_result"
    }
   ],
   "source": [
    "# Descriptive Statistics on Kilometers (mileage)\n",
    "df_autos_locs['kilometer'].describe()"
   ]
  },
  {
   "cell_type": "code",
   "execution_count": 49,
   "metadata": {
    "scrolled": false
   },
   "outputs": [
    {
     "data": {
      "image/png": "[encoded data removed]",
      "text/plain": [
       "<Figure size 720x720 with 1 Axes>"
      ]
     },
     "metadata": {
      "needs_background": "light"
     },
     "output_type": "display_data"
    }
   ],
   "source": [
    "# Plot boxplot of kilometers\n",
    "plt.figure(figsize=(10,10))\n",
    "_ = plt.boxplot(df_autos_locs['kilometer'])"
   ]
  },
  {
   "cell_type": "code",
   "execution_count": 50,
   "metadata": {},
   "outputs": [
    {
     "data": {
      "image/png": "[encoded data removed]",
      "text/plain": [
       "<Figure size 1440x720 with 1 Axes>"
      ]
     },
     "metadata": {
      "needs_background": "light"
     },
     "output_type": "display_data"
    }
   ],
   "source": [
    "# Plot histogram of kilometers\n",
    "n_bins = 10\n",
    "plt.figure(figsize=(20,10))\n",
    "bins = plt.hist(df_autos_locs.kilometer, bins=n_bins, histtype='bar')"
   ]
  },
  {
   "cell_type": "markdown",
   "metadata": {},
   "source": [
    "### Q8: Can a car value be predicted by using features from the add?"
   ]
  },
  {
   "cell_type": "markdown",
   "metadata": {},
   "source": [
    "For this question, first of all, (a) suited algorithm(s) need(s) to be chosen. For this, sklearn's 'Choosing the right estimator'-page is helpful, available via https://scikit-learn.org/stable/tutorial/machine_learning_map/index.html :\n",
    "\n",
    "As we want to predict prizes, the following algorithms are possible:\n",
    "Start --> >50 samples - yes --> predicting a category - no --> predicting a quantity - yes --> <100K samples - no --> few features should be important - no --> RidgeRegression / SVR(kernel='linear) --> not working - ? --> SVR(kernel='rbf') / EnsembleRegressors\n",
    "\n",
    "Alright, that leaves us with a couple of regression-algorithms to select the best-performing one from:\n",
    "- RidgeRegression\n",
    "- SVR(kernel='linear)\n",
    "- SVR(kernel='rbf')\n",
    "- EnsembleRegressors\n",
    "\n",
    "Several specific data preparation and further steps are needed. The pipeline for this is as follows:\n",
    "1. Chose generally relevant columns\n",
    "- Delete remaining NaN-values\n",
    "- Transform discrete Values\n",
    "- ~~Tune prices to a normal distribution, as they are right-skewed~~\n",
    "- Add dummy columns for the cateogorial features\n",
    "- Select relevant features\n",
    "- ~~Normalize/Scale features~~\n",
    "- Train-Test-Split\n",
    "- Train regressor\n",
    "- Evaluate and fine-tune"
   ]
  },
  {
   "cell_type": "code",
   "execution_count": 51,
   "metadata": {},
   "outputs": [
    {
     "data": {
      "text/plain": [
       "(319257, 15)"
      ]
     },
     "execution_count": 51,
     "metadata": {},
     "output_type": "execute_result"
    }
   ],
   "source": [
    "df_autos_locs.shape"
   ]
  },
  {
   "cell_type": "code",
   "execution_count": 52,
   "metadata": {
    "scrolled": true
   },
   "outputs": [
    {
     "data": {
      "text/html": [
       "<div>\n",
       "<style scoped>\n",
       "    .dataframe tbody tr th:only-of-type {\n",
       "        vertical-align: middle;\n",
       "    }\n",
       "\n",
       "    .dataframe tbody tr th {\n",
       "        vertical-align: top;\n",
       "    }\n",
       "\n",
       "    .dataframe thead th {\n",
       "        text-align: right;\n",
       "    }\n",
       "</style>\n",
       "<table border=\"1\" class=\"dataframe\">\n",
       "  <thead>\n",
       "    <tr style=\"text-align: right;\">\n",
       "      <th></th>\n",
       "      <th>price</th>\n",
       "      <th>vehicleType</th>\n",
       "      <th>yearOfRegistration</th>\n",
       "      <th>gearbox</th>\n",
       "      <th>powerPS</th>\n",
       "      <th>model</th>\n",
       "      <th>kilometer</th>\n",
       "      <th>fuelType</th>\n",
       "      <th>brand</th>\n",
       "      <th>notRepairedDamage</th>\n",
       "      <th>postalCode</th>\n",
       "      <th>lon</th>\n",
       "      <th>lat</th>\n",
       "      <th>Ort</th>\n",
       "      <th>age</th>\n",
       "    </tr>\n",
       "  </thead>\n",
       "  <tbody>\n",
       "    <tr>\n",
       "      <td>0</td>\n",
       "      <td>18300</td>\n",
       "      <td>coupe</td>\n",
       "      <td>2011</td>\n",
       "      <td>manuell</td>\n",
       "      <td>190</td>\n",
       "      <td>NaN</td>\n",
       "      <td>125000</td>\n",
       "      <td>diesel</td>\n",
       "      <td>audi</td>\n",
       "      <td>ja</td>\n",
       "      <td>66954</td>\n",
       "      <td>7.564295</td>\n",
       "      <td>49.202121</td>\n",
       "      <td>Pirmasens</td>\n",
       "      <td>5</td>\n",
       "    </tr>\n",
       "    <tr>\n",
       "      <td>1</td>\n",
       "      <td>3450</td>\n",
       "      <td>kleinwagen</td>\n",
       "      <td>2007</td>\n",
       "      <td>manuell</td>\n",
       "      <td>88</td>\n",
       "      <td>fiesta</td>\n",
       "      <td>100000</td>\n",
       "      <td>benzin</td>\n",
       "      <td>ford</td>\n",
       "      <td>nein</td>\n",
       "      <td>66954</td>\n",
       "      <td>7.564295</td>\n",
       "      <td>49.202121</td>\n",
       "      <td>Pirmasens</td>\n",
       "      <td>9</td>\n",
       "    </tr>\n",
       "    <tr>\n",
       "      <td>2</td>\n",
       "      <td>950</td>\n",
       "      <td>bus</td>\n",
       "      <td>1998</td>\n",
       "      <td>manuell</td>\n",
       "      <td>114</td>\n",
       "      <td>espace</td>\n",
       "      <td>150000</td>\n",
       "      <td>benzin</td>\n",
       "      <td>renault</td>\n",
       "      <td>nein</td>\n",
       "      <td>66954</td>\n",
       "      <td>7.564295</td>\n",
       "      <td>49.202121</td>\n",
       "      <td>Pirmasens</td>\n",
       "      <td>18</td>\n",
       "    </tr>\n",
       "  </tbody>\n",
       "</table>\n",
       "</div>"
      ],
      "text/plain": [
       "   price vehicleType  yearOfRegistration  gearbox  powerPS   model  kilometer  \\\n",
       "0  18300       coupe                2011  manuell      190     NaN     125000   \n",
       "1   3450  kleinwagen                2007  manuell       88  fiesta     100000   \n",
       "2    950         bus                1998  manuell      114  espace     150000   \n",
       "\n",
       "  fuelType    brand notRepairedDamage  postalCode       lon        lat  \\\n",
       "0   diesel     audi                ja       66954  7.564295  49.202121   \n",
       "1   benzin     ford              nein       66954  7.564295  49.202121   \n",
       "2   benzin  renault              nein       66954  7.564295  49.202121   \n",
       "\n",
       "         Ort  age  \n",
       "0  Pirmasens    5  \n",
       "1  Pirmasens    9  \n",
       "2  Pirmasens   18  "
      ]
     },
     "execution_count": 52,
     "metadata": {},
     "output_type": "execute_result"
    }
   ],
   "source": [
    "df_autos_locs.head(3)"
   ]
  },
  {
   "cell_type": "code",
   "execution_count": 53,
   "metadata": {},
   "outputs": [
    {
     "data": {
      "text/plain": [
       "(257091, 11)"
      ]
     },
     "execution_count": 53,
     "metadata": {},
     "output_type": "execute_result"
    }
   ],
   "source": [
    "# Delete model-column, as it is too specific.\n",
    "# Also postal-code and Ort (city) are not useful for this task, as there are also too many values.\n",
    "# 'yearOfRegistration' is redunant with age and is therefore deleted as well.\n",
    "df_autos_locs_reg = df_autos_locs.drop(columns=['model', 'postalCode', 'Ort', 'yearOfRegistration'])\n",
    "\n",
    "# Drop Rows, that have NaN-values in relevant columns\n",
    "df_autos_locs_reg = df_autos_locs_reg.dropna()\n",
    "df_autos_locs_reg.shape"
   ]
  },
  {
   "cell_type": "markdown",
   "metadata": {},
   "source": [
    "After dropping all rows containing NaN values, the dataset still has 257091 rows, what definitely is sufficient."
   ]
  },
  {
   "cell_type": "code",
   "execution_count": 54,
   "metadata": {
    "scrolled": true
   },
   "outputs": [
    {
     "data": {
      "text/html": [
       "<div>\n",
       "<style scoped>\n",
       "    .dataframe tbody tr th:only-of-type {\n",
       "        vertical-align: middle;\n",
       "    }\n",
       "\n",
       "    .dataframe tbody tr th {\n",
       "        vertical-align: top;\n",
       "    }\n",
       "\n",
       "    .dataframe thead th {\n",
       "        text-align: right;\n",
       "    }\n",
       "</style>\n",
       "<table border=\"1\" class=\"dataframe\">\n",
       "  <thead>\n",
       "    <tr style=\"text-align: right;\">\n",
       "      <th></th>\n",
       "      <th>price</th>\n",
       "      <th>vehicleType</th>\n",
       "      <th>automaticGear</th>\n",
       "      <th>powerPS</th>\n",
       "      <th>kilometer</th>\n",
       "      <th>fuelType</th>\n",
       "      <th>brand</th>\n",
       "      <th>notRepairedDamage</th>\n",
       "      <th>lon</th>\n",
       "      <th>lat</th>\n",
       "      <th>age</th>\n",
       "    </tr>\n",
       "  </thead>\n",
       "  <tbody>\n",
       "    <tr>\n",
       "      <td>0</td>\n",
       "      <td>18300</td>\n",
       "      <td>coupe</td>\n",
       "      <td>0</td>\n",
       "      <td>190</td>\n",
       "      <td>125000</td>\n",
       "      <td>diesel</td>\n",
       "      <td>audi</td>\n",
       "      <td>1</td>\n",
       "      <td>7.564295</td>\n",
       "      <td>49.202121</td>\n",
       "      <td>5</td>\n",
       "    </tr>\n",
       "    <tr>\n",
       "      <td>1</td>\n",
       "      <td>3450</td>\n",
       "      <td>kleinwagen</td>\n",
       "      <td>0</td>\n",
       "      <td>88</td>\n",
       "      <td>100000</td>\n",
       "      <td>benzin</td>\n",
       "      <td>ford</td>\n",
       "      <td>0</td>\n",
       "      <td>7.564295</td>\n",
       "      <td>49.202121</td>\n",
       "      <td>9</td>\n",
       "    </tr>\n",
       "    <tr>\n",
       "      <td>2</td>\n",
       "      <td>950</td>\n",
       "      <td>bus</td>\n",
       "      <td>0</td>\n",
       "      <td>114</td>\n",
       "      <td>150000</td>\n",
       "      <td>benzin</td>\n",
       "      <td>renault</td>\n",
       "      <td>0</td>\n",
       "      <td>7.564295</td>\n",
       "      <td>49.202121</td>\n",
       "      <td>18</td>\n",
       "    </tr>\n",
       "  </tbody>\n",
       "</table>\n",
       "</div>"
      ],
      "text/plain": [
       "   price vehicleType  automaticGear  powerPS  kilometer fuelType    brand  \\\n",
       "0  18300       coupe              0      190     125000   diesel     audi   \n",
       "1   3450  kleinwagen              0       88     100000   benzin     ford   \n",
       "2    950         bus              0      114     150000   benzin  renault   \n",
       "\n",
       "   notRepairedDamage       lon        lat  age  \n",
       "0                  1  7.564295  49.202121    5  \n",
       "1                  0  7.564295  49.202121    9  \n",
       "2                  0  7.564295  49.202121   18  "
      ]
     },
     "execution_count": 54,
     "metadata": {},
     "output_type": "execute_result"
    }
   ],
   "source": [
    "# Transform discrete values in dataset\n",
    "# There are two discrete columns: 'gearbox' and 'notRepairedDamage'.\n",
    "# 'gearbox' will be transformed to 'automaticGear', with 1 for automatic and 0 for manuell. 'Gearbox' will be deleted.\n",
    "\n",
    "d = {'automatik': 1,'manuell': 0}\n",
    "df_autos_locs_reg.gearbox = [d[item] for item in df_autos_locs_reg.gearbox]\n",
    "df_autos_locs_reg = df_autos_locs_reg.rename(columns={'gearbox': 'automaticGear'})\n",
    "\n",
    "# Transform values in 'notRepairedDamage'\n",
    "d = {'ja': 1,'nein': 0}\n",
    "df_autos_locs_reg.notRepairedDamage = [d[item] for item in df_autos_locs_reg.notRepairedDamage]\n",
    "\n",
    "df_autos_locs_reg.head(3)"
   ]
  },
  {
   "cell_type": "code",
   "execution_count": 55,
   "metadata": {
    "scrolled": true
   },
   "outputs": [
    {
     "data": {
      "text/html": [
       "<style  type=\"text/css\" >\n",
       "    #T_2490ba58_f4e9_11e9_a6e7_b42e991ec1fcrow0_col0 {\n",
       "            background-color:  #b40426;\n",
       "            color:  #f1f1f1;\n",
       "        }    #T_2490ba58_f4e9_11e9_a6e7_b42e991ec1fcrow0_col1 {\n",
       "            background-color:  #a1c0ff;\n",
       "            color:  #000000;\n",
       "        }    #T_2490ba58_f4e9_11e9_a6e7_b42e991ec1fcrow0_col2 {\n",
       "            background-color:  #edd2c3;\n",
       "            color:  #000000;\n",
       "        }    #T_2490ba58_f4e9_11e9_a6e7_b42e991ec1fcrow0_col3 {\n",
       "            background-color:  #3b4cc0;\n",
       "            color:  #f1f1f1;\n",
       "        }    #T_2490ba58_f4e9_11e9_a6e7_b42e991ec1fcrow0_col4 {\n",
       "            background-color:  #3b4cc0;\n",
       "            color:  #f1f1f1;\n",
       "        }    #T_2490ba58_f4e9_11e9_a6e7_b42e991ec1fcrow0_col5 {\n",
       "            background-color:  #455cce;\n",
       "            color:  #f1f1f1;\n",
       "        }    #T_2490ba58_f4e9_11e9_a6e7_b42e991ec1fcrow0_col6 {\n",
       "            background-color:  #3d50c3;\n",
       "            color:  #f1f1f1;\n",
       "        }    #T_2490ba58_f4e9_11e9_a6e7_b42e991ec1fcrow0_col7 {\n",
       "            background-color:  #3b4cc0;\n",
       "            color:  #f1f1f1;\n",
       "        }    #T_2490ba58_f4e9_11e9_a6e7_b42e991ec1fcrow1_col0 {\n",
       "            background-color:  #cbd8ee;\n",
       "            color:  #000000;\n",
       "        }    #T_2490ba58_f4e9_11e9_a6e7_b42e991ec1fcrow1_col1 {\n",
       "            background-color:  #b40426;\n",
       "            color:  #f1f1f1;\n",
       "        }    #T_2490ba58_f4e9_11e9_a6e7_b42e991ec1fcrow1_col2 {\n",
       "            background-color:  #e9d5cb;\n",
       "            color:  #000000;\n",
       "        }    #T_2490ba58_f4e9_11e9_a6e7_b42e991ec1fcrow1_col3 {\n",
       "            background-color:  #86a9fc;\n",
       "            color:  #000000;\n",
       "        }    #T_2490ba58_f4e9_11e9_a6e7_b42e991ec1fcrow1_col4 {\n",
       "            background-color:  #5470de;\n",
       "            color:  #000000;\n",
       "        }    #T_2490ba58_f4e9_11e9_a6e7_b42e991ec1fcrow1_col5 {\n",
       "            background-color:  #4a63d3;\n",
       "            color:  #f1f1f1;\n",
       "        }    #T_2490ba58_f4e9_11e9_a6e7_b42e991ec1fcrow1_col6 {\n",
       "            background-color:  #5470de;\n",
       "            color:  #000000;\n",
       "        }    #T_2490ba58_f4e9_11e9_a6e7_b42e991ec1fcrow1_col7 {\n",
       "            background-color:  #6788ee;\n",
       "            color:  #000000;\n",
       "        }    #T_2490ba58_f4e9_11e9_a6e7_b42e991ec1fcrow2_col0 {\n",
       "            background-color:  #f3c7b1;\n",
       "            color:  #000000;\n",
       "        }    #T_2490ba58_f4e9_11e9_a6e7_b42e991ec1fcrow2_col1 {\n",
       "            background-color:  #e0dbd8;\n",
       "            color:  #000000;\n",
       "        }    #T_2490ba58_f4e9_11e9_a6e7_b42e991ec1fcrow2_col2 {\n",
       "            background-color:  #b40426;\n",
       "            color:  #f1f1f1;\n",
       "        }    #T_2490ba58_f4e9_11e9_a6e7_b42e991ec1fcrow2_col3 {\n",
       "            background-color:  #8badfd;\n",
       "            color:  #000000;\n",
       "        }    #T_2490ba58_f4e9_11e9_a6e7_b42e991ec1fcrow2_col4 {\n",
       "            background-color:  #4961d2;\n",
       "            color:  #f1f1f1;\n",
       "        }    #T_2490ba58_f4e9_11e9_a6e7_b42e991ec1fcrow2_col5 {\n",
       "            background-color:  #485fd1;\n",
       "            color:  #f1f1f1;\n",
       "        }    #T_2490ba58_f4e9_11e9_a6e7_b42e991ec1fcrow2_col6 {\n",
       "            background-color:  #3b4cc0;\n",
       "            color:  #f1f1f1;\n",
       "        }    #T_2490ba58_f4e9_11e9_a6e7_b42e991ec1fcrow2_col7 {\n",
       "            background-color:  #506bda;\n",
       "            color:  #000000;\n",
       "        }    #T_2490ba58_f4e9_11e9_a6e7_b42e991ec1fcrow3_col0 {\n",
       "            background-color:  #3b4cc0;\n",
       "            color:  #f1f1f1;\n",
       "        }    #T_2490ba58_f4e9_11e9_a6e7_b42e991ec1fcrow3_col1 {\n",
       "            background-color:  #4c66d6;\n",
       "            color:  #000000;\n",
       "        }    #T_2490ba58_f4e9_11e9_a6e7_b42e991ec1fcrow3_col2 {\n",
       "            background-color:  #688aef;\n",
       "            color:  #000000;\n",
       "        }    #T_2490ba58_f4e9_11e9_a6e7_b42e991ec1fcrow3_col3 {\n",
       "            background-color:  #b40426;\n",
       "            color:  #f1f1f1;\n",
       "        }    #T_2490ba58_f4e9_11e9_a6e7_b42e991ec1fcrow3_col4 {\n",
       "            background-color:  #80a3fa;\n",
       "            color:  #000000;\n",
       "        }    #T_2490ba58_f4e9_11e9_a6e7_b42e991ec1fcrow3_col5 {\n",
       "            background-color:  #3b4cc0;\n",
       "            color:  #f1f1f1;\n",
       "        }    #T_2490ba58_f4e9_11e9_a6e7_b42e991ec1fcrow3_col6 {\n",
       "            background-color:  #5b7ae5;\n",
       "            color:  #000000;\n",
       "        }    #T_2490ba58_f4e9_11e9_a6e7_b42e991ec1fcrow3_col7 {\n",
       "            background-color:  #e3d9d3;\n",
       "            color:  #000000;\n",
       "        }    #T_2490ba58_f4e9_11e9_a6e7_b42e991ec1fcrow4_col0 {\n",
       "            background-color:  #6f92f3;\n",
       "            color:  #000000;\n",
       "        }    #T_2490ba58_f4e9_11e9_a6e7_b42e991ec1fcrow4_col1 {\n",
       "            background-color:  #4e68d8;\n",
       "            color:  #000000;\n",
       "        }    #T_2490ba58_f4e9_11e9_a6e7_b42e991ec1fcrow4_col2 {\n",
       "            background-color:  #5b7ae5;\n",
       "            color:  #000000;\n",
       "        }    #T_2490ba58_f4e9_11e9_a6e7_b42e991ec1fcrow4_col3 {\n",
       "            background-color:  #adc9fd;\n",
       "            color:  #000000;\n",
       "        }    #T_2490ba58_f4e9_11e9_a6e7_b42e991ec1fcrow4_col4 {\n",
       "            background-color:  #b40426;\n",
       "            color:  #f1f1f1;\n",
       "        }    #T_2490ba58_f4e9_11e9_a6e7_b42e991ec1fcrow4_col5 {\n",
       "            background-color:  #3e51c5;\n",
       "            color:  #f1f1f1;\n",
       "        }    #T_2490ba58_f4e9_11e9_a6e7_b42e991ec1fcrow4_col6 {\n",
       "            background-color:  #516ddb;\n",
       "            color:  #000000;\n",
       "        }    #T_2490ba58_f4e9_11e9_a6e7_b42e991ec1fcrow4_col7 {\n",
       "            background-color:  #aac7fd;\n",
       "            color:  #000000;\n",
       "        }    #T_2490ba58_f4e9_11e9_a6e7_b42e991ec1fcrow5_col0 {\n",
       "            background-color:  #96b7ff;\n",
       "            color:  #000000;\n",
       "        }    #T_2490ba58_f4e9_11e9_a6e7_b42e991ec1fcrow5_col1 {\n",
       "            background-color:  #6180e9;\n",
       "            color:  #000000;\n",
       "        }    #T_2490ba58_f4e9_11e9_a6e7_b42e991ec1fcrow5_col2 {\n",
       "            background-color:  #7699f6;\n",
       "            color:  #000000;\n",
       "        }    #T_2490ba58_f4e9_11e9_a6e7_b42e991ec1fcrow5_col3 {\n",
       "            background-color:  #8badfd;\n",
       "            color:  #000000;\n",
       "        }    #T_2490ba58_f4e9_11e9_a6e7_b42e991ec1fcrow5_col4 {\n",
       "            background-color:  #5b7ae5;\n",
       "            color:  #000000;\n",
       "        }    #T_2490ba58_f4e9_11e9_a6e7_b42e991ec1fcrow5_col5 {\n",
       "            background-color:  #b40426;\n",
       "            color:  #f1f1f1;\n",
       "        }    #T_2490ba58_f4e9_11e9_a6e7_b42e991ec1fcrow5_col6 {\n",
       "            background-color:  #4e68d8;\n",
       "            color:  #000000;\n",
       "        }    #T_2490ba58_f4e9_11e9_a6e7_b42e991ec1fcrow5_col7 {\n",
       "            background-color:  #85a8fc;\n",
       "            color:  #000000;\n",
       "        }    #T_2490ba58_f4e9_11e9_a6e7_b42e991ec1fcrow6_col0 {\n",
       "            background-color:  #81a4fb;\n",
       "            color:  #000000;\n",
       "        }    #T_2490ba58_f4e9_11e9_a6e7_b42e991ec1fcrow6_col1 {\n",
       "            background-color:  #5e7de7;\n",
       "            color:  #000000;\n",
       "        }    #T_2490ba58_f4e9_11e9_a6e7_b42e991ec1fcrow6_col2 {\n",
       "            background-color:  #5b7ae5;\n",
       "            color:  #000000;\n",
       "        }    #T_2490ba58_f4e9_11e9_a6e7_b42e991ec1fcrow6_col3 {\n",
       "            background-color:  #9dbdff;\n",
       "            color:  #000000;\n",
       "        }    #T_2490ba58_f4e9_11e9_a6e7_b42e991ec1fcrow6_col4 {\n",
       "            background-color:  #6180e9;\n",
       "            color:  #000000;\n",
       "        }    #T_2490ba58_f4e9_11e9_a6e7_b42e991ec1fcrow6_col5 {\n",
       "            background-color:  #4055c8;\n",
       "            color:  #f1f1f1;\n",
       "        }    #T_2490ba58_f4e9_11e9_a6e7_b42e991ec1fcrow6_col6 {\n",
       "            background-color:  #b40426;\n",
       "            color:  #f1f1f1;\n",
       "        }    #T_2490ba58_f4e9_11e9_a6e7_b42e991ec1fcrow6_col7 {\n",
       "            background-color:  #90b2fe;\n",
       "            color:  #000000;\n",
       "        }    #T_2490ba58_f4e9_11e9_a6e7_b42e991ec1fcrow7_col0 {\n",
       "            background-color:  #485fd1;\n",
       "            color:  #f1f1f1;\n",
       "        }    #T_2490ba58_f4e9_11e9_a6e7_b42e991ec1fcrow7_col1 {\n",
       "            background-color:  #3b4cc0;\n",
       "            color:  #f1f1f1;\n",
       "        }    #T_2490ba58_f4e9_11e9_a6e7_b42e991ec1fcrow7_col2 {\n",
       "            background-color:  #3b4cc0;\n",
       "            color:  #f1f1f1;\n",
       "        }    #T_2490ba58_f4e9_11e9_a6e7_b42e991ec1fcrow7_col3 {\n",
       "            background-color:  #e8d6cc;\n",
       "            color:  #000000;\n",
       "        }    #T_2490ba58_f4e9_11e9_a6e7_b42e991ec1fcrow7_col4 {\n",
       "            background-color:  #88abfd;\n",
       "            color:  #000000;\n",
       "        }    #T_2490ba58_f4e9_11e9_a6e7_b42e991ec1fcrow7_col5 {\n",
       "            background-color:  #4358cb;\n",
       "            color:  #f1f1f1;\n",
       "        }    #T_2490ba58_f4e9_11e9_a6e7_b42e991ec1fcrow7_col6 {\n",
       "            background-color:  #5b7ae5;\n",
       "            color:  #000000;\n",
       "        }    #T_2490ba58_f4e9_11e9_a6e7_b42e991ec1fcrow7_col7 {\n",
       "            background-color:  #b40426;\n",
       "            color:  #f1f1f1;\n",
       "        }</style><table id=\"T_2490ba58_f4e9_11e9_a6e7_b42e991ec1fc\" ><thead>    <tr>        <th class=\"blank level0\" ></th>        <th class=\"col_heading level0 col0\" >price</th>        <th class=\"col_heading level0 col1\" >automaticGear</th>        <th class=\"col_heading level0 col2\" >powerPS</th>        <th class=\"col_heading level0 col3\" >kilometer</th>        <th class=\"col_heading level0 col4\" >notRepairedDamage</th>        <th class=\"col_heading level0 col5\" >lon</th>        <th class=\"col_heading level0 col6\" >lat</th>        <th class=\"col_heading level0 col7\" >age</th>    </tr></thead><tbody>\n",
       "                <tr>\n",
       "                        <th id=\"T_2490ba58_f4e9_11e9_a6e7_b42e991ec1fclevel0_row0\" class=\"row_heading level0 row0\" >price</th>\n",
       "                        <td id=\"T_2490ba58_f4e9_11e9_a6e7_b42e991ec1fcrow0_col0\" class=\"data row0 col0\" >1</td>\n",
       "                        <td id=\"T_2490ba58_f4e9_11e9_a6e7_b42e991ec1fcrow0_col1\" class=\"data row0 col1\" >0.23</td>\n",
       "                        <td id=\"T_2490ba58_f4e9_11e9_a6e7_b42e991ec1fcrow0_col2\" class=\"data row0 col2\" >0.48</td>\n",
       "                        <td id=\"T_2490ba58_f4e9_11e9_a6e7_b42e991ec1fcrow0_col3\" class=\"data row0 col3\" >-0.36</td>\n",
       "                        <td id=\"T_2490ba58_f4e9_11e9_a6e7_b42e991ec1fcrow0_col4\" class=\"data row0 col4\" >-0.13</td>\n",
       "                        <td id=\"T_2490ba58_f4e9_11e9_a6e7_b42e991ec1fcrow0_col5\" class=\"data row0 col5\" >0.014</td>\n",
       "                        <td id=\"T_2490ba58_f4e9_11e9_a6e7_b42e991ec1fcrow0_col6\" class=\"data row0 col6\" >-0.062</td>\n",
       "                        <td id=\"T_2490ba58_f4e9_11e9_a6e7_b42e991ec1fcrow0_col7\" class=\"data row0 col7\" >-0.3</td>\n",
       "            </tr>\n",
       "            <tr>\n",
       "                        <th id=\"T_2490ba58_f4e9_11e9_a6e7_b42e991ec1fclevel0_row1\" class=\"row_heading level0 row1\" >automaticGear</th>\n",
       "                        <td id=\"T_2490ba58_f4e9_11e9_a6e7_b42e991ec1fcrow1_col0\" class=\"data row1 col0\" >0.23</td>\n",
       "                        <td id=\"T_2490ba58_f4e9_11e9_a6e7_b42e991ec1fcrow1_col1\" class=\"data row1 col1\" >1</td>\n",
       "                        <td id=\"T_2490ba58_f4e9_11e9_a6e7_b42e991ec1fcrow1_col2\" class=\"data row1 col2\" >0.46</td>\n",
       "                        <td id=\"T_2490ba58_f4e9_11e9_a6e7_b42e991ec1fcrow1_col3\" class=\"data row1 col3\" >-0.043</td>\n",
       "                        <td id=\"T_2490ba58_f4e9_11e9_a6e7_b42e991ec1fcrow1_col4\" class=\"data row1 col4\" >-0.039</td>\n",
       "                        <td id=\"T_2490ba58_f4e9_11e9_a6e7_b42e991ec1fcrow1_col5\" class=\"data row1 col5\" >0.027</td>\n",
       "                        <td id=\"T_2490ba58_f4e9_11e9_a6e7_b42e991ec1fcrow1_col6\" class=\"data row1 col6\" >0.018</td>\n",
       "                        <td id=\"T_2490ba58_f4e9_11e9_a6e7_b42e991ec1fcrow1_col7\" class=\"data row1 col7\" >-0.11</td>\n",
       "            </tr>\n",
       "            <tr>\n",
       "                        <th id=\"T_2490ba58_f4e9_11e9_a6e7_b42e991ec1fclevel0_row2\" class=\"row_heading level0 row2\" >powerPS</th>\n",
       "                        <td id=\"T_2490ba58_f4e9_11e9_a6e7_b42e991ec1fcrow2_col0\" class=\"data row2 col0\" >0.48</td>\n",
       "                        <td id=\"T_2490ba58_f4e9_11e9_a6e7_b42e991ec1fcrow2_col1\" class=\"data row2 col1\" >0.46</td>\n",
       "                        <td id=\"T_2490ba58_f4e9_11e9_a6e7_b42e991ec1fcrow2_col2\" class=\"data row2 col2\" >1</td>\n",
       "                        <td id=\"T_2490ba58_f4e9_11e9_a6e7_b42e991ec1fcrow2_col3\" class=\"data row2 col3\" >-0.027</td>\n",
       "                        <td id=\"T_2490ba58_f4e9_11e9_a6e7_b42e991ec1fcrow2_col4\" class=\"data row2 col4\" >-0.075</td>\n",
       "                        <td id=\"T_2490ba58_f4e9_11e9_a6e7_b42e991ec1fcrow2_col5\" class=\"data row2 col5\" >0.021</td>\n",
       "                        <td id=\"T_2490ba58_f4e9_11e9_a6e7_b42e991ec1fcrow2_col6\" class=\"data row2 col6\" >-0.073</td>\n",
       "                        <td id=\"T_2490ba58_f4e9_11e9_a6e7_b42e991ec1fcrow2_col7\" class=\"data row2 col7\" >-0.2</td>\n",
       "            </tr>\n",
       "            <tr>\n",
       "                        <th id=\"T_2490ba58_f4e9_11e9_a6e7_b42e991ec1fclevel0_row3\" class=\"row_heading level0 row3\" >kilometer</th>\n",
       "                        <td id=\"T_2490ba58_f4e9_11e9_a6e7_b42e991ec1fcrow3_col0\" class=\"data row3 col0\" >-0.36</td>\n",
       "                        <td id=\"T_2490ba58_f4e9_11e9_a6e7_b42e991ec1fcrow3_col1\" class=\"data row3 col1\" >-0.043</td>\n",
       "                        <td id=\"T_2490ba58_f4e9_11e9_a6e7_b42e991ec1fcrow3_col2\" class=\"data row3 col2\" >-0.027</td>\n",
       "                        <td id=\"T_2490ba58_f4e9_11e9_a6e7_b42e991ec1fcrow3_col3\" class=\"data row3 col3\" >1</td>\n",
       "                        <td id=\"T_2490ba58_f4e9_11e9_a6e7_b42e991ec1fcrow3_col4\" class=\"data row3 col4\" >0.11</td>\n",
       "                        <td id=\"T_2490ba58_f4e9_11e9_a6e7_b42e991ec1fcrow3_col5\" class=\"data row3 col5\" >-0.025</td>\n",
       "                        <td id=\"T_2490ba58_f4e9_11e9_a6e7_b42e991ec1fcrow3_col6\" class=\"data row3 col6\" >0.043</td>\n",
       "                        <td id=\"T_2490ba58_f4e9_11e9_a6e7_b42e991ec1fcrow3_col7\" class=\"data row3 col7\" >0.38</td>\n",
       "            </tr>\n",
       "            <tr>\n",
       "                        <th id=\"T_2490ba58_f4e9_11e9_a6e7_b42e991ec1fclevel0_row4\" class=\"row_heading level0 row4\" >notRepairedDamage</th>\n",
       "                        <td id=\"T_2490ba58_f4e9_11e9_a6e7_b42e991ec1fcrow4_col0\" class=\"data row4 col0\" >-0.13</td>\n",
       "                        <td id=\"T_2490ba58_f4e9_11e9_a6e7_b42e991ec1fcrow4_col1\" class=\"data row4 col1\" >-0.039</td>\n",
       "                        <td id=\"T_2490ba58_f4e9_11e9_a6e7_b42e991ec1fcrow4_col2\" class=\"data row4 col2\" >-0.075</td>\n",
       "                        <td id=\"T_2490ba58_f4e9_11e9_a6e7_b42e991ec1fcrow4_col3\" class=\"data row4 col3\" >0.11</td>\n",
       "                        <td id=\"T_2490ba58_f4e9_11e9_a6e7_b42e991ec1fcrow4_col4\" class=\"data row4 col4\" >1</td>\n",
       "                        <td id=\"T_2490ba58_f4e9_11e9_a6e7_b42e991ec1fcrow4_col5\" class=\"data row4 col5\" >-0.011</td>\n",
       "                        <td id=\"T_2490ba58_f4e9_11e9_a6e7_b42e991ec1fcrow4_col6\" class=\"data row4 col6\" >0.008</td>\n",
       "                        <td id=\"T_2490ba58_f4e9_11e9_a6e7_b42e991ec1fcrow4_col7\" class=\"data row4 col7\" >0.14</td>\n",
       "            </tr>\n",
       "            <tr>\n",
       "                        <th id=\"T_2490ba58_f4e9_11e9_a6e7_b42e991ec1fclevel0_row5\" class=\"row_heading level0 row5\" >lon</th>\n",
       "                        <td id=\"T_2490ba58_f4e9_11e9_a6e7_b42e991ec1fcrow5_col0\" class=\"data row5 col0\" >0.014</td>\n",
       "                        <td id=\"T_2490ba58_f4e9_11e9_a6e7_b42e991ec1fcrow5_col1\" class=\"data row5 col1\" >0.027</td>\n",
       "                        <td id=\"T_2490ba58_f4e9_11e9_a6e7_b42e991ec1fcrow5_col2\" class=\"data row5 col2\" >0.021</td>\n",
       "                        <td id=\"T_2490ba58_f4e9_11e9_a6e7_b42e991ec1fcrow5_col3\" class=\"data row5 col3\" >-0.025</td>\n",
       "                        <td id=\"T_2490ba58_f4e9_11e9_a6e7_b42e991ec1fcrow5_col4\" class=\"data row5 col4\" >-0.011</td>\n",
       "                        <td id=\"T_2490ba58_f4e9_11e9_a6e7_b42e991ec1fcrow5_col5\" class=\"data row5 col5\" >1</td>\n",
       "                        <td id=\"T_2490ba58_f4e9_11e9_a6e7_b42e991ec1fcrow5_col6\" class=\"data row5 col6\" >-0.0029</td>\n",
       "                        <td id=\"T_2490ba58_f4e9_11e9_a6e7_b42e991ec1fcrow5_col7\" class=\"data row5 col7\" >0.0029</td>\n",
       "            </tr>\n",
       "            <tr>\n",
       "                        <th id=\"T_2490ba58_f4e9_11e9_a6e7_b42e991ec1fclevel0_row6\" class=\"row_heading level0 row6\" >lat</th>\n",
       "                        <td id=\"T_2490ba58_f4e9_11e9_a6e7_b42e991ec1fcrow6_col0\" class=\"data row6 col0\" >-0.062</td>\n",
       "                        <td id=\"T_2490ba58_f4e9_11e9_a6e7_b42e991ec1fcrow6_col1\" class=\"data row6 col1\" >0.018</td>\n",
       "                        <td id=\"T_2490ba58_f4e9_11e9_a6e7_b42e991ec1fcrow6_col2\" class=\"data row6 col2\" >-0.073</td>\n",
       "                        <td id=\"T_2490ba58_f4e9_11e9_a6e7_b42e991ec1fcrow6_col3\" class=\"data row6 col3\" >0.043</td>\n",
       "                        <td id=\"T_2490ba58_f4e9_11e9_a6e7_b42e991ec1fcrow6_col4\" class=\"data row6 col4\" >0.008</td>\n",
       "                        <td id=\"T_2490ba58_f4e9_11e9_a6e7_b42e991ec1fcrow6_col5\" class=\"data row6 col5\" >-0.0029</td>\n",
       "                        <td id=\"T_2490ba58_f4e9_11e9_a6e7_b42e991ec1fcrow6_col6\" class=\"data row6 col6\" >1</td>\n",
       "                        <td id=\"T_2490ba58_f4e9_11e9_a6e7_b42e991ec1fcrow6_col7\" class=\"data row6 col7\" >0.043</td>\n",
       "            </tr>\n",
       "            <tr>\n",
       "                        <th id=\"T_2490ba58_f4e9_11e9_a6e7_b42e991ec1fclevel0_row7\" class=\"row_heading level0 row7\" >age</th>\n",
       "                        <td id=\"T_2490ba58_f4e9_11e9_a6e7_b42e991ec1fcrow7_col0\" class=\"data row7 col0\" >-0.3</td>\n",
       "                        <td id=\"T_2490ba58_f4e9_11e9_a6e7_b42e991ec1fcrow7_col1\" class=\"data row7 col1\" >-0.11</td>\n",
       "                        <td id=\"T_2490ba58_f4e9_11e9_a6e7_b42e991ec1fcrow7_col2\" class=\"data row7 col2\" >-0.2</td>\n",
       "                        <td id=\"T_2490ba58_f4e9_11e9_a6e7_b42e991ec1fcrow7_col3\" class=\"data row7 col3\" >0.38</td>\n",
       "                        <td id=\"T_2490ba58_f4e9_11e9_a6e7_b42e991ec1fcrow7_col4\" class=\"data row7 col4\" >0.14</td>\n",
       "                        <td id=\"T_2490ba58_f4e9_11e9_a6e7_b42e991ec1fcrow7_col5\" class=\"data row7 col5\" >0.0029</td>\n",
       "                        <td id=\"T_2490ba58_f4e9_11e9_a6e7_b42e991ec1fcrow7_col6\" class=\"data row7 col6\" >0.043</td>\n",
       "                        <td id=\"T_2490ba58_f4e9_11e9_a6e7_b42e991ec1fcrow7_col7\" class=\"data row7 col7\" >1</td>\n",
       "            </tr>\n",
       "    </tbody></table>"
      ],
      "text/plain": [
       "<pandas.io.formats.style.Styler at 0x1ffb2fd1ba8>"
      ]
     },
     "execution_count": 55,
     "metadata": {},
     "output_type": "execute_result"
    }
   ],
   "source": [
    "# Display correlation matrix\n",
    "corr = df_autos_locs_reg.corr()\n",
    "corr.style.background_gradient(cmap='coolwarm')\n",
    "corr.style.background_gradient(cmap='coolwarm').set_precision(2)"
   ]
  },
  {
   "cell_type": "markdown",
   "metadata": {},
   "source": [
    "Tuning the dependent variable prices to a normal distribution will be skipped for now, as it did not work properly and might not be neccessary at all for the used algorithms."
   ]
  },
  {
   "cell_type": "code",
   "execution_count": 56,
   "metadata": {},
   "outputs": [
    {
     "data": {
      "text/html": [
       "<div>\n",
       "<style scoped>\n",
       "    .dataframe tbody tr th:only-of-type {\n",
       "        vertical-align: middle;\n",
       "    }\n",
       "\n",
       "    .dataframe tbody tr th {\n",
       "        vertical-align: top;\n",
       "    }\n",
       "\n",
       "    .dataframe thead th {\n",
       "        text-align: right;\n",
       "    }\n",
       "</style>\n",
       "<table border=\"1\" class=\"dataframe\">\n",
       "  <thead>\n",
       "    <tr style=\"text-align: right;\">\n",
       "      <th></th>\n",
       "      <th>price</th>\n",
       "      <th>automaticGear</th>\n",
       "      <th>powerPS</th>\n",
       "      <th>kilometer</th>\n",
       "      <th>notRepairedDamage</th>\n",
       "      <th>lon</th>\n",
       "      <th>lat</th>\n",
       "      <th>age</th>\n",
       "      <th>vehicleType_andere</th>\n",
       "      <th>vehicleType_bus</th>\n",
       "      <th>...</th>\n",
       "      <th>brand_seat</th>\n",
       "      <th>brand_skoda</th>\n",
       "      <th>brand_smart</th>\n",
       "      <th>brand_sonstige_autos</th>\n",
       "      <th>brand_subaru</th>\n",
       "      <th>brand_suzuki</th>\n",
       "      <th>brand_toyota</th>\n",
       "      <th>brand_trabant</th>\n",
       "      <th>brand_volkswagen</th>\n",
       "      <th>brand_volvo</th>\n",
       "    </tr>\n",
       "  </thead>\n",
       "  <tbody>\n",
       "    <tr>\n",
       "      <td>0</td>\n",
       "      <td>18300</td>\n",
       "      <td>0</td>\n",
       "      <td>190</td>\n",
       "      <td>125000</td>\n",
       "      <td>1</td>\n",
       "      <td>7.564295</td>\n",
       "      <td>49.202121</td>\n",
       "      <td>5</td>\n",
       "      <td>0</td>\n",
       "      <td>0</td>\n",
       "      <td>...</td>\n",
       "      <td>0</td>\n",
       "      <td>0</td>\n",
       "      <td>0</td>\n",
       "      <td>0</td>\n",
       "      <td>0</td>\n",
       "      <td>0</td>\n",
       "      <td>0</td>\n",
       "      <td>0</td>\n",
       "      <td>0</td>\n",
       "      <td>0</td>\n",
       "    </tr>\n",
       "    <tr>\n",
       "      <td>1</td>\n",
       "      <td>3450</td>\n",
       "      <td>0</td>\n",
       "      <td>88</td>\n",
       "      <td>100000</td>\n",
       "      <td>0</td>\n",
       "      <td>7.564295</td>\n",
       "      <td>49.202121</td>\n",
       "      <td>9</td>\n",
       "      <td>0</td>\n",
       "      <td>0</td>\n",
       "      <td>...</td>\n",
       "      <td>0</td>\n",
       "      <td>0</td>\n",
       "      <td>0</td>\n",
       "      <td>0</td>\n",
       "      <td>0</td>\n",
       "      <td>0</td>\n",
       "      <td>0</td>\n",
       "      <td>0</td>\n",
       "      <td>0</td>\n",
       "      <td>0</td>\n",
       "    </tr>\n",
       "    <tr>\n",
       "      <td>2</td>\n",
       "      <td>950</td>\n",
       "      <td>0</td>\n",
       "      <td>114</td>\n",
       "      <td>150000</td>\n",
       "      <td>0</td>\n",
       "      <td>7.564295</td>\n",
       "      <td>49.202121</td>\n",
       "      <td>18</td>\n",
       "      <td>0</td>\n",
       "      <td>1</td>\n",
       "      <td>...</td>\n",
       "      <td>0</td>\n",
       "      <td>0</td>\n",
       "      <td>0</td>\n",
       "      <td>0</td>\n",
       "      <td>0</td>\n",
       "      <td>0</td>\n",
       "      <td>0</td>\n",
       "      <td>0</td>\n",
       "      <td>0</td>\n",
       "      <td>0</td>\n",
       "    </tr>\n",
       "  </tbody>\n",
       "</table>\n",
       "<p>3 rows × 63 columns</p>\n",
       "</div>"
      ],
      "text/plain": [
       "   price  automaticGear  powerPS  kilometer  notRepairedDamage       lon  \\\n",
       "0  18300              0      190     125000                  1  7.564295   \n",
       "1   3450              0       88     100000                  0  7.564295   \n",
       "2    950              0      114     150000                  0  7.564295   \n",
       "\n",
       "         lat  age  vehicleType_andere  vehicleType_bus  ...  brand_seat  \\\n",
       "0  49.202121    5                   0                0  ...           0   \n",
       "1  49.202121    9                   0                0  ...           0   \n",
       "2  49.202121   18                   0                1  ...           0   \n",
       "\n",
       "   brand_skoda  brand_smart  brand_sonstige_autos  brand_subaru  brand_suzuki  \\\n",
       "0            0            0                     0             0             0   \n",
       "1            0            0                     0             0             0   \n",
       "2            0            0                     0             0             0   \n",
       "\n",
       "   brand_toyota  brand_trabant  brand_volkswagen  brand_volvo  \n",
       "0             0              0                 0            0  \n",
       "1             0              0                 0            0  \n",
       "2             0              0                 0            0  \n",
       "\n",
       "[3 rows x 63 columns]"
      ]
     },
     "execution_count": 56,
     "metadata": {},
     "output_type": "execute_result"
    }
   ],
   "source": [
    "# Get dummies for columns 'vehicleType', 'fuelType', and 'brand'.\n",
    "df_autos_locs_reg_dum = pd.get_dummies(df_autos_locs_reg)\n",
    "df_autos_locs_reg_dum.head(3)"
   ]
  },
  {
   "cell_type": "code",
   "execution_count": 101,
   "metadata": {},
   "outputs": [],
   "source": [
    "# Extract features and perform train test split\n",
    "\n",
    "#X = normalize(df_autos_locs_reg_dum.drop('price', axis=1)) # No normalization, as it worsened the performance.\n",
    "#scaler = StandardScaler()\n",
    "#X = scaler.fit_transform(df_autos_locs_reg_dum.drop('price', axis=1)) # No scaling, performanced stayed the same.\n",
    "\n",
    "y = df_autos_locs_reg_dum.price\n",
    "X = df_autos_locs_reg_dum.drop('price', axis=1)\n",
    "\n",
    "# Train test split\n",
    "X_train, X_test, y_train, y_test = train_test_split(X, y, test_size=0.2, random_state=42)"
   ]
  },
  {
   "cell_type": "code",
   "execution_count": 102,
   "metadata": {},
   "outputs": [
    {
     "name": "stdout",
     "output_type": "stream",
     "text": [
      "Ridge(alpha=1.0, copy_X=True, fit_intercept=True, max_iter=None,\n",
      "   normalize=False, random_state=42, solver='auto', tol=0.001)\n",
      "R2 score: 0.534182421102116\n",
      "Mean Squared Error score: 44730016.494145215\n",
      "\n",
      "GradientBoostingRegressor(alpha=0.9, criterion='friedman_mse', init=None,\n",
      "             learning_rate=0.1, loss='ls', max_depth=3, max_features=None,\n",
      "             max_leaf_nodes=None, min_impurity_decrease=0.0,\n",
      "             min_impurity_split=None, min_samples_leaf=1,\n",
      "             min_samples_split=2, min_weight_fraction_leaf=0.0,\n",
      "             n_estimators=100, n_iter_no_change=None, presort='auto',\n",
      "             random_state=42, subsample=1.0, tol=0.0001,\n",
      "             validation_fraction=0.1, verbose=1, warm_start=False)\n",
      "      Iter       Train Loss   Remaining Time \n",
      "         1   134324884.7986           31.39s\n",
      "         2   125168273.2704           30.04s\n",
      "         3   117714782.6458           28.49s\n",
      "         4   111661650.7561           28.09s\n",
      "         5   106334640.7923           27.54s\n",
      "         6   101610312.8126           26.76s\n",
      "         7    97659145.4040           27.55s\n",
      "         8    93935675.2778           26.96s\n",
      "         9    90473445.7820           26.86s\n",
      "        10    87393649.8305           26.22s\n",
      "        20    70355914.2562           22.35s\n",
      "        30    63949352.6491           19.44s\n",
      "        40    60849332.7264           16.84s\n",
      "        50    58657079.7412           14.15s\n",
      "        60    56663970.9513           11.24s\n",
      "        70    55105020.9268            8.37s\n",
      "        80    54105897.9049            5.55s\n",
      "        90    53192686.5359            2.74s\n",
      "       100    52610832.0198            0.00s\n",
      "R2 score: 0.6958789130328242\n",
      "Mean Squared Error score: 29202197.10776342\n",
      "\n",
      "BaggingRegressor(base_estimator=None, bootstrap=True,\n",
      "         bootstrap_features=False, max_features=1.0, max_samples=1.0,\n",
      "         n_estimators=10, n_jobs=None, oob_score=False, random_state=42,\n",
      "         verbose=1, warm_start=False)\n"
     ]
    },
    {
     "name": "stderr",
     "output_type": "stream",
     "text": [
      "[Parallel(n_jobs=1)]: Using backend SequentialBackend with 1 concurrent workers.\n",
      "[Parallel(n_jobs=1)]: Done   1 out of   1 | elapsed:   15.8s finished\n",
      "[Parallel(n_jobs=1)]: Using backend SequentialBackend with 1 concurrent workers.\n",
      "[Parallel(n_jobs=1)]: Done   1 out of   1 | elapsed:    0.3s finished\n"
     ]
    },
    {
     "name": "stdout",
     "output_type": "stream",
     "text": [
      "R2 score: 0.6255429528180207\n",
      "Mean Squared Error score: 35959874.925822616\n",
      "\n",
      "XGBRegressor(TREE_METHOD='gpu_hist', base_score=0.5, booster='gbtree',\n",
      "       colsample_bylevel=1, colsample_bynode=1, colsample_bytree=1,\n",
      "       gamma=0, importance_type='gain', learning_rate=0.1,\n",
      "       max_delta_step=0, max_depth=3, min_child_weight=1, missing=None,\n",
      "       n_estimators=100, n_jobs=1, nthread=None, objective='reg:linear',\n",
      "       random_state=0, reg_alpha=0, reg_lambda=1, scale_pos_weight=1,\n",
      "       seed=None, silent=None, subsample=1, verbosity=1)\n"
     ]
    },
    {
     "name": "stderr",
     "output_type": "stream",
     "text": [
      "C:\\Anaconda3\\lib\\site-packages\\xgboost\\core.py:587: FutureWarning: Series.base is deprecated and will be removed in a future version\n",
      "  if getattr(data, 'base', None) is not None and \\\n"
     ]
    },
    {
     "name": "stdout",
     "output_type": "stream",
     "text": [
      "[20:10:25] WARNING: C:/Jenkins/workspace/xgboost-win64_release_0.90/src/objective/regression_obj.cu:152: reg:linear is now deprecated in favor of reg:squarederror.\n",
      "R2 score: 0.7035365801155459\n",
      "Mean Squared Error score: 28467080.863625173\n",
      "\n"
     ]
    }
   ],
   "source": [
    "# Quick test, which algorithm seems to perform best for this task\n",
    "#for regressor in [Ridge(), GradientBoostingRegressor(verbose=1), BaggingRegressor(verbose=1, random_state=42), SVR(kernel='linear', verbose=1), SVR(kernel='sbf', verbose=1)]:\n",
    "for regressor in [Ridge(random_state=42), GradientBoostingRegressor(verbose=1, random_state=42),\n",
    "                  BaggingRegressor(verbose=1, random_state=42), XGBRegressor(TREE_METHOD = 'gpu_hist')]:\n",
    "    print(regressor)\n",
    "    regressor.fit(X_train, y_train)\n",
    "    y_pred = regressor.predict(X_test)    \n",
    "    print('R2 score: {}'.format(explained_variance_score(y_test, y_pred)))\n",
    "    #print('Explained variance score: {}'.format(r2_score(y_test, y_pred)))\n",
    "    print('Mean Squared Error score: {}'.format(mean_squared_error(y_test, y_pred)))\n",
    "    print()"
   ]
  },
  {
   "cell_type": "markdown",
   "metadata": {},
   "source": [
    "It seems like the **XGBRegressor** is suited best for this task, as it shows - together with GradientBoostingRegressor - the best R2 without tuning, but is faster than GradientBoostingRegressor, as it runs on GPU. SVM couldn't be tested, as its training took too long for the large training data. So I will continue with XGBRegressor and fine-tune its hyperparameters in the following."
   ]
  },
  {
   "cell_type": "code",
   "execution_count": null,
   "metadata": {},
   "outputs": [
    {
     "name": "stderr",
     "output_type": "stream",
     "text": [
      "[Parallel(n_jobs=12)]: Using backend LokyBackend with 12 concurrent workers.\n"
     ]
    },
    {
     "name": "stdout",
     "output_type": "stream",
     "text": [
      "Fitting 2 folds for each of 1458 candidates, totalling 2916 fits\n"
     ]
    },
    {
     "name": "stderr",
     "output_type": "stream",
     "text": [
      "[Parallel(n_jobs=12)]: Done  48 tasks      | elapsed:  3.4min\n",
      "[Parallel(n_jobs=12)]: Done 138 tasks      | elapsed: 11.7min\n",
      "[Parallel(n_jobs=12)]: Done 264 tasks      | elapsed: 22.7min\n",
      "[Parallel(n_jobs=12)]: Done 426 tasks      | elapsed: 38.2min\n",
      "[Parallel(n_jobs=12)]: Done 624 tasks      | elapsed: 55.5min\n",
      "[Parallel(n_jobs=12)]: Done 858 tasks      | elapsed: 77.5min\n",
      "[Parallel(n_jobs=12)]: Done 1128 tasks      | elapsed: 104.9min\n"
     ]
    }
   ],
   "source": [
    "# Use gridsearch to tune parameters for regressor\n",
    "#parameters = {'alpha':[0.5, 0.9, 1], 'learning_rate':[0.01, 0.1, 1], 'max_depth':[2, 3, 10],\n",
    "#              'min_samples_leaf':[1, 3, 5], 'n_estimators':[100, 500], 'max_features':['auto', 'sqrt', 0.5]}\n",
    "\n",
    "#parameters = {'alpha':[0.5, 0.9, 1], 'learning_rate':[0.001, 0.01, 0.1, 1], 'max_depth':[2, 3, 5, 10],\n",
    "#              'min_samples_leaf':[1, 2, 3, 5], 'n_estimators':[50, 100, 500], 'max_features':['auto', 'sqrt', 0.3, 0.7]}\n",
    "\n",
    "parameters = {'learning_rate':[0.05, 0.1, 0.5], 'max_depth':[3, 5, 7], 'min_child_weight':[1,3,6],\n",
    "              'gamma':[0, 0.1, 0.5], 'colsample_bytree':[0.5, 0.8, 0.9], 'scale_pos_weight': [0, 1],\n",
    "             'n_estimators':[50, 100, 500]}\n",
    "\n",
    "reg = XGBRegressor(TREE_METHOD = 'gpu_hist', random_state=42)\n",
    "gscv = GridSearchCV(reg, parameters, cv=2, verbose=5, n_jobs=12, return_train_score=False)\n",
    "gscv.fit(X_train, y_train)"
   ]
  },
  {
   "cell_type": "markdown",
   "metadata": {},
   "source": [
    "## Step 5: Evaluation"
   ]
  },
  {
   "cell_type": "code",
   "execution_count": 105,
   "metadata": {},
   "outputs": [
    {
     "name": "stdout",
     "output_type": "stream",
     "text": [
      "R2 score: 0.7035365801155459\n",
      "Mean Squared Error score: 28467080.863625173\n"
     ]
    }
   ],
   "source": [
    "# Evaluate mode\n",
    "y_pred = regressor.predict(X_test)\n",
    "print('R2 score: {}'.format(explained_variance_score(y_test, y_pred)))\n",
    "print('Mean Squared Error score: {}'.format(mean_squared_error(y_test, y_pred)))"
   ]
  },
  {
   "cell_type": "markdown",
   "metadata": {},
   "source": [
    "## Step 6: Deployment"
   ]
  },
  {
   "cell_type": "code",
   "execution_count": 103,
   "metadata": {},
   "outputs": [],
   "source": [
    "# Save model as .pkl\n",
    "filename = 'regressor.pkl'\n",
    "pickle.dump(regressor, open(filename, 'wb'))\n",
    "# Export zips\n",
    "pickle.dump(df_zips, open('zips.pkl', 'wb'))\n",
    "# Export dataframe for command line app\n",
    "pickle.dump(df_autos_locs_reg_dum.drop('price', axis=1).columns, open('df_cols.pkl', 'wb'))"
   ]
  },
  {
   "cell_type": "code",
   "execution_count": 106,
   "metadata": {},
   "outputs": [
    {
     "ename": "NameError",
     "evalue": "name 'reg' is not defined",
     "output_type": "error",
     "traceback": [
      "\u001b[1;31m---------------------------------------------------------------------------\u001b[0m",
      "\u001b[1;31mNameError\u001b[0m                                 Traceback (most recent call last)",
      "\u001b[1;32m<ipython-input-106-f42614f2658b>\u001b[0m in \u001b[0;36m<module>\u001b[1;34m\u001b[0m\n\u001b[0;32m      1\u001b[0m \u001b[1;31m# Save models from gridsearchCV\u001b[0m\u001b[1;33m\u001b[0m\u001b[1;33m\u001b[0m\u001b[1;33m\u001b[0m\u001b[0m\n\u001b[1;32m----> 2\u001b[1;33m \u001b[0mpickle\u001b[0m\u001b[1;33m.\u001b[0m\u001b[0mdump\u001b[0m\u001b[1;33m(\u001b[0m\u001b[0mreg\u001b[0m\u001b[1;33m,\u001b[0m \u001b[0mopen\u001b[0m\u001b[1;33m(\u001b[0m\u001b[1;34m'gs_reg.pkl'\u001b[0m\u001b[1;33m,\u001b[0m \u001b[1;34m'wb'\u001b[0m\u001b[1;33m)\u001b[0m\u001b[1;33m)\u001b[0m\u001b[1;33m\u001b[0m\u001b[1;33m\u001b[0m\u001b[0m\n\u001b[0m\u001b[0;32m      3\u001b[0m \u001b[0mpickle\u001b[0m\u001b[1;33m.\u001b[0m\u001b[0mdump\u001b[0m\u001b[1;33m(\u001b[0m\u001b[0mgscv\u001b[0m\u001b[1;33m,\u001b[0m \u001b[0mopen\u001b[0m\u001b[1;33m(\u001b[0m\u001b[1;34m'gs_gscv.pkl'\u001b[0m\u001b[1;33m,\u001b[0m \u001b[1;34m'wb'\u001b[0m\u001b[1;33m)\u001b[0m\u001b[1;33m)\u001b[0m\u001b[1;33m\u001b[0m\u001b[1;33m\u001b[0m\u001b[0m\n",
      "\u001b[1;31mNameError\u001b[0m: name 'reg' is not defined"
     ]
    }
   ],
   "source": [
    "# Save models from gridsearchCV\n",
    "pickle.dump(reg, open('gs_reg.pkl', 'wb'))\n",
    "pickle.dump(gscv, open('gs_gscv.pkl', 'wb'))"
   ]
  },
  {
   "cell_type": "code",
   "execution_count": 104,
   "metadata": {},
   "outputs": [
    {
     "name": "stdout",
     "output_type": "stream",
     "text": [
      "[20:15:39] WARNING: C:/Jenkins/workspace/xgboost-win64_release_0.90/src/objective/regression_obj.cu:152: reg:linear is now deprecated in favor of reg:squarederror.\n",
      "R2 score: 0.7035365801155459\n",
      "Mean Squared Error score: 28467080.863625173\n"
     ]
    }
   ],
   "source": [
    "# Load regressor from .pkl and test\n",
    "loaded_regressor = pickle.load(open(filename, 'rb'))\n",
    "y_pred = loaded_regressor.predict(X_test)\n",
    "print('R2 score: {}'.format(explained_variance_score(y_test, y_pred)))\n",
    "print('Mean Squared Error score: {}'.format(mean_squared_error(y_test, y_pred)))"
   ]
  },
  {
   "cell_type": "code",
   "execution_count": null,
   "metadata": {},
   "outputs": [],
   "source": [
    "# Export this notebook as .html\n",
    "from subprocess import call\n",
    "call(['python', '-m', 'nbconvert', 'German_used_Cars.ipynb'])"
   ]
  }
 ],
 "metadata": {
  "kernelspec": {
   "display_name": "Python 3",
   "language": "python",
   "name": "python3"
  },
  "language_info": {
   "codemirror_mode": {
    "name": "ipython",
    "version": 3
   },
   "file_extension": ".py",
   "mimetype": "text/x-python",
   "name": "python",
   "nbconvert_exporter": "python",
   "pygments_lexer": "ipython3",
   "version": "3.7.3"
  }
 },
 "nbformat": 4,
 "nbformat_minor": 1
}
