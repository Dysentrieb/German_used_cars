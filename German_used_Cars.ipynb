{
 "cells": [
  {
   "cell_type": "markdown",
   "metadata": {},
   "source": [
    "# Evaluation of the german used car market applying data science\n",
    "\n",
    "In this notebook, a deeper look on the german used car market is applied, using the \"Used cars database\" from Kaggle, supplied by Orges Leka in 2016. The dataset contains over 370.000 used car adds from ebay-kleinanzeigen. For the analysis and modelling, CRISP-DM is applied. The dataset is available here:  https://www.kaggle.com/orgesleka/used-cars-database"
   ]
  },
  {
   "cell_type": "markdown",
   "metadata": {},
   "source": [
    "## Step 1: Business Understanding\n",
    "\n",
    "Germany is a car-nation. Not only it is home to several of the worlds largest car manufacturers, like BMW, Mercedes-Benz and VW, there is also a huge number of car owners. According to the Kraftfahrt-Bundesamt, the german authority responsible for cars, in the beginning of 2019 64,8 million cars and trailers with an average age of 9.5 years were registered (https://www.kba.de/DE/Statistik/Fahrzeuge/Bestand/bestand_node.html). A huge market like this also has a big market for used cars. In the following, this market is being analyzed and several questions shall be answered:\n",
    "\n",
    "1. What are the most common vehicle types?\n",
    "2. Which brands are predominant on the german used cars market? Are there differences in average price?\n",
    "3. What is the average age of cars on the german used cars market?\n",
    "4. Are there local differences in brands and prices?\n",
    "5. What is the distribution of motorizations? Which fuel-systems are preferred? What is the average motor-power?\n",
    "6. What is the distribution of sale prizes?\n",
    "7. What is a common mileage for used cars?\n",
    "8. Can a car value be predicted by using features from the add?"
   ]
  },
  {
   "cell_type": "markdown",
   "metadata": {},
   "source": [
    "## Step 2: Data Understanding\n",
    "\n",
    "In the following, the required libraries as well as the data is being imported, and some basic statistics about the data are examined."
   ]
  },
  {
   "cell_type": "code",
   "execution_count": 1,
   "metadata": {
    "_cell_guid": "b1076dfc-b9ad-4769-8c92-a6c4dae69d19",
    "_uuid": "8f2839f25d086af736a60e9eeb907d3b93b6e0e5"
   },
   "outputs": [],
   "source": [
    "# Basic libraries\n",
    "import numpy as np\n",
    "import pandas as pd\n",
    "\n",
    "# Plot data\n",
    "import matplotlib.pyplot as plt"
   ]
  },
  {
   "cell_type": "code",
   "execution_count": 2,
   "metadata": {
    "_cell_guid": "79c7e3d0-c299-4dcb-8224-4455121ee9b0",
    "_uuid": "d629ff2d2480ee46fbb7e2d37f6b5fab8052498a"
   },
   "outputs": [],
   "source": [
    "# Read in data from csv files downloaded from https://www.kaggle.com/orgesleka/used-cars-database and save to dataframe\n",
    "df_autos = pd.read_csv('autos.csv', encoding='latin8')"
   ]
  },
  {
   "cell_type": "code",
   "execution_count": 3,
   "metadata": {},
   "outputs": [
    {
     "name": "stdout",
     "output_type": "stream",
     "text": [
      "Exact number of entries/rows in df_autos: 371528\n",
      "Number of features/columns in df_autos: 20\n",
      "Feature/Column-names in df_autos: ['dateCrawled' 'name' 'seller' 'offerType' 'price' 'abtest' 'vehicleType'\n",
      " 'yearOfRegistration' 'gearbox' 'powerPS' 'model' 'kilometer'\n",
      " 'monthOfRegistration' 'fuelType' 'brand' 'notRepairedDamage'\n",
      " 'dateCreated' 'nrOfPictures' 'postalCode' 'lastSeen']\n"
     ]
    }
   ],
   "source": [
    "# Print data about data\n",
    "print('Exact number of entries/rows in df_autos: {}'.format(df_autos.shape[0]))\n",
    "print('Number of features/columns in df_autos: {}'.format(df_autos.shape[1]))\n",
    "print('Feature/Column-names in df_autos: {}'.format(df_autos.columns.values))"
   ]
  },
  {
   "cell_type": "code",
   "execution_count": 4,
   "metadata": {
    "scrolled": true
   },
   "outputs": [
    {
     "data": {
      "text/html": [
       "<div>\n",
       "<style scoped>\n",
       "    .dataframe tbody tr th:only-of-type {\n",
       "        vertical-align: middle;\n",
       "    }\n",
       "\n",
       "    .dataframe tbody tr th {\n",
       "        vertical-align: top;\n",
       "    }\n",
       "\n",
       "    .dataframe thead th {\n",
       "        text-align: right;\n",
       "    }\n",
       "</style>\n",
       "<table border=\"1\" class=\"dataframe\">\n",
       "  <thead>\n",
       "    <tr style=\"text-align: right;\">\n",
       "      <th></th>\n",
       "      <th>price</th>\n",
       "      <th>yearOfRegistration</th>\n",
       "      <th>powerPS</th>\n",
       "      <th>kilometer</th>\n",
       "      <th>monthOfRegistration</th>\n",
       "      <th>nrOfPictures</th>\n",
       "      <th>postalCode</th>\n",
       "    </tr>\n",
       "  </thead>\n",
       "  <tbody>\n",
       "    <tr>\n",
       "      <td>count</td>\n",
       "      <td>3.715280e+05</td>\n",
       "      <td>371528.000000</td>\n",
       "      <td>371528.000000</td>\n",
       "      <td>371528.000000</td>\n",
       "      <td>371528.000000</td>\n",
       "      <td>371528.0</td>\n",
       "      <td>371528.00000</td>\n",
       "    </tr>\n",
       "    <tr>\n",
       "      <td>mean</td>\n",
       "      <td>1.729514e+04</td>\n",
       "      <td>2004.577997</td>\n",
       "      <td>115.549477</td>\n",
       "      <td>125618.688228</td>\n",
       "      <td>5.734445</td>\n",
       "      <td>0.0</td>\n",
       "      <td>50820.66764</td>\n",
       "    </tr>\n",
       "    <tr>\n",
       "      <td>std</td>\n",
       "      <td>3.587954e+06</td>\n",
       "      <td>92.866598</td>\n",
       "      <td>192.139578</td>\n",
       "      <td>40112.337051</td>\n",
       "      <td>3.712412</td>\n",
       "      <td>0.0</td>\n",
       "      <td>25799.08247</td>\n",
       "    </tr>\n",
       "    <tr>\n",
       "      <td>min</td>\n",
       "      <td>0.000000e+00</td>\n",
       "      <td>1000.000000</td>\n",
       "      <td>0.000000</td>\n",
       "      <td>5000.000000</td>\n",
       "      <td>0.000000</td>\n",
       "      <td>0.0</td>\n",
       "      <td>1067.00000</td>\n",
       "    </tr>\n",
       "    <tr>\n",
       "      <td>25%</td>\n",
       "      <td>1.150000e+03</td>\n",
       "      <td>1999.000000</td>\n",
       "      <td>70.000000</td>\n",
       "      <td>125000.000000</td>\n",
       "      <td>3.000000</td>\n",
       "      <td>0.0</td>\n",
       "      <td>30459.00000</td>\n",
       "    </tr>\n",
       "    <tr>\n",
       "      <td>50%</td>\n",
       "      <td>2.950000e+03</td>\n",
       "      <td>2003.000000</td>\n",
       "      <td>105.000000</td>\n",
       "      <td>150000.000000</td>\n",
       "      <td>6.000000</td>\n",
       "      <td>0.0</td>\n",
       "      <td>49610.00000</td>\n",
       "    </tr>\n",
       "    <tr>\n",
       "      <td>75%</td>\n",
       "      <td>7.200000e+03</td>\n",
       "      <td>2008.000000</td>\n",
       "      <td>150.000000</td>\n",
       "      <td>150000.000000</td>\n",
       "      <td>9.000000</td>\n",
       "      <td>0.0</td>\n",
       "      <td>71546.00000</td>\n",
       "    </tr>\n",
       "    <tr>\n",
       "      <td>max</td>\n",
       "      <td>2.147484e+09</td>\n",
       "      <td>9999.000000</td>\n",
       "      <td>20000.000000</td>\n",
       "      <td>150000.000000</td>\n",
       "      <td>12.000000</td>\n",
       "      <td>0.0</td>\n",
       "      <td>99998.00000</td>\n",
       "    </tr>\n",
       "  </tbody>\n",
       "</table>\n",
       "</div>"
      ],
      "text/plain": [
       "              price  yearOfRegistration        powerPS      kilometer  \\\n",
       "count  3.715280e+05       371528.000000  371528.000000  371528.000000   \n",
       "mean   1.729514e+04         2004.577997     115.549477  125618.688228   \n",
       "std    3.587954e+06           92.866598     192.139578   40112.337051   \n",
       "min    0.000000e+00         1000.000000       0.000000    5000.000000   \n",
       "25%    1.150000e+03         1999.000000      70.000000  125000.000000   \n",
       "50%    2.950000e+03         2003.000000     105.000000  150000.000000   \n",
       "75%    7.200000e+03         2008.000000     150.000000  150000.000000   \n",
       "max    2.147484e+09         9999.000000   20000.000000  150000.000000   \n",
       "\n",
       "       monthOfRegistration  nrOfPictures    postalCode  \n",
       "count        371528.000000      371528.0  371528.00000  \n",
       "mean              5.734445           0.0   50820.66764  \n",
       "std               3.712412           0.0   25799.08247  \n",
       "min               0.000000           0.0    1067.00000  \n",
       "25%               3.000000           0.0   30459.00000  \n",
       "50%               6.000000           0.0   49610.00000  \n",
       "75%               9.000000           0.0   71546.00000  \n",
       "max              12.000000           0.0   99998.00000  "
      ]
     },
     "execution_count": 4,
     "metadata": {},
     "output_type": "execute_result"
    }
   ],
   "source": [
    "# Basic statistics about the numeral values:\n",
    "df_autos.describe()"
   ]
  },
  {
   "cell_type": "code",
   "execution_count": 5,
   "metadata": {},
   "outputs": [
    {
     "data": {
      "text/html": [
       "<div>\n",
       "<style scoped>\n",
       "    .dataframe tbody tr th:only-of-type {\n",
       "        vertical-align: middle;\n",
       "    }\n",
       "\n",
       "    .dataframe tbody tr th {\n",
       "        vertical-align: top;\n",
       "    }\n",
       "\n",
       "    .dataframe thead th {\n",
       "        text-align: right;\n",
       "    }\n",
       "</style>\n",
       "<table border=\"1\" class=\"dataframe\">\n",
       "  <thead>\n",
       "    <tr style=\"text-align: right;\">\n",
       "      <th></th>\n",
       "      <th>dateCrawled</th>\n",
       "      <th>name</th>\n",
       "      <th>seller</th>\n",
       "      <th>offerType</th>\n",
       "      <th>price</th>\n",
       "      <th>abtest</th>\n",
       "      <th>vehicleType</th>\n",
       "      <th>yearOfRegistration</th>\n",
       "      <th>gearbox</th>\n",
       "      <th>powerPS</th>\n",
       "      <th>model</th>\n",
       "      <th>kilometer</th>\n",
       "      <th>monthOfRegistration</th>\n",
       "      <th>fuelType</th>\n",
       "      <th>brand</th>\n",
       "      <th>notRepairedDamage</th>\n",
       "      <th>dateCreated</th>\n",
       "      <th>nrOfPictures</th>\n",
       "      <th>postalCode</th>\n",
       "      <th>lastSeen</th>\n",
       "    </tr>\n",
       "  </thead>\n",
       "  <tbody>\n",
       "    <tr>\n",
       "      <td>0</td>\n",
       "      <td>2016-03-24 11:52:17</td>\n",
       "      <td>Golf_3_1.6</td>\n",
       "      <td>privat</td>\n",
       "      <td>Angebot</td>\n",
       "      <td>480</td>\n",
       "      <td>test</td>\n",
       "      <td>NaN</td>\n",
       "      <td>1993</td>\n",
       "      <td>manuell</td>\n",
       "      <td>0</td>\n",
       "      <td>golf</td>\n",
       "      <td>150000</td>\n",
       "      <td>0</td>\n",
       "      <td>benzin</td>\n",
       "      <td>volkswagen</td>\n",
       "      <td>NaN</td>\n",
       "      <td>2016-03-24 00:00:00</td>\n",
       "      <td>0</td>\n",
       "      <td>70435</td>\n",
       "      <td>2016-04-07 03:16:57</td>\n",
       "    </tr>\n",
       "    <tr>\n",
       "      <td>1</td>\n",
       "      <td>2016-03-24 10:58:45</td>\n",
       "      <td>A5_Sportback_2.7_Tdi</td>\n",
       "      <td>privat</td>\n",
       "      <td>Angebot</td>\n",
       "      <td>18300</td>\n",
       "      <td>test</td>\n",
       "      <td>coupe</td>\n",
       "      <td>2011</td>\n",
       "      <td>manuell</td>\n",
       "      <td>190</td>\n",
       "      <td>NaN</td>\n",
       "      <td>125000</td>\n",
       "      <td>5</td>\n",
       "      <td>diesel</td>\n",
       "      <td>audi</td>\n",
       "      <td>ja</td>\n",
       "      <td>2016-03-24 00:00:00</td>\n",
       "      <td>0</td>\n",
       "      <td>66954</td>\n",
       "      <td>2016-04-07 01:46:50</td>\n",
       "    </tr>\n",
       "    <tr>\n",
       "      <td>2</td>\n",
       "      <td>2016-03-14 12:52:21</td>\n",
       "      <td>Jeep_Grand_Cherokee_\"Overland\"</td>\n",
       "      <td>privat</td>\n",
       "      <td>Angebot</td>\n",
       "      <td>9800</td>\n",
       "      <td>test</td>\n",
       "      <td>suv</td>\n",
       "      <td>2004</td>\n",
       "      <td>automatik</td>\n",
       "      <td>163</td>\n",
       "      <td>grand</td>\n",
       "      <td>125000</td>\n",
       "      <td>8</td>\n",
       "      <td>diesel</td>\n",
       "      <td>jeep</td>\n",
       "      <td>NaN</td>\n",
       "      <td>2016-03-14 00:00:00</td>\n",
       "      <td>0</td>\n",
       "      <td>90480</td>\n",
       "      <td>2016-04-05 12:47:46</td>\n",
       "    </tr>\n",
       "    <tr>\n",
       "      <td>3</td>\n",
       "      <td>2016-03-17 16:54:04</td>\n",
       "      <td>GOLF_4_1_4__3TÜRER</td>\n",
       "      <td>privat</td>\n",
       "      <td>Angebot</td>\n",
       "      <td>1500</td>\n",
       "      <td>test</td>\n",
       "      <td>kleinwagen</td>\n",
       "      <td>2001</td>\n",
       "      <td>manuell</td>\n",
       "      <td>75</td>\n",
       "      <td>golf</td>\n",
       "      <td>150000</td>\n",
       "      <td>6</td>\n",
       "      <td>benzin</td>\n",
       "      <td>volkswagen</td>\n",
       "      <td>nein</td>\n",
       "      <td>2016-03-17 00:00:00</td>\n",
       "      <td>0</td>\n",
       "      <td>91074</td>\n",
       "      <td>2016-03-17 17:40:17</td>\n",
       "    </tr>\n",
       "    <tr>\n",
       "      <td>4</td>\n",
       "      <td>2016-03-31 17:25:20</td>\n",
       "      <td>Skoda_Fabia_1.4_TDI_PD_Classic</td>\n",
       "      <td>privat</td>\n",
       "      <td>Angebot</td>\n",
       "      <td>3600</td>\n",
       "      <td>test</td>\n",
       "      <td>kleinwagen</td>\n",
       "      <td>2008</td>\n",
       "      <td>manuell</td>\n",
       "      <td>69</td>\n",
       "      <td>fabia</td>\n",
       "      <td>90000</td>\n",
       "      <td>7</td>\n",
       "      <td>diesel</td>\n",
       "      <td>skoda</td>\n",
       "      <td>nein</td>\n",
       "      <td>2016-03-31 00:00:00</td>\n",
       "      <td>0</td>\n",
       "      <td>60437</td>\n",
       "      <td>2016-04-06 10:17:21</td>\n",
       "    </tr>\n",
       "  </tbody>\n",
       "</table>\n",
       "</div>"
      ],
      "text/plain": [
       "           dateCrawled                            name  seller offerType  \\\n",
       "0  2016-03-24 11:52:17                      Golf_3_1.6  privat   Angebot   \n",
       "1  2016-03-24 10:58:45            A5_Sportback_2.7_Tdi  privat   Angebot   \n",
       "2  2016-03-14 12:52:21  Jeep_Grand_Cherokee_\"Overland\"  privat   Angebot   \n",
       "3  2016-03-17 16:54:04              GOLF_4_1_4__3TÜRER  privat   Angebot   \n",
       "4  2016-03-31 17:25:20  Skoda_Fabia_1.4_TDI_PD_Classic  privat   Angebot   \n",
       "\n",
       "   price abtest vehicleType  yearOfRegistration    gearbox  powerPS  model  \\\n",
       "0    480   test         NaN                1993    manuell        0   golf   \n",
       "1  18300   test       coupe                2011    manuell      190    NaN   \n",
       "2   9800   test         suv                2004  automatik      163  grand   \n",
       "3   1500   test  kleinwagen                2001    manuell       75   golf   \n",
       "4   3600   test  kleinwagen                2008    manuell       69  fabia   \n",
       "\n",
       "   kilometer  monthOfRegistration fuelType       brand notRepairedDamage  \\\n",
       "0     150000                    0   benzin  volkswagen               NaN   \n",
       "1     125000                    5   diesel        audi                ja   \n",
       "2     125000                    8   diesel        jeep               NaN   \n",
       "3     150000                    6   benzin  volkswagen              nein   \n",
       "4      90000                    7   diesel       skoda              nein   \n",
       "\n",
       "           dateCreated  nrOfPictures  postalCode             lastSeen  \n",
       "0  2016-03-24 00:00:00             0       70435  2016-04-07 03:16:57  \n",
       "1  2016-03-24 00:00:00             0       66954  2016-04-07 01:46:50  \n",
       "2  2016-03-14 00:00:00             0       90480  2016-04-05 12:47:46  \n",
       "3  2016-03-17 00:00:00             0       91074  2016-03-17 17:40:17  \n",
       "4  2016-03-31 00:00:00             0       60437  2016-04-06 10:17:21  "
      ]
     },
     "execution_count": 5,
     "metadata": {},
     "output_type": "execute_result"
    }
   ],
   "source": [
    "# Have a first look at the data:\n",
    "df_autos.head()"
   ]
  },
  {
   "cell_type": "markdown",
   "metadata": {},
   "source": [
    "What already can be noticed is that there are several NaN values in the data, as well as columns, which might contain data, that is not very useful in the following. Lateron, I will deal with the NaN-values. Also it seems that certain columns might be less useful than others or might not have any use at all. Let's check that by evaluating the distinct values and their counts of certain columns:"
   ]
  },
  {
   "cell_type": "code",
   "execution_count": 6,
   "metadata": {},
   "outputs": [
    {
     "name": "stdout",
     "output_type": "stream",
     "text": [
      "(array(['Angebot', 'Gesuch'], dtype=object), array([371516,     12], dtype=int64))\n",
      "(array(['control', 'test'], dtype=object), array([178943, 192585], dtype=int64))\n",
      "(array([0], dtype=int64), array([371528], dtype=int64))\n",
      "(array(['gewerblich', 'privat'], dtype=object), array([     3, 371525], dtype=int64))\n"
     ]
    }
   ],
   "source": [
    "# Check column values for relevance and drop irrelevant columns\n",
    "print(np.unique(df_autos['offerType'],return_counts=True))\n",
    "print(np.unique(df_autos['abtest'],return_counts=True))\n",
    "print(np.unique(df_autos['nrOfPictures'],return_counts=True))\n",
    "print(np.unique(df_autos['seller'],return_counts=True))"
   ]
  },
  {
   "cell_type": "markdown",
   "metadata": {},
   "source": [
    "- 'offerType' contains the values 'Angebot' and 'Gesuch', which translates to 'Offer' and 'Requested'. As there are only 12 Requests, those colum as well as the requests themselves are dropped.\n",
    "- 'abtest': No importance on the analysis. Drop.\n",
    "- 'nrOfPictures' will be dropped, as there are 0-entries only\n",
    "- 'seller' contains only 3 'gewerblich' (commercial sellers) only, the rest are private sellers. Column will be dropped.\n",
    "- 'dateCrawled': No importance on the analysis. Drop.\n",
    "- 'monthOfRegistration': To keep things easy, we will focus on the year only. Drop.\n",
    "- 'dateCreated': No importance on the analysis. Drop.\n",
    "- 'lastSeen': No importance on the analysis. Drop.\n",
    "- 'name': This column might contain useful information, yet the effort to use it is a lot higher than for the other features, as it is free text. To keep things simple, it is dropped."
   ]
  },
  {
   "cell_type": "code",
   "execution_count": 7,
   "metadata": {},
   "outputs": [
    {
     "data": {
      "text/plain": [
       "dateCrawled                0\n",
       "name                       0\n",
       "seller                     0\n",
       "offerType                  0\n",
       "price                      0\n",
       "abtest                     0\n",
       "vehicleType            37869\n",
       "yearOfRegistration         0\n",
       "gearbox                20209\n",
       "powerPS                    0\n",
       "model                  20484\n",
       "kilometer                  0\n",
       "monthOfRegistration        0\n",
       "fuelType               33386\n",
       "brand                      0\n",
       "notRepairedDamage      72060\n",
       "dateCreated                0\n",
       "nrOfPictures               0\n",
       "postalCode                 0\n",
       "lastSeen                   0\n",
       "dtype: int64"
      ]
     },
     "execution_count": 7,
     "metadata": {},
     "output_type": "execute_result"
    }
   ],
   "source": [
    "# Having a more detailed look on the NaNs by columns:\n",
    "df_autos.isnull().sum(axis = 0)"
   ]
  },
  {
   "cell_type": "markdown",
   "metadata": {},
   "source": [
    "So there is a big number of NaN-values, especially with notRepairedDamage or vehicleType. I will have to deal with that when it comes to preparing for the modelling to predict prizes. For the other questions, it is less of a problem, the NaN-values will be dropped separately for every analysis."
   ]
  },
  {
   "cell_type": "markdown",
   "metadata": {},
   "source": [
    "'yearOfRegistration' does not have any missing values, but it seems like there are some values contained, that obviously don't make sense:"
   ]
  },
  {
   "cell_type": "code",
   "execution_count": 8,
   "metadata": {
    "scrolled": true
   },
   "outputs": [
    {
     "name": "stdout",
     "output_type": "stream",
     "text": [
      "(array([1000, 1001, 1039, 1111, 1200, 1234, 1253, 1255, 1300, 1400, 1500,\n",
      "       1600, 1602, 1688, 1800, 1910, 1911, 1915, 1919, 1920, 1923, 1925,\n",
      "       1927, 1928, 1929, 1930, 1931, 1932, 1933, 1934, 1935, 1936, 1937,\n",
      "       1938, 1939, 1940, 1941, 1942, 1943, 1944, 1945, 1946, 1947, 1948,\n",
      "       1949, 1950, 1951, 1952, 1953, 1954, 1955, 1956, 1957, 1958, 1959,\n",
      "       1960, 1961, 1962, 1963, 1964, 1965, 1966, 1967, 1968, 1969, 1970,\n",
      "       1971, 1972, 1973, 1974, 1975, 1976, 1977, 1978, 1979, 1980, 1981,\n",
      "       1982, 1983, 1984, 1985, 1986, 1987, 1988, 1989, 1990, 1991, 1992,\n",
      "       1993, 1994, 1995, 1996, 1997, 1998, 1999, 2000, 2001, 2002, 2003,\n",
      "       2004, 2005, 2006, 2007, 2008, 2009, 2010, 2011, 2012, 2013, 2014,\n",
      "       2015, 2016, 2017, 2018, 2019, 2066, 2200, 2222, 2290, 2500, 2800,\n",
      "       2900, 3000, 3200, 3500, 3700, 3800, 4000, 4100, 4500, 4800, 5000,\n",
      "       5300, 5555, 5600, 5900, 5911, 6000, 6200, 6500, 7000, 7100, 7500,\n",
      "       7777, 7800, 8000, 8200, 8455, 8500, 8888, 9000, 9229, 9450, 9996,\n",
      "       9999], dtype=int64), array([   38,     1,     1,     4,     1,     4,     1,     1,     2,\n",
      "           1,     5,     2,     1,     1,     5,   104,     1,     1,\n",
      "           1,     1,     3,     1,     2,     2,     8,     5,     4,\n",
      "           4,     6,     5,     6,     7,    13,     8,     4,     2,\n",
      "           4,     3,     5,     2,     5,     2,     5,     4,     3,\n",
      "          22,    19,    12,    18,    16,    25,    33,    27,    34,\n",
      "          45,   214,    51,    53,    77,    80,   121,   160,   142,\n",
      "         147,   154,   370,   199,   248,   205,   201,   152,   193,\n",
      "         193,   307,   312,   629,   284,   335,   455,   422,   787,\n",
      "         576,   697,   965,  1342,  2852,  2810,  3048,  3469,  4872,\n",
      "        9658, 10886, 14706, 17951, 22767, 24551, 20218, 19189, 19873,\n",
      "       19746, 22316, 20230, 17673, 16175, 15607, 12354, 12068,  9418,\n",
      "        6157,  4802,  2982,  9859, 10546,  3993,    27,     1,     1,\n",
      "           2,     1,     4,     2,     1,     7,     1,     1,     1,\n",
      "           1,     3,     1,     2,     1,    18,     1,     2,     1,\n",
      "           1,     2,     6,     1,     1,     4,     1,     2,     1,\n",
      "           1,     2,     1,     1,     1,     2,     5,     1,     1,\n",
      "           1,    27], dtype=int64))\n"
     ]
    },
    {
     "data": {
      "text/plain": [
       "<matplotlib.axes._subplots.AxesSubplot at 0x1f58144dd68>"
      ]
     },
     "execution_count": 8,
     "metadata": {},
     "output_type": "execute_result"
    },
    {
     "data": {
      "image/png": "[encoded data removed]",
      "text/plain": [
       "<Figure size 432x288 with 1 Axes>"
      ]
     },
     "metadata": {
      "needs_background": "light"
     },
     "output_type": "display_data"
    }
   ],
   "source": [
    "# Show registration years with counts and plot histogram\n",
    "print(np.unique(df_autos['yearOfRegistration'],return_counts=True))\n",
    "df_autos['yearOfRegistration'].hist()"
   ]
  },
  {
   "cell_type": "code",
   "execution_count": 9,
   "metadata": {},
   "outputs": [
    {
     "name": "stdout",
     "output_type": "stream",
     "text": [
      "Year: 1885\n",
      "[]\n",
      "Year: 1886\n",
      "[]\n",
      "Year: 1887\n",
      "[]\n",
      "Year: 1888\n",
      "[]\n",
      "Year: 1889\n",
      "[]\n",
      "Year: 1890\n",
      "[]\n",
      "Year: 1891\n",
      "[]\n",
      "Year: 1892\n",
      "[]\n",
      "Year: 1893\n",
      "[]\n",
      "Year: 1894\n",
      "[]\n",
      "Year: 1895\n",
      "[]\n",
      "Year: 1896\n",
      "[]\n",
      "Year: 1897\n",
      "[]\n",
      "Year: 1898\n",
      "[]\n",
      "Year: 1899\n",
      "[]\n",
      "Year: 1900\n",
      "[]\n",
      "Year: 1901\n",
      "[]\n",
      "Year: 1902\n",
      "[]\n",
      "Year: 1903\n",
      "[]\n",
      "Year: 1904\n",
      "[]\n",
      "Year: 1905\n",
      "[]\n",
      "Year: 1906\n",
      "[]\n",
      "Year: 1907\n",
      "[]\n",
      "Year: 1908\n",
      "[]\n",
      "Year: 1909\n",
      "[]\n",
      "Year: 1910\n",
      "['KA_Lufthansa_Edition_450\\x80_VB' 'Bellier_Vario'\n",
      " 'Opel_100_Jahre__Kunstdrucke'\n",
      " 'Tausche/Verkaufe_S51_gegen_Audi_ab_150ps_oder_1.9tdi'\n",
      " 'Suche_VW_mit_Diesel__54_PS' 'SUCHE_Golf_1_1_8t_G60_2_0_16V_ab_150_Ps'\n",
      " 'VW_Passat_Kombi_H_Kennzeichen' 'vw_polo_86c'\n",
      " 'Suche_guenstiges_Auto_mit_TÜV'\n",
      " 'Zeugen_gesucht_in_22869_Schenefeld_!!!!!!!!!!!!!!!!'\n",
      " 'Fiat_Punto_ohne_Motor_und_Getriebe'\n",
      " 'Caddy_14d__Schlachten_oder_Herichten.' 'VW_T1_Karosse_ohne_motor'\n",
      " 'Algila_mit_motorschaden'\n",
      " 'Suche_Fahrzeug_mit_Anhaengerkupplung_und_LPG_Gas_bis_1000\\x80'\n",
      " 'E30_3.20_suche_bitte_melden' 'Vw_Beetle_1_9_Tdi'\n",
      " 'Sommerreifen_175/70_R14_auf_Felgen' 'Tueren_Trabant' 'VW_Golf_3'\n",
      " 'ALTFAHRZEUG_ABHOLUNG_KOSTENLOS_ALLER_ART'\n",
      " 'Ich_verkaufe/suche_fuer_sie_ihr_Auto!!' 'Borbet_Komplettraeder'\n",
      " 'Opel_Corsa_B' 'Suche_7_9_Sitzer_fuer_Urlaub' 'BMW_Touring_gesucht'\n",
      " 'Alfa_Romeo_164' 'Suche_Kombi_Van_Bus' 'Mercedes_Diesel_W_201'\n",
      " 'Alter_VW_Kaefer_Scheunenfund' 'Renault_Twingo'\n",
      " 'Suche_guenstiges_uebergangsauto' 'Opel_Corsa'\n",
      " 'Audi_A2_Tuer_vorne_Links_Farbcode_LY7W_Silber_mit_Tuergriff_Alu'\n",
      " 'Suche_Auto' 'Tausch_alles_aus_meinen_Anzeigen_gegen_Auto'\n",
      " 'SUCHE_MERCEDES_BENZ_GL_LPG' 'Opel_Kadett_combo_karosse'\n",
      " 'Opel_Calibra_V6_DTM_Bausatz_1:24' 'Kennzeichenleuchten'\n",
      " 'VW_Polo_6n_sdi_mit_tuev' 'Tueren_Trabant' 'VW_Golf_II_zu_verkaufen'\n",
      " 'Mitsubishi_Colt_als_Ersatzteitraeger_gegen_Gebot_zu_verkaufen'\n",
      " 'Tausche_slk_230_compessor_gegen_wrangler' 'Motorhaube'\n",
      " 'SUCHE_VW_Corrado_Golf2_G60_16V_VR6_Zustand_egal_Motorschaden'\n",
      " 'Subaru_Libero' 'Suche_AUDI_100_TYP_44'\n",
      " 'Whatsapp__gruppe_fuer_tunner__und_auto_Freunde'\n",
      " 'ALTFAHRZEUGE_KOSTENLOSE_ABHOLUNG'\n",
      " 'SUCHE_Karosse_Karosserie_Stockcar_Auto_Unfall_Teilespender'\n",
      " 'Suche_verkehrstaugliches_Fahrzeug_mit_TÜV' 'VW_Bus_zum_ausschlachten'\n",
      " 'BMW_SCHILD' 'Motorhaube' 'zum_aus_schlachten' 'Suche_kleines_Auto'\n",
      " 'Suche_rote_Audi_A4_Limosine__Unfall_egal_Hauptsache_mit_TÜV'\n",
      " '323_coupe_e36' 'Ford_Mondeo_Kombi_Schlachtfahrzeug_1_8_Motor_laeuft'\n",
      " 'Golf_Stockcar_/_Auto_Cross_/_Rennen_/_Hobby'\n",
      " 'suche_ein_kleines__guenstiges_auto_mit_tuev_MUss_AUTOMATIK_SEIN'\n",
      " 'Verschenke_Fiat_Uno_Polterauto'\n",
      " 'Suche_Trabant_zum_restaurieren...alles_anbieten!!!'\n",
      " 'Suche_Allrad_Fahrzeug' 'Dachgepaecktraeger_vom_Barkas!'\n",
      " 'Fiat_Barchetta_\"Schlachtfest\"' 'SUCHE_Mopedauto'\n",
      " 'Nehme_alte_autos_zu_verschenken_gerne'\n",
      " 'Autos_zum_Ausschlachten_oder_als_Bastlerfahrzeuge'\n",
      " 'Suche_guenstig_ein_auto' 'Trabbant_gelb' 'ALTFAHRTZEUGE__ALLER_ART'\n",
      " 'Suche_kleines_Familienauto' 'Renault_Laguna_zum_schlachten__Export_'\n",
      " 'Suche_Auto_mit_Tuev' 'ICH_SUCHE_AUTOS' 'Hyundai__Pony_GSI'\n",
      " 'SAMSUNG_55\\x93_3D_Tv_und_Soundbar_gegen_Auto' 'Ford_escord_xr3i_Sport'\n",
      " 'Suche_Opel_Rekord_E_2_0E' 'Charleston_Pick_Up_Ente_2CV'\n",
      " 'Suche_Menschen_mit_Herz_und_Auto_;_'\n",
      " 'Polo_86c_Coupe_mit_original_Glasschiebedach' 'SUCHE_AUTO_MIT_TÜV'\n",
      " 'Suche_Peugeot_206+_Plus__mit_60Ps' 'Ankauf_von_Fahrzeugen_aller_Art'\n",
      " 'KOSTENLOSE_ABHOLUNG_ALTFAHRZEUGE__ALLER_ART' 'Suche_OMEGA!!!'\n",
      " 'kaufen_alle_Auto' 'Biete_Fahrzeugsuche_fuer_jeden.' 'Ford_Ka_kein_TÜV'\n",
      " 'Suche_Auto' 'Suchen_auto_/_sprinter_zur_Mietung_mit_Ahk'\n",
      " 'Suche_Golf_auch_Unfall_usw_..'\n",
      " 'SUCHE_Caddy_karosse_14d_1er_in_Top_zustand' 'Schrottgolf_zu_Verschenken'\n",
      " 'Ford_Mondeo_Kombi_Schlachtfahrzeug_1_8_Motor_laeuft'\n",
      " 'ALTFAHRZEUG_ABHOLUNG_KOSTENLOS' 'Gelaendewagen_Toyota_hilux'\n",
      " 'Suche_audi_avant' 'Suche_golf_2_oder_caddy_2' 'Familie_sucht_ein_Auto']\n",
      "Year: 1911\n",
      "['Cameron_2_sitziger_Roaster_1911']\n",
      "Year: 1912\n",
      "[]\n",
      "Year: 1913\n",
      "[]\n",
      "Year: 1914\n",
      "[]\n",
      "Year: 1915\n",
      "['NAG_Protos']\n",
      "Year: 1916\n",
      "[]\n",
      "Year: 1917\n",
      "[]\n",
      "Year: 1918\n",
      "[]\n",
      "Year: 1919\n",
      "['Ford_Model_T_1919']\n",
      "Year: 1920\n",
      "['Ihr_auto_hat_Probleme_Dan_sind_sie_bei_uns_genau_richtig']\n",
      "Year: 1921\n",
      "[]\n",
      "Year: 1922\n",
      "[]\n",
      "Year: 1923\n",
      "['Andere_Delahaye_Tourer' 'Oldtimer_Citroen_C3_Bj.1923_Restauriert'\n",
      " 'Citroën_C3']\n",
      "Year: 1924\n",
      "[]\n",
      "Year: 1925\n",
      "['Andere_Andere']\n",
      "Year: 1926\n",
      "[]\n",
      "Year: 1927\n",
      "['Hot_Rod_Model_T_Coupe' 'Essex_super_six__Ford_A']\n",
      "Year: 1928\n",
      "['Oldtimer_Citroen_B14G__1928__umrestauriert' '1928_Ford_Model_A']\n",
      "Year: 1929\n",
      "['Oldtimer_Citroën_F_AC_4_Bj_29' 'Andere_Essex_Super_Six' 'BMW_Andere'\n",
      " 'Mercedes_SS_Oldtimer'\n",
      " 'Ford_Model_A_Roadster__Bj1929__Motor_fuer_ueber8000__\\x80_ueberholt_!!!'\n",
      " 'BMW_DIXI_CABRIO' 'Chevrolet_Coach_Gangsterlimousine_Hot_Rod_V8_V6'\n",
      " 'BMW_DIXI_OLDTIMER']\n",
      "Year: 1930\n",
      "['Peugeot_201_Pickup__Angefangene_Restauration_' 'Hochbett' 'Ford_Andere'\n",
      " 'Oldtimer__Ford_Model_A_speedster' 'Ford_Model_A']\n",
      "Year: 1931\n",
      "['Oltimer_mit_Dampf_Chevy_Hod_Rod_Street_Rod_Bj.1931_V8___H_Zulass.'\n",
      " 'Ford_Ford_Model_A_1931_Sedan_Hot_Rod_V8_Flathead'\n",
      " '1931_Ford_Model_A_Cabrio_Pick_up_Projekt'\n",
      " 'Ford_Model_A_Roadster_Deluxe_1931']\n",
      "Year: 1932\n",
      "['BMW_Dixi' '1932_Ford_Roadster_Hotrod' 'Ford_Cabrio'\n",
      " 'Peugeot_301__Baujahr_ca._1932']\n",
      "Year: 1933\n",
      "['Andere_Adler_Trumpf_1_7_AV___sehr_selten__top_Zustand'\n",
      " 'Andere_Horch_830' 'Fiat_508_selten' 'Ford_Andere'\n",
      " 'Opel_Adam_LG12_4_Tuerer_Oldtimer' 'Opel_Type_1290']\n",
      "Year: 1934\n",
      "['Hot_rod__citroen_rosalie__oldtimer__Rad_rod_'\n",
      " 'Sehr_seltener_Oldtimer_Opel_1210_zum_Restaurieren'\n",
      " 'Hanomag_rekord_15k_Suche_ersatz_teile' 'Mercedes_Benz_290_B'\n",
      " 'Hotrod_Hot_Rod_1934_Ford_5_Window_all_steel']\n",
      "Year: 1935\n",
      "['Andere_Oldtimer__DKW__F5_Cabrio_Sammlerstueck' '1935_ford_truck_hot_rod'\n",
      " 'Oldtimer_Adler_Trumpf_Junior_Teilcabrio_zu_verkaufen_von_1935'\n",
      " 'Opel_Type_1290' 'Opel_P4_Oldtimer_Baujahr_1935__guter_Zustand!'\n",
      " 'Chevrolet_Holden_Vorkriegsfahrzeug']\n",
      "Year: 1936\n",
      "['Opel_Olympia_Cabrio_1936_Top_Zustand'\n",
      " 'Andere_1936_PACKARD_Eight_Sedan_14th_Serie_NOTE_2+_TOP' 'Fiat_500'\n",
      " 'Andere_Hanomag_Rekord_Cabriolet_Oldtimer' 'Fiat_Ardita_518L'\n",
      " 'Opel_vorkriegs_Fahrzeug__Oldtimer___P4' 'Ente_zu_verkaufen__']\n",
      "Year: 1937\n",
      "['Ford_V8_Cabrio_im_restaurierten_Topzustand' 'Opel_Andere'\n",
      " 'Ford_Andere_Eifel_Typ_C'\n",
      " 'Ranchero_ford_V8_rostfrei_bj_1968_ganz_original' 'MG_Andere'\n",
      " 'Mercedes_Benz_170V'\n",
      " 'Dodge_1937_Hotrod_Flathead_Scheunenfund_Oldtimer_kein_Ford'\n",
      " 'Andere_1937_DKW_F5_700_Meisterklasse'\n",
      " 'DKW_F7_als_Ersatzteiltraeger_gegen_Gebot' 'Opel_P4_im_Originalzustand'\n",
      " 'Buick__special_business_coupe_Flat_eight'\n",
      " 'Ford_Business_Coupe_Hotrod_Projekt.1937'\n",
      " 'Mercedes_Benz_170V___Vorkriegsmodell']\n",
      "Year: 1938\n",
      "['Peugeot_202_von_Januar_1938' 'Andere_Oldtimer' 'DKW_Reichsklasse_F7'\n",
      " 'Andere_DKW_F8__IFA__Oldtimer' 'Oldtimer_Sport___Cabrio_Georges_Irat'\n",
      " 'Oldtimer_Opel_Kadett_K38__seltener_4_tuerer__Spezial_Limousine'\n",
      " 'Austin_Big_Seven_Sixlite' 'Opel_kadett_po_renovaci']\n",
      "Year: 1939\n",
      "['***Mercedes_W_143__230_Sonnenschein_Limousine***'\n",
      " 'Andere_DKW_F8_Cabrio_Limosine' 'Buick_Century_Sport_Coupè_66_S'\n",
      " 'Audi_DKW']\n",
      "Year: 1940\n",
      "['Oldsmobile_Adler_Trumpf_Junior'\n",
      " '1940_Ford_Deluxe_Sedan_V8_Flat_Eight_*no_Hot_Rod*']\n",
      "Year: 1941\n",
      "['Andere_GAZ_Oldtimergelaendewagen_1941' 'Dodge_hotrod_Pick_Up'\n",
      " 'Mercedes_Benz_L1500S_Wehrmacht_/_Luftwaffe___Flughafenfeuerwehr'\n",
      " 'WIllys_Jeep']\n",
      "Year: 1942\n",
      "['willys_jeep_bj.1942_army_armee_oldtimer'\n",
      " 'Jeep_willys_jeep_bj.1942_army_armee_oldtimer' 'Willys_Jeep']\n",
      "Year: 1943\n",
      "['Jeep_Willys_H_Kennzeichen__EZ.1943_TÜV_neu__kein_Rost'\n",
      " 'Volkswagen_Volkswagen__Schwimmwagen_166' 'Volkswagen__VW_Typ_82'\n",
      " 'Dodge_WC_52_Lohner_Fernmeldewagen__US_Army'\n",
      " 'Oldtimer_Unikat_Volkswagen_Anfibio_Schwimmwagen_166_kein_kuebel']\n",
      "Year: 1944\n",
      "['GAZ_67_sehr_selten' 'Oldtimer_Aero_30_Roadster_1938']\n",
      "Year: 1945\n",
      "['Volkswagen_Andere_typ82' 'Schlachtfest_Opel_astra_f'\n",
      " 'volkswagen_kuebelwagen_type82_kdf_kuebel_oldtimer_wehrmacht'\n",
      " 'Jeep_Willys' 'Tempo_Dreirad_A400_Bj_1945']\n",
      "Year: 1946\n",
      "['Oldtimer_1946_Buick_Roadmaster_Sedanette_2_Door_Raritaet_Hot_Rod'\n",
      " 'Oldtimer_LKW_Opel_Blitz_Kipper']\n",
      "Year: 1947\n",
      "['OPEL_BLITZ_1_5t__Wehrmacht___Kuebelwagen__' 'MG_TC_Roadster' 'MG_TC'\n",
      " 'Ford_Super_Deluxe_Coupe_Flathead_V8_TÜV_H_Zulassung_Hot_Rod'\n",
      " 'Oldtimer_DeSoto']\n",
      "Year: 1948\n",
      "['Andere_Simca_5_Fourgonette_Kombilimousine' 'Chevrolet_Andere'\n",
      " 'Opel_corsa' 'BUICK_ROADMASTER_PROJEKT']\n",
      "Year: 1949\n",
      "['Chrysler_Windsor_Oldtimer'\n",
      " 'Chevrolet_Pick_up__Serie_3100___V8_Motor__Bj.1949'\n",
      " 'Andere_packard_22_super_eicht']\n"
     ]
    }
   ],
   "source": [
    "# As the first car was built in 1885, check every year separately to manually inspect whether the entries make sense or not.\n",
    "for year in range(1885, 1950):\n",
    "    print('Year: {}'.format(year))\n",
    "    print(df_autos[df_autos['yearOfRegistration'] == year].name.values)"
   ]
  },
  {
   "cell_type": "markdown",
   "metadata": {},
   "source": [
    "It looks like everything offer that has year <=1910 is clearly not a real car offer with correct data. Those columns are dropped lateron. The same applies to entries with year > 2016, those are also obviously incorrect, as the dataset originates form 2016. So only rows with 1910 < year <2017 are kept, the rest is dropped."
   ]
  },
  {
   "cell_type": "code",
   "execution_count": 10,
   "metadata": {},
   "outputs": [
    {
     "name": "stdout",
     "output_type": "stream",
     "text": [
      "dateCrawled: <class 'str'>\n",
      "name: <class 'str'>\n",
      "seller: <class 'str'>\n",
      "offerType: <class 'str'>\n",
      "price: <class 'numpy.int64'>\n",
      "abtest: <class 'str'>\n",
      "vehicleType: <class 'float'>\n",
      "yearOfRegistration: <class 'numpy.int64'>\n",
      "gearbox: <class 'str'>\n",
      "powerPS: <class 'numpy.int64'>\n",
      "model: <class 'str'>\n",
      "kilometer: <class 'numpy.int64'>\n",
      "monthOfRegistration: <class 'numpy.int64'>\n",
      "fuelType: <class 'str'>\n",
      "brand: <class 'str'>\n",
      "notRepairedDamage: <class 'float'>\n",
      "dateCreated: <class 'str'>\n",
      "nrOfPictures: <class 'numpy.int64'>\n",
      "postalCode: <class 'numpy.int64'>\n",
      "lastSeen: <class 'str'>\n"
     ]
    }
   ],
   "source": [
    "# Check data types of all columns:\n",
    "for col in df_autos.columns:\n",
    "    print(col + ': ' + str(type(df_autos[col].values[0])))"
   ]
  },
  {
   "cell_type": "markdown",
   "metadata": {},
   "source": [
    "The data types look fine, for the general analysis no further work is needed. It will be needed though for the prediction task."
   ]
  },
  {
   "cell_type": "markdown",
   "metadata": {},
   "source": [
    "## Step 3: Data Preparation\n",
    "\n",
    "By using the insights gathered above, the data is being prepared for further analysis."
   ]
  },
  {
   "cell_type": "markdown",
   "metadata": {},
   "source": [
    "### General Data Preparation for all Questions"
   ]
  },
  {
   "cell_type": "code",
   "execution_count": 11,
   "metadata": {},
   "outputs": [
    {
     "name": "stdout",
     "output_type": "stream",
     "text": [
      "371528\n",
      "371516\n"
     ]
    }
   ],
   "source": [
    "# Drop rows that are requests and keep offers. Check whether 12 rows are removed.\n",
    "print(df_autos.shape[0])\n",
    "df_autos = df_autos[df_autos.offerType != 'Gesuch']\n",
    "print(df_autos.shape[0])"
   ]
  },
  {
   "cell_type": "code",
   "execution_count": 12,
   "metadata": {},
   "outputs": [
    {
     "name": "stdout",
     "output_type": "stream",
     "text": [
      "20\n",
      "11\n"
     ]
    }
   ],
   "source": [
    "# Drop all pf the above named columns. Check number of columns.\n",
    "print(df_autos.shape[1])\n",
    "remove_cols = ['offerType', 'abtest', 'nrOfPictures', 'seller', 'dateCrawled',\n",
    "               'monthOfRegistration', 'dateCreated', 'lastSeen', 'name']\n",
    "df_autos = df_autos.drop(columns=remove_cols)\n",
    "print(df_autos.shape[1])"
   ]
  },
  {
   "cell_type": "code",
   "execution_count": 13,
   "metadata": {},
   "outputs": [
    {
     "name": "stdout",
     "output_type": "stream",
     "text": [
      "371516\n",
      "356664\n"
     ]
    }
   ],
   "source": [
    "# Drop rows with years that do not make sense.\n",
    "print(len(df_autos))\n",
    "df_autos = df_autos[df_autos['yearOfRegistration'] > 1910]\n",
    "df_autos = df_autos[df_autos['yearOfRegistration'] < 2017]\n",
    "print(len(df_autos))"
   ]
  },
  {
   "cell_type": "code",
   "execution_count": 14,
   "metadata": {},
   "outputs": [
    {
     "data": {
      "text/html": [
       "<div>\n",
       "<style scoped>\n",
       "    .dataframe tbody tr th:only-of-type {\n",
       "        vertical-align: middle;\n",
       "    }\n",
       "\n",
       "    .dataframe tbody tr th {\n",
       "        vertical-align: top;\n",
       "    }\n",
       "\n",
       "    .dataframe thead th {\n",
       "        text-align: right;\n",
       "    }\n",
       "</style>\n",
       "<table border=\"1\" class=\"dataframe\">\n",
       "  <thead>\n",
       "    <tr style=\"text-align: right;\">\n",
       "      <th></th>\n",
       "      <th>price</th>\n",
       "      <th>vehicleType</th>\n",
       "      <th>yearOfRegistration</th>\n",
       "      <th>gearbox</th>\n",
       "      <th>powerPS</th>\n",
       "      <th>model</th>\n",
       "      <th>kilometer</th>\n",
       "      <th>fuelType</th>\n",
       "      <th>brand</th>\n",
       "      <th>notRepairedDamage</th>\n",
       "      <th>postalCode</th>\n",
       "    </tr>\n",
       "  </thead>\n",
       "  <tbody>\n",
       "    <tr>\n",
       "      <td>0</td>\n",
       "      <td>480</td>\n",
       "      <td>NaN</td>\n",
       "      <td>1993</td>\n",
       "      <td>manuell</td>\n",
       "      <td>0</td>\n",
       "      <td>golf</td>\n",
       "      <td>150000</td>\n",
       "      <td>benzin</td>\n",
       "      <td>volkswagen</td>\n",
       "      <td>NaN</td>\n",
       "      <td>70435</td>\n",
       "    </tr>\n",
       "    <tr>\n",
       "      <td>1</td>\n",
       "      <td>18300</td>\n",
       "      <td>coupe</td>\n",
       "      <td>2011</td>\n",
       "      <td>manuell</td>\n",
       "      <td>190</td>\n",
       "      <td>NaN</td>\n",
       "      <td>125000</td>\n",
       "      <td>diesel</td>\n",
       "      <td>audi</td>\n",
       "      <td>ja</td>\n",
       "      <td>66954</td>\n",
       "    </tr>\n",
       "    <tr>\n",
       "      <td>2</td>\n",
       "      <td>9800</td>\n",
       "      <td>suv</td>\n",
       "      <td>2004</td>\n",
       "      <td>automatik</td>\n",
       "      <td>163</td>\n",
       "      <td>grand</td>\n",
       "      <td>125000</td>\n",
       "      <td>diesel</td>\n",
       "      <td>jeep</td>\n",
       "      <td>NaN</td>\n",
       "      <td>90480</td>\n",
       "    </tr>\n",
       "    <tr>\n",
       "      <td>3</td>\n",
       "      <td>1500</td>\n",
       "      <td>kleinwagen</td>\n",
       "      <td>2001</td>\n",
       "      <td>manuell</td>\n",
       "      <td>75</td>\n",
       "      <td>golf</td>\n",
       "      <td>150000</td>\n",
       "      <td>benzin</td>\n",
       "      <td>volkswagen</td>\n",
       "      <td>nein</td>\n",
       "      <td>91074</td>\n",
       "    </tr>\n",
       "    <tr>\n",
       "      <td>4</td>\n",
       "      <td>3600</td>\n",
       "      <td>kleinwagen</td>\n",
       "      <td>2008</td>\n",
       "      <td>manuell</td>\n",
       "      <td>69</td>\n",
       "      <td>fabia</td>\n",
       "      <td>90000</td>\n",
       "      <td>diesel</td>\n",
       "      <td>skoda</td>\n",
       "      <td>nein</td>\n",
       "      <td>60437</td>\n",
       "    </tr>\n",
       "  </tbody>\n",
       "</table>\n",
       "</div>"
      ],
      "text/plain": [
       "   price vehicleType  yearOfRegistration    gearbox  powerPS  model  \\\n",
       "0    480         NaN                1993    manuell        0   golf   \n",
       "1  18300       coupe                2011    manuell      190    NaN   \n",
       "2   9800         suv                2004  automatik      163  grand   \n",
       "3   1500  kleinwagen                2001    manuell       75   golf   \n",
       "4   3600  kleinwagen                2008    manuell       69  fabia   \n",
       "\n",
       "   kilometer fuelType       brand notRepairedDamage  postalCode  \n",
       "0     150000   benzin  volkswagen               NaN       70435  \n",
       "1     125000   diesel        audi                ja       66954  \n",
       "2     125000   diesel        jeep               NaN       90480  \n",
       "3     150000   benzin  volkswagen              nein       91074  \n",
       "4      90000   diesel       skoda              nein       60437  "
      ]
     },
     "execution_count": 14,
     "metadata": {},
     "output_type": "execute_result"
    }
   ],
   "source": [
    "# Display data again:\n",
    "df_autos.head()"
   ]
  },
  {
   "cell_type": "markdown",
   "metadata": {},
   "source": [
    "As I want to make an analysis on local features, only the ZIP-Code as in 'postalCode' is not sufficient. By using a dataset on german Zip-Codes with, I will add more detailed information on the locations. The dataset PLZ.tab used here is available on: http://opengeodb.org/wiki/PLZ.tab"
   ]
  },
  {
   "cell_type": "code",
   "execution_count": 15,
   "metadata": {},
   "outputs": [
    {
     "data": {
      "text/html": [
       "<div>\n",
       "<style scoped>\n",
       "    .dataframe tbody tr th:only-of-type {\n",
       "        vertical-align: middle;\n",
       "    }\n",
       "\n",
       "    .dataframe tbody tr th {\n",
       "        vertical-align: top;\n",
       "    }\n",
       "\n",
       "    .dataframe thead th {\n",
       "        text-align: right;\n",
       "    }\n",
       "</style>\n",
       "<table border=\"1\" class=\"dataframe\">\n",
       "  <thead>\n",
       "    <tr style=\"text-align: right;\">\n",
       "      <th></th>\n",
       "      <th>#loc_id</th>\n",
       "      <th>plz</th>\n",
       "      <th>lon</th>\n",
       "      <th>lat</th>\n",
       "      <th>Ort</th>\n",
       "    </tr>\n",
       "  </thead>\n",
       "  <tbody>\n",
       "    <tr>\n",
       "      <td>0</td>\n",
       "      <td>5078</td>\n",
       "      <td>1067</td>\n",
       "      <td>13.721068</td>\n",
       "      <td>51.060034</td>\n",
       "      <td>Dresden</td>\n",
       "    </tr>\n",
       "    <tr>\n",
       "      <td>1</td>\n",
       "      <td>5079</td>\n",
       "      <td>1069</td>\n",
       "      <td>13.738907</td>\n",
       "      <td>51.039559</td>\n",
       "      <td>Dresden</td>\n",
       "    </tr>\n",
       "    <tr>\n",
       "      <td>2</td>\n",
       "      <td>5080</td>\n",
       "      <td>1097</td>\n",
       "      <td>13.743967</td>\n",
       "      <td>51.066745</td>\n",
       "      <td>Dresden</td>\n",
       "    </tr>\n",
       "    <tr>\n",
       "      <td>3</td>\n",
       "      <td>5081</td>\n",
       "      <td>1099</td>\n",
       "      <td>13.828980</td>\n",
       "      <td>51.092619</td>\n",
       "      <td>Dresden</td>\n",
       "    </tr>\n",
       "    <tr>\n",
       "      <td>4</td>\n",
       "      <td>153646</td>\n",
       "      <td>1108</td>\n",
       "      <td>13.828980</td>\n",
       "      <td>51.092619</td>\n",
       "      <td>Dresden</td>\n",
       "    </tr>\n",
       "  </tbody>\n",
       "</table>\n",
       "</div>"
      ],
      "text/plain": [
       "   #loc_id   plz        lon        lat      Ort\n",
       "0     5078  1067  13.721068  51.060034  Dresden\n",
       "1     5079  1069  13.738907  51.039559  Dresden\n",
       "2     5080  1097  13.743967  51.066745  Dresden\n",
       "3     5081  1099  13.828980  51.092619  Dresden\n",
       "4   153646  1108  13.828980  51.092619  Dresden"
      ]
     },
     "execution_count": 15,
     "metadata": {},
     "output_type": "execute_result"
    }
   ],
   "source": [
    "# Load in dataset\n",
    "df_zips = pd.read_csv('PLZ.tab', encoding='ISO-8859-1', sep='\\t')\n",
    "df_zips.head()"
   ]
  },
  {
   "cell_type": "code",
   "execution_count": 16,
   "metadata": {},
   "outputs": [
    {
     "data": {
      "text/html": [
       "<div>\n",
       "<style scoped>\n",
       "    .dataframe tbody tr th:only-of-type {\n",
       "        vertical-align: middle;\n",
       "    }\n",
       "\n",
       "    .dataframe tbody tr th {\n",
       "        vertical-align: top;\n",
       "    }\n",
       "\n",
       "    .dataframe thead th {\n",
       "        text-align: right;\n",
       "    }\n",
       "</style>\n",
       "<table border=\"1\" class=\"dataframe\">\n",
       "  <thead>\n",
       "    <tr style=\"text-align: right;\">\n",
       "      <th></th>\n",
       "      <th>price</th>\n",
       "      <th>vehicleType</th>\n",
       "      <th>yearOfRegistration</th>\n",
       "      <th>gearbox</th>\n",
       "      <th>powerPS</th>\n",
       "      <th>model</th>\n",
       "      <th>kilometer</th>\n",
       "      <th>fuelType</th>\n",
       "      <th>brand</th>\n",
       "      <th>notRepairedDamage</th>\n",
       "      <th>postalCode</th>\n",
       "      <th>lon</th>\n",
       "      <th>lat</th>\n",
       "      <th>Ort</th>\n",
       "    </tr>\n",
       "  </thead>\n",
       "  <tbody>\n",
       "    <tr>\n",
       "      <td>0</td>\n",
       "      <td>480</td>\n",
       "      <td>NaN</td>\n",
       "      <td>1993</td>\n",
       "      <td>manuell</td>\n",
       "      <td>0</td>\n",
       "      <td>golf</td>\n",
       "      <td>150000</td>\n",
       "      <td>benzin</td>\n",
       "      <td>volkswagen</td>\n",
       "      <td>NaN</td>\n",
       "      <td>70435</td>\n",
       "      <td>9.159157</td>\n",
       "      <td>48.830653</td>\n",
       "      <td>Stuttgart</td>\n",
       "    </tr>\n",
       "    <tr>\n",
       "      <td>1</td>\n",
       "      <td>250</td>\n",
       "      <td>kleinwagen</td>\n",
       "      <td>1999</td>\n",
       "      <td>manuell</td>\n",
       "      <td>60</td>\n",
       "      <td>fiesta</td>\n",
       "      <td>150000</td>\n",
       "      <td>benzin</td>\n",
       "      <td>ford</td>\n",
       "      <td>ja</td>\n",
       "      <td>70435</td>\n",
       "      <td>9.159157</td>\n",
       "      <td>48.830653</td>\n",
       "      <td>Stuttgart</td>\n",
       "    </tr>\n",
       "    <tr>\n",
       "      <td>2</td>\n",
       "      <td>2500</td>\n",
       "      <td>kleinwagen</td>\n",
       "      <td>2004</td>\n",
       "      <td>manuell</td>\n",
       "      <td>54</td>\n",
       "      <td>panda</td>\n",
       "      <td>80000</td>\n",
       "      <td>benzin</td>\n",
       "      <td>fiat</td>\n",
       "      <td>nein</td>\n",
       "      <td>70435</td>\n",
       "      <td>9.159157</td>\n",
       "      <td>48.830653</td>\n",
       "      <td>Stuttgart</td>\n",
       "    </tr>\n",
       "    <tr>\n",
       "      <td>3</td>\n",
       "      <td>1800</td>\n",
       "      <td>kleinwagen</td>\n",
       "      <td>2001</td>\n",
       "      <td>manuell</td>\n",
       "      <td>125</td>\n",
       "      <td>corsa</td>\n",
       "      <td>150000</td>\n",
       "      <td>benzin</td>\n",
       "      <td>opel</td>\n",
       "      <td>nein</td>\n",
       "      <td>70435</td>\n",
       "      <td>9.159157</td>\n",
       "      <td>48.830653</td>\n",
       "      <td>Stuttgart</td>\n",
       "    </tr>\n",
       "    <tr>\n",
       "      <td>4</td>\n",
       "      <td>18300</td>\n",
       "      <td>suv</td>\n",
       "      <td>2007</td>\n",
       "      <td>automatik</td>\n",
       "      <td>426</td>\n",
       "      <td>grand</td>\n",
       "      <td>100000</td>\n",
       "      <td>benzin</td>\n",
       "      <td>jeep</td>\n",
       "      <td>nein</td>\n",
       "      <td>70435</td>\n",
       "      <td>9.159157</td>\n",
       "      <td>48.830653</td>\n",
       "      <td>Stuttgart</td>\n",
       "    </tr>\n",
       "  </tbody>\n",
       "</table>\n",
       "</div>"
      ],
      "text/plain": [
       "   price vehicleType  yearOfRegistration    gearbox  powerPS   model  \\\n",
       "0    480         NaN                1993    manuell        0    golf   \n",
       "1    250  kleinwagen                1999    manuell       60  fiesta   \n",
       "2   2500  kleinwagen                2004    manuell       54   panda   \n",
       "3   1800  kleinwagen                2001    manuell      125   corsa   \n",
       "4  18300         suv                2007  automatik      426   grand   \n",
       "\n",
       "   kilometer fuelType       brand notRepairedDamage  postalCode       lon  \\\n",
       "0     150000   benzin  volkswagen               NaN       70435  9.159157   \n",
       "1     150000   benzin        ford                ja       70435  9.159157   \n",
       "2      80000   benzin        fiat              nein       70435  9.159157   \n",
       "3     150000   benzin        opel              nein       70435  9.159157   \n",
       "4     100000   benzin        jeep              nein       70435  9.159157   \n",
       "\n",
       "         lat        Ort  \n",
       "0  48.830653  Stuttgart  \n",
       "1  48.830653  Stuttgart  \n",
       "2  48.830653  Stuttgart  \n",
       "3  48.830653  Stuttgart  \n",
       "4  48.830653  Stuttgart  "
      ]
     },
     "execution_count": 16,
     "metadata": {},
     "output_type": "execute_result"
    }
   ],
   "source": [
    "# Drop the unneeded column #loc_id\n",
    "df_zips = df_zips.drop(columns='#loc_id')\n",
    "# Merge with the auto-dataset on 'postalCode' and 'plz' and create a new DataFrame from it\n",
    "df_autos_locs = pd.merge(df_autos, df_zips, left_on='postalCode', right_on='plz')\n",
    "df_autos_locs = df_autos_locs.drop(columns='plz')\n",
    "df_autos_locs.rename(columns={'Ort': 'city'})\n",
    "df_autos_locs.head()"
   ]
  },
  {
   "cell_type": "code",
   "execution_count": 26,
   "metadata": {
    "scrolled": true
   },
   "outputs": [
    {
     "data": {
      "text/plain": [
       "(356473, 14)"
      ]
     },
     "execution_count": 26,
     "metadata": {},
     "output_type": "execute_result"
    }
   ],
   "source": [
    "df_autos_locs.shape"
   ]
  },
  {
   "cell_type": "markdown",
   "metadata": {},
   "source": [
    "The number of rows decreased some, from 356664 rows before merging to 356473 afterwards. As there are no explicit NaN-values in the Zip-Codes, it is most likely that this is due to ZIP-Codes, that could not be matched. I assume that those are erratic or non-existing ZIP-codes. As that number is quite low anyways, that is fine."
   ]
  },
  {
   "cell_type": "markdown",
   "metadata": {},
   "source": [
    "### Specific Data Preparation to predict prizes"
   ]
  },
  {
   "cell_type": "code",
   "execution_count": 18,
   "metadata": {},
   "outputs": [],
   "source": [
    "# Placeholder\n",
    "#\n",
    "#\n",
    "#\n",
    "#\n",
    "#\n",
    "#\n",
    "#\n",
    "#"
   ]
  },
  {
   "cell_type": "markdown",
   "metadata": {},
   "source": [
    "## Step 4: Modeling\n",
    "\n",
    "In this section, the analysis itself will be executed. First I will deal with the analytical questions and afterwards the prize-prediction will be implemented."
   ]
  },
  {
   "cell_type": "markdown",
   "metadata": {},
   "source": [
    "### Function definitions for later usage"
   ]
  },
  {
   "cell_type": "code",
   "execution_count": 19,
   "metadata": {},
   "outputs": [],
   "source": [
    "# Define function to count the unique values of a dataframe and return in a sorted fashion. Also drop NaNs before.\n",
    "def count_col_vals(df, col):\n",
    "    # Drop NaNs and return number of dropped rows and remaining rows\n",
    "    len_before = len(df)\n",
    "    df = df.dropna(subset=[col])\n",
    "    print('Dropped {} NaN-Rows for column {}.'.format(len_before - len(df), col))\n",
    "    print('Number of remaining rows is {}.'.format(len(df)))\n",
    "    # Sort and count\n",
    "    data_labels, data_counts = np.unique(df[col],return_counts=True)\n",
    "    d = {'labels': data_labels, 'counts': data_counts}\n",
    "    df_result = pd.DataFrame(data=d).sort_values(by='counts').reset_index(drop=True)\n",
    "    df_result['percentage'] = df_result['counts'] / sum(df_result['counts'])\n",
    "    # Print in descending order and return df\n",
    "    print()\n",
    "    print(df_result.iloc[::-1])\n",
    "    return df_result"
   ]
  },
  {
   "cell_type": "code",
   "execution_count": 20,
   "metadata": {},
   "outputs": [],
   "source": [
    "# Define function to plot barchart from dataframe\n",
    "def plot_barchart(data_labels, data_counts, y_label, chart_title, height=10):\n",
    "    y_pos = np.arange(len(data_labels))\n",
    "    plt.figure(figsize=(20,height))\n",
    "    plt.barh(y_pos, data_counts, align='center', alpha=1)    \n",
    "    plt.yticks(y_pos, data_labels)\n",
    "    plt.xlabel('Count')\n",
    "    plt.ylabel(y_label)\n",
    "    plt.title(chart_title)    \n",
    "    plt.show()"
   ]
  },
  {
   "cell_type": "markdown",
   "metadata": {},
   "source": [
    "### Q1: What are the most common vehicle types?"
   ]
  },
  {
   "cell_type": "code",
   "execution_count": 21,
   "metadata": {},
   "outputs": [
    {
     "name": "stdout",
     "output_type": "stream",
     "text": [
      "Dropped 23058 NaN-Rows for column vehicleType.\n",
      "Number of remaining rows is 333606.\n",
      "\n",
      "       labels  counts  percentage\n",
      "7   limousine   95886    0.287423\n",
      "6  kleinwagen   80008    0.239828\n",
      "5       kombi   67558    0.202508\n",
      "4         bus   30194    0.090508\n",
      "3      cabrio   22896    0.068632\n",
      "2       coupe   19011    0.056986\n",
      "1         suv   14703    0.044073\n",
      "0      andere    3350    0.010042\n"
     ]
    }
   ],
   "source": [
    "df_types_results = count_col_vals(df_autos, 'vehicleType')"
   ]
  },
  {
   "cell_type": "code",
   "execution_count": 22,
   "metadata": {
    "scrolled": false
   },
   "outputs": [
    {
     "data": {
      "image/png": "[encoded data removed]",
      "text/plain": [
       "<Figure size 1440x720 with 1 Axes>"
      ]
     },
     "metadata": {
      "needs_background": "light"
     },
     "output_type": "display_data"
    }
   ],
   "source": [
    "#Plot barchart\n",
    "plot_title = 'Vehicle types with numbers on german used car market'\n",
    "plot_barchart(df_types_results.labels, df_types_results.counts, 'Vehicle type', plot_title)"
   ]
  },
  {
   "cell_type": "markdown",
   "metadata": {},
   "source": [
    "### Q2: Which brands are predominant on the german used cars market? Are there differences in average price?"
   ]
  },
  {
   "cell_type": "code",
   "execution_count": 23,
   "metadata": {
    "scrolled": false
   },
   "outputs": [
    {
     "name": "stdout",
     "output_type": "stream",
     "text": [
      "Dropped 0 NaN-Rows for column brand.\n",
      "Number of remaining rows is 356664.\n",
      "\n",
      "            labels  counts  percentage\n",
      "39      volkswagen   75754    0.212396\n",
      "38             bmw   39131    0.109714\n",
      "37            opel   38191    0.107078\n",
      "36   mercedes_benz   34232    0.095978\n",
      "35            audi   31873    0.089364\n",
      "34            ford   24557    0.068852\n",
      "33         renault   16964    0.047563\n",
      "32         peugeot   10652    0.029866\n",
      "31            fiat    9187    0.025758\n",
      "30            seat    6647    0.018637\n",
      "29           skoda    5497    0.015412\n",
      "28           mazda    5476    0.015353\n",
      "27           smart    5032    0.014109\n",
      "26         citroen    4949    0.013876\n",
      "25          nissan    4841    0.013573\n",
      "24          toyota    4547    0.012749\n",
      "23  sonstige_autos    3761    0.010545\n",
      "22         hyundai    3505    0.009827\n",
      "21            mini    3286    0.009213\n",
      "20           volvo    3257    0.009132\n",
      "19      mitsubishi    2948    0.008265\n",
      "18           honda    2707    0.007590\n",
      "17             kia    2454    0.006880\n",
      "16      alfa_romeo    2263    0.006345\n",
      "15          suzuki    2254    0.006320\n",
      "14         porsche    2194    0.006151\n",
      "13       chevrolet    1789    0.005016\n",
      "12        chrysler    1406    0.003942\n",
      "11           dacia     874    0.002450\n",
      "10        daihatsu     780    0.002187\n",
      "9             jeep     779    0.002184\n",
      "8       land_rover     762    0.002136\n",
      "7           subaru     757    0.002122\n",
      "6           jaguar     614    0.001722\n",
      "5          trabant     571    0.001601\n",
      "4             saab     518    0.001452\n",
      "3           daewoo     513    0.001438\n",
      "2            rover     463    0.001298\n",
      "1           lancia     461    0.001293\n",
      "0             lada     218    0.000611\n"
     ]
    },
    {
     "data": {
      "image/png": "[encoded data removed]",
      "text/plain": [
       "<Figure size 1440x1440 with 1 Axes>"
      ]
     },
     "metadata": {
      "needs_background": "light"
     },
     "output_type": "display_data"
    }
   ],
   "source": [
    "df_brands_results = count_col_vals(df_autos, 'brand')\n",
    "plot_title = 'Brands with numbers on german used car market'\n",
    "plot_barchart(df_brands_results.labels, df_brands_results.counts, 'Brand', plot_title, 20)"
   ]
  },
  {
   "cell_type": "markdown",
   "metadata": {},
   "source": [
    "### Q3: What is the average age of cars on the german used cars market?"
   ]
  },
  {
   "cell_type": "code",
   "execution_count": 44,
   "metadata": {},
   "outputs": [
    {
     "data": {
      "image/png": "[encoded data removed]",
      "text/plain": [
       "<Figure size 1440x720 with 1 Axes>"
      ]
     },
     "metadata": {
      "needs_background": "light"
     },
     "output_type": "display_data"
    }
   ],
   "source": [
    "# Create age column and plot age-histrogram\n",
    "df_autos['age'] = 2016 - df_autos['yearOfRegistration']\n",
    "plt.figure(figsize=(20,10))\n",
    "bins = plt.hist(df_autos['age'], bins=50, histtype='bar')"
   ]
  },
  {
   "cell_type": "markdown",
   "metadata": {},
   "source": [
    "The definitition for an \"Oldtimer\"-car varies, but commonly it is defined as cars with an age of more than 30 years. So display a histogram of non-Oldtimer cats only."
   ]
  },
  {
   "cell_type": "code",
   "execution_count": 49,
   "metadata": {},
   "outputs": [
    {
     "data": {
      "image/png": "[encoded data removed]",
      "text/plain": [
       "<Figure size 1440x720 with 1 Axes>"
      ]
     },
     "metadata": {
      "needs_background": "light"
     },
     "output_type": "display_data"
    }
   ],
   "source": [
    "# Display non-Oldtimer cars only\n",
    "n_years = 30\n",
    "plt.figure(figsize=(20,10))\n",
    "bins = plt.hist(df_autos[df_autos['age'] < n_years].age, bins=n_years, histtype='bar')"
   ]
  },
  {
   "cell_type": "code",
   "execution_count": 56,
   "metadata": {},
   "outputs": [
    {
     "name": "stdout",
     "output_type": "stream",
     "text": [
      "count    356664.000000\n",
      "mean       2002.806972\n",
      "std           7.225029\n",
      "min        1911.000000\n",
      "25%        1999.000000\n",
      "50%        2003.000000\n",
      "75%        2008.000000\n",
      "max        2016.000000\n",
      "Name: yearOfRegistration, dtype: float64\n",
      "\n",
      "count    356664.000000\n",
      "mean         13.193028\n",
      "std           7.225029\n",
      "min           0.000000\n",
      "25%           8.000000\n",
      "50%          13.000000\n",
      "75%          17.000000\n",
      "max         105.000000\n",
      "Name: age, dtype: float64\n"
     ]
    }
   ],
   "source": [
    "# Display descriptive statistics on the yearOfRegistration and age\n",
    "print(df_autos['yearOfRegistration'].describe())\n",
    "print()\n",
    "print(df_autos['age'].describe())"
   ]
  }
 ],
 "metadata": {
  "kernelspec": {
   "display_name": "Python 3",
   "language": "python",
   "name": "python3"
  },
  "language_info": {
   "codemirror_mode": {
    "name": "ipython",
    "version": 3
   },
   "file_extension": ".py",
   "mimetype": "text/x-python",
   "name": "python",
   "nbconvert_exporter": "python",
   "pygments_lexer": "ipython3",
   "version": "3.7.3"
  }
 },
 "nbformat": 4,
 "nbformat_minor": 1
}
